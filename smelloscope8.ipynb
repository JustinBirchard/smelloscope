{
 "cells": [
  {
   "cell_type": "code",
   "execution_count": 1,
   "id": "67732576-c241-40ed-82f1-78afcc0212b8",
   "metadata": {},
   "outputs": [
    {
     "name": "stdout",
     "output_type": "stream",
     "text": [
      "WARNING! Breaking changes incoming! Especially avoid using kwargs, since some of them will change.\n",
      "For more information see the official documentation at: https://openbb-finance.github.io/OpenBBTerminal/api/\n"
     ]
    }
   ],
   "source": [
    "from openbb_terminal.api import openbb\n",
    "from company import Company\n",
    "\n",
    "from IPython.display import display\n"
   ]
  },
  {
   "cell_type": "code",
   "execution_count": 2,
   "id": "634a204e-7629-4fff-aac2-c9d86cfbf4d4",
   "metadata": {
    "jupyter": {
     "source_hidden": true
    },
    "tags": []
   },
   "outputs": [],
   "source": [
    "# https://developer.twitter.com\n",
    "# API_TWITTER_KEY = \"cl1F94kpMHTrkLGasn2IxUNoh\"\n",
    "# API_TWITTER_SECRET_KEY = \"AdPl5u6aavlymJ6L7uCyuyzRIIpXHGOKs0btqs2Abu4876BAFb\"\n",
    "# API_TWITTER_BEARER_TOKEN = \"AAAAAAAAAAAAAAAAAAAAAKffhwEAAAAAuCtW%2FeTKWuX35ZzFvKTFUKBvOq0%3DHmO1Shm5Fsa8u90G9MLh5ql1LmSPTF8xrMtrOJSl81gnLpOjV0\"\n"
   ]
  },
  {
   "cell_type": "code",
   "execution_count": 4,
   "id": "0dbd27c7-6fe4-4b95-8ae4-ce344c77c2f1",
   "metadata": {},
   "outputs": [
    {
     "data": {
      "text/html": [
       "<pre style=\"white-space:pre;overflow-x:auto;line-height:normal;font-family:Menlo,'DejaVu Sans Mono',consolas,'Courier New',monospace\"><span style=\"color: #808000; text-decoration-color: #808000\">Fetching data. Please be patient</span>\n",
       "\n",
       "</pre>\n"
      ],
      "text/plain": [
       "\u001b[33mFetching data. Please be patient\u001b[0m\n",
       "\n"
      ]
     },
     "metadata": {},
     "output_type": "display_data"
    },
    {
     "data": {
      "text/html": [
       "<pre style=\"white-space:pre;overflow-x:auto;line-height:normal;font-family:Menlo,'DejaVu Sans Mono',consolas,'Courier New',monospace\"><span style=\"color: #808000; text-decoration-color: #808000\">Fetching data. Please be patient</span>\n",
       "\n",
       "</pre>\n"
      ],
      "text/plain": [
       "\u001b[33mFetching data. Please be patient\u001b[0m\n",
       "\n"
      ]
     },
     "metadata": {},
     "output_type": "display_data"
    },
    {
     "data": {
      "text/html": [
       "<pre style=\"white-space:pre;overflow-x:auto;line-height:normal;font-family:Menlo,'DejaVu Sans Mono',consolas,'Courier New',monospace\"><span style=\"color: #808000; text-decoration-color: #808000\">Fetching data. Please be patient</span>\n",
       "\n",
       "</pre>\n"
      ],
      "text/plain": [
       "\u001b[33mFetching data. Please be patient\u001b[0m\n",
       "\n"
      ]
     },
     "metadata": {},
     "output_type": "display_data"
    },
    {
     "data": {
      "text/html": [
       "<pre style=\"white-space:pre;overflow-x:auto;line-height:normal;font-family:Menlo,'DejaVu Sans Mono',consolas,'Courier New',monospace\">Ticker should be a NASDAQ 100 ticker or SP 500 ticker \n",
       "\n",
       "</pre>\n"
      ],
      "text/plain": [
       "Ticker should be a NASDAQ 100 ticker or SP 500 ticker \n",
       "\n"
      ]
     },
     "metadata": {},
     "output_type": "display_data"
    },
    {
     "data": {
      "text/html": [
       "<pre style=\"white-space:pre;overflow-x:auto;line-height:normal;font-family:Menlo,'DejaVu Sans Mono',consolas,'Courier New',monospace\"><span style=\"color: #808000; text-decoration-color: #808000\">Fetching data. Please be patient</span>\n",
       "\n",
       "</pre>\n"
      ],
      "text/plain": [
       "\u001b[33mFetching data. Please be patient\u001b[0m\n",
       "\n"
      ]
     },
     "metadata": {},
     "output_type": "display_data"
    },
    {
     "data": {
      "text/html": [
       "<pre style=\"white-space:pre;overflow-x:auto;line-height:normal;font-family:Menlo,'DejaVu Sans Mono',consolas,'Courier New',monospace\">Ticker should be a NASDAQ 100 ticker or SP 500 ticker \n",
       "\n",
       "</pre>\n"
      ],
      "text/plain": [
       "Ticker should be a NASDAQ 100 ticker or SP 500 ticker \n",
       "\n"
      ]
     },
     "metadata": {},
     "output_type": "display_data"
    }
   ],
   "source": [
    "peers = [('MSFT', 1), ('DIS', 2), ('TDOC', 3), ('VEEV', 4)]\n",
    "\n",
    "for company in peers:\n",
    "    \n",
    "    stock = company[0]\n",
    "    slot = company[1]\n",
    "\n",
    "    # Retreiving data as custom DataFrames:\n",
    "    df_quote = openbb.stocks.fa.quote(stock)\n",
    "    df_quote = df_quote.loc[['Symbol', 'Price', 'Market cap']]\n",
    "\n",
    "    df_data = openbb.stocks.fa.data(stock)\n",
    "    \n",
    "    try:\n",
    "        df_data = df_data.loc[['Profit Margin', 'Insider Own', 'Insider Trans', 'Short Float', 'Inst Own', 'Inst Trans']]\n",
    "        \n",
    "    except:\n",
    "        df_data = df_data.loc[['Insider Own', 'Insider Trans', 'Short Float', 'Inst Own', 'Inst Trans']]\n",
    "        \n",
    "\n",
    "    df_metrics = openbb.stocks.fa.fmp_metrics(stock)    \n",
    "    # Case for creating df_metrics depends on whether data is available\n",
    "    try: \n",
    "        df_metrics = df_metrics.loc[['Book value per share', 'Ptb ratio', 'Pe ratio', 'Pfcf ratio', 'Dividend yield', 'Roe', 'Return on tangible assets', 'Current ratio', 'Debt to equity', 'Price to sales ratio']]\n",
    "    \n",
    "    # For some reason 'Dividend yield' is not returned for all companies with dividends\n",
    "    except:\n",
    "        df_metrics = df_metrics.loc[['Book value per share', 'Ptb ratio', 'Pe ratio', 'Pfcf ratio', 'Roe', 'Return on tangible assets', 'Current ratio', 'Debt to equity', 'Price to sales ratio']]\n",
    "        \n",
    "        \n",
    "    df_balance = openbb.stocks.fa.yf_financials(stock, \"balance-sheet\")\n",
    "    # If company has no long term debt 0 will be assigned to associated variable\n",
    "    try:\n",
    "        df_balance = df_balance.loc[['Total current assets', 'Long-term debt']]\n",
    "        tca = df_balance.loc['Total current assets'][0]\n",
    "        tld = df_balance.loc['Long-term debt'][0]\n",
    "        \n",
    "    except:\n",
    "        df_balance = df_balance.loc[['Total current assets']]\n",
    "        tca = df_balance.loc['Total current assets'][0]\n",
    "        tld = 0\n",
    "\n",
    "    df_divs = openbb.stocks.fa.divs(stock)\n",
    "\n",
    "    df_profile = openbb.stocks.fa.profile(stock)\n",
    "    df_profile = df_profile.loc[['companyName', 'sector', 'industry']]\n",
    "\n",
    "    # using df_profile to get companyName used for search string\n",
    "    df_news = openbb.common.news(df_profile.loc['companyName', 0], sort='published')\n",
    "\n",
    "    # Retreiving data as custom Series:\n",
    "    s_income = openbb.stocks.fa.fmp_income(stock)\n",
    "    s_income = s_income.loc['Gross profit ratio']\n",
    "\n",
    "    # s_analyst = openbb.stocks.dd.analyst(\"MSFT\")\n",
    "    #s_analyst = s_analyst.T\n",
    "    # s_analyst = s_analyst.loc['rating']\n",
    "\n",
    "    s_rot = openbb.stocks.dd.rot(stock)\n",
    "    s_rot = s_rot.T\n",
    "    s_rot = s_rot[0]\n",
    "\n",
    "    s_key = openbb.stocks.fa.av_metrics(stock)\n",
    "    s_key = s_key.loc['Dividend yield']\n",
    "\n",
    "    # Getting Stock Twits sentiment as a float:\n",
    "    f_twits = openbb.stocks.ba.bullbear(stock)\n",
    "    f_twits_percent = f_twits[2] / f_twits[1]\n",
    "\n",
    "    # Warren Buffet Investing Score\n",
    "    wb_score = openbb.stocks.fa.score(stock)\n",
    "    if wb_score is None:\n",
    "        wb_score = 'n/a'\n",
    "\n",
    "    # creating ratings list\n",
    "    s_rating = openbb.stocks.dd.rating(stock)\n",
    "    s_rating = s_rating.T\n",
    "    s_rating = s_rating.loc['Rating']\n",
    "\n",
    "    ratings_list = []\n",
    "    for i in range(0, 5):\n",
    "        ratings_list.append(s_rating[i])\n",
    "\n",
    "    if slot == 1:\n",
    "\n",
    "        company1 = Company(df_profile.loc['companyName'][0], df_quote.loc['Symbol'][0], df_quote.loc['Market cap'][0], df_quote.loc['Price'][0],\n",
    "                         tca, tld)\n",
    "\n",
    "    elif slot == 2:\n",
    "\n",
    "        company2 = Company(df_profile.loc['companyName'][0], df_quote.loc['Symbol'][0], df_quote.loc['Market cap'][0], df_quote.loc['Price'][0],\n",
    "                         tca, tld)   \n",
    "\n",
    "    elif slot == 3:\n",
    "\n",
    "        company3 = Company(df_profile.loc['companyName'][0], df_quote.loc['Symbol'][0], df_quote.loc['Market cap'][0], df_quote.loc['Price'][0],\n",
    "                         tca, tld)\n",
    "        \n",
    "    elif slot == 4:\n",
    "\n",
    "        company4 = Company(df_profile.loc['companyName'][0], df_quote.loc['Symbol'][0], df_quote.loc['Market cap'][0], df_quote.loc['Price'][0],\n",
    "                         tca, tld)   "
   ]
  },
  {
   "cell_type": "code",
   "execution_count": 14,
   "id": "60c4bfe4-b013-4bc0-badd-aa90b96f7155",
   "metadata": {},
   "outputs": [
    {
     "data": {
      "text/plain": [
       "'Microsoft Corporation'"
      ]
     },
     "execution_count": 14,
     "metadata": {},
     "output_type": "execute_result"
    }
   ],
   "source": [
    "company1.fullname"
   ]
  },
  {
   "cell_type": "code",
   "execution_count": null,
   "id": "1ce61ae2-7895-42ae-a71d-645c25fe1d47",
   "metadata": {},
   "outputs": [],
   "source": []
  },
  {
   "cell_type": "code",
   "execution_count": null,
   "id": "e838a437-b548-401e-88d6-1373e0d698d7",
   "metadata": {},
   "outputs": [],
   "source": [
    "def display_df(dataframes):\n",
    "    for df in dataframes:\n",
    "        display(df)\n",
    "        print('\\n')\n",
    "\n",
    "def display_s(list_of_series):\n",
    "    for series in list_of_series:\n",
    "        display(series)\n",
    "        print('\\n')\n",
    "\n",
    "def display_f(forumlaic_value):\n",
    "    for value in forumlaic_value:\n",
    "        print(str(value) + '\\n')\n",
    "    \n"
   ]
  },
  {
   "cell_type": "code",
   "execution_count": null,
   "id": "30b27ff1-adf6-4d07-971d-a68887a4450e",
   "metadata": {},
   "outputs": [],
   "source": [
    "dataframes = [df_quote, df_data, df_metrics, df_balance, df_divs, df_profile] \n",
    "\n",
    "series = [s_income, s_rating, s_rot]\n",
    "\n",
    "formulaic = [f_twits_percent]\n",
    "\n",
    "\n"
   ]
  },
  {
   "cell_type": "code",
   "execution_count": null,
   "id": "5b14890f-8223-444a-bb29-ae3c3db4da01",
   "metadata": {},
   "outputs": [],
   "source": [
    "display_df(dataframes)\n",
    "display_s(series)\n",
    "display_f(formulaic)\n",
    "ratings_list\n",
    "wb_score"
   ]
  },
  {
   "cell_type": "code",
   "execution_count": null,
   "id": "b8ac8035-7676-474a-b4d5-5e27a0d6fd5d",
   "metadata": {},
   "outputs": [],
   "source": []
  },
  {
   "cell_type": "code",
   "execution_count": null,
   "id": "66ba9307-c1b4-4450-8804-ff9f897cf64f",
   "metadata": {},
   "outputs": [],
   "source": []
  },
  {
   "cell_type": "code",
   "execution_count": null,
   "id": "2ef45935-83c1-424a-b6da-1116707a615f",
   "metadata": {},
   "outputs": [],
   "source": []
  },
  {
   "cell_type": "code",
   "execution_count": null,
   "id": "683df9ad-01b4-4d7f-ae6c-21657690b4e4",
   "metadata": {},
   "outputs": [],
   "source": []
  },
  {
   "cell_type": "code",
   "execution_count": null,
   "id": "d53170db-2b48-4ff8-bda3-7c9f645f5cac",
   "metadata": {},
   "outputs": [],
   "source": []
  },
  {
   "cell_type": "code",
   "execution_count": null,
   "id": "a1d51c1d-a981-4543-a444-dc7c39c8feb5",
   "metadata": {},
   "outputs": [],
   "source": []
  }
 ],
 "metadata": {
  "kernelspec": {
   "display_name": "Python 3 (ipykernel)",
   "language": "python",
   "name": "python3"
  },
  "language_info": {
   "codemirror_mode": {
    "name": "ipython",
    "version": 3
   },
   "file_extension": ".py",
   "mimetype": "text/x-python",
   "name": "python",
   "nbconvert_exporter": "python",
   "pygments_lexer": "ipython3",
   "version": "3.9.13"
  }
 },
 "nbformat": 4,
 "nbformat_minor": 5
}
