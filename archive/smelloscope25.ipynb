{
 "cells": [
  {
   "cell_type": "code",
   "execution_count": 1,
   "id": "67732576-c241-40ed-82f1-78afcc0212b8",
   "metadata": {},
   "outputs": [
    {
     "name": "stdout",
     "output_type": "stream",
     "text": [
      "WARNING! Breaking changes incoming! Especially avoid using kwargs, since some of them will change.\n",
      "For more information see the official documentation at: https://openbb-finance.github.io/OpenBBTerminal/api/\n"
     ]
    }
   ],
   "source": [
    "import pandas as pd\n",
    "from openbb_terminal.api import openbb\n",
    "from company import Company\n",
    "\n",
    "from IPython.display import display\n"
   ]
  },
  {
   "cell_type": "code",
   "execution_count": 2,
   "id": "0dbd27c7-6fe4-4b95-8ae4-ce344c77c2f1",
   "metadata": {},
   "outputs": [
    {
     "data": {
      "text/html": [
       "<pre style=\"white-space:pre;overflow-x:auto;line-height:normal;font-family:Menlo,'DejaVu Sans Mono',consolas,'Courier New',monospace\"><span style=\"color: #808000; text-decoration-color: #808000\">Fetching data. Please be patient</span>\n",
       "\n",
       "</pre>\n"
      ],
      "text/plain": [
       "\u001b[33mFetching data. Please be patient\u001b[0m\n",
       "\n"
      ]
     },
     "metadata": {},
     "output_type": "display_data"
    },
    {
     "data": {
      "text/html": [
       "<pre style=\"white-space:pre;overflow-x:auto;line-height:normal;font-family:Menlo,'DejaVu Sans Mono',consolas,'Courier New',monospace\"><span style=\"color: #808000; text-decoration-color: #808000\">Fetching data. Please be patient</span>\n",
       "\n",
       "</pre>\n"
      ],
      "text/plain": [
       "\u001b[33mFetching data. Please be patient\u001b[0m\n",
       "\n"
      ]
     },
     "metadata": {},
     "output_type": "display_data"
    },
    {
     "data": {
      "text/html": [
       "<pre style=\"white-space:pre;overflow-x:auto;line-height:normal;font-family:Menlo,'DejaVu Sans Mono',consolas,'Courier New',monospace\"><span style=\"color: #808000; text-decoration-color: #808000\">Fetching data. Please be patient</span>\n",
       "\n",
       "</pre>\n"
      ],
      "text/plain": [
       "\u001b[33mFetching data. Please be patient\u001b[0m\n",
       "\n"
      ]
     },
     "metadata": {},
     "output_type": "display_data"
    },
    {
     "data": {
      "text/html": [
       "<pre style=\"white-space:pre;overflow-x:auto;line-height:normal;font-family:Menlo,'DejaVu Sans Mono',consolas,'Courier New',monospace\">Ticker should be a NASDAQ 100 ticker or SP 500 ticker \n",
       "\n",
       "</pre>\n"
      ],
      "text/plain": [
       "Ticker should be a NASDAQ 100 ticker or SP 500 ticker \n",
       "\n"
      ]
     },
     "metadata": {},
     "output_type": "display_data"
    }
   ],
   "source": [
    "peers = [('VEEV', 1)] #, ('SPB', 2), ('SPCE', 3), ('ETSY', 4)]\n",
    "\n",
    "for company in peers:\n",
    "    \n",
    "    stock = company[0]\n",
    "    slot = company[1]\n",
    "\n",
    "############## *** setting variables that hold dataframes: *** ###################\n",
    "    df_balance = openbb.stocks.fa.yf_financials(stock, \"balance-sheet\") \n",
    "    df_data = openbb.stocks.fa.data(stock) # keys called later: 'Profit Margin', 'Insider Own', 'Insider Trans', 'Short Float', 'Inst Own', 'Inst Trans', 'Dividend'\n",
    "    df_divs = openbb.stocks.fa.divs(stock)\n",
    "    df_income = openbb.stocks.fa.fmp_income(stock) # keys called later: 'Gross profit ratio'\n",
    "    \n",
    "    \n",
    "    df_metrics = openbb.stocks.fa.fmp_metrics(stock) # keys called later: 'Book value per share', 'Ptb ratio', 'Pe ratio', \n",
    "                                                     # 'Pfcf ratio', 'Dividend yield', 'Roe', 'Return on tangible assets', \n",
    "                                                     # 'Current ratio', 'Debt to equity', 'Price to sales ratio'\n",
    "                                                                           \n",
    "    # fmp api will throw error and return an empty list instead of requested dataframe      \n",
    "    if not isinstance(df_metrics, pd.DataFrame):\n",
    "        raise TypeError('Dag nabbit!' + ' ' + stock + ' is not available via FMP api. Failed to build df_metrics')\n",
    "        \n",
    "    # Where possible, converting strings to floats in df_metrics    \n",
    "    float_error_set = set() \n",
    "    for column in df_metrics.columns:\n",
    "        \n",
    "        for row in df_metrics.index:\n",
    "            \n",
    "            try:\n",
    "                df_metrics[column][row] = float(df_metrics[column][row])\n",
    "                \n",
    "            except ValueError: # catching the row name of any row that cannot be converted to float\n",
    "                float_error_set.add(row)\n",
    "                \n",
    "    df_metrics_discarded = pd.DataFrame() # will hold the data we're removing from df_metrics in case we want it later\n",
    "    for row in float_error_set: # Adding appropriate rows to the new dataframe\n",
    "        df_metrics_discarded[row] = df_metrics.loc[row]\n",
    "\n",
    "    df_metrics_discarded = df_metrics_discarded.T # transposing so it matches format of df_metrics\n",
    "    \n",
    "    # Removing any row from df_metrics where values cannot be converted to float\n",
    "    df_metrics = df_metrics.drop(index= float_error_set)\n",
    "    \n",
    "    # Creating new column that will hold the average of each row\n",
    "    df_metrics['5yr Avg'] = df_metrics.mean(axis=1)\n",
    "                \n",
    "    df_profile = openbb.stocks.fa.profile(stock) # keys called later: 'companyName', 'sector', 'industry' \n",
    "    df_quote = openbb.stocks.fa.quote(stock) # keys called later: 'Price', 'Market cap'\n",
    "\n",
    "############## *** setting variables that hold raw data sequences: *** ###########\n",
    "\n",
    "    # Getting Stock Twits sentiment data as a tuple:\n",
    "    tuple_twits = openbb.stocks.ba.bullbear(stock)\n",
    "\n",
    "##################################################################################    \n",
    "############## *** setting variables that we'll add to company objects: *** ######  \n",
    "##################################################################################         \n",
    "    \n",
    "############## *** BASIC DETAILS *** ##############\n",
    "\n",
    "    name = df_profile.loc['companyName'][0]\n",
    "    ticker = stock\n",
    "    sector = df_profile.loc['sector'][0]\n",
    "    industry = df_profile.loc['industry'][0]\n",
    "    cap = df_quote.loc['Market cap'][0]\n",
    "    price = df_quote.loc['Price'][0]\n",
    "    \n",
    "    # Series will be added to company object\n",
    "    s_basic = pd.Series({'name': name, 'ticker': ticker, 'sector': sector, 'industry': industry, 'cap': cap, 'price': price})\n",
    "    \n",
    "############## *** VALUE METRICS *** ##############\n",
    "\n",
    "    try: # If company has no long term debt 0 will be assigned to associated variable\n",
    "        tca = df_balance.loc['Total current assets'][0]\n",
    "        tld = df_balance.loc['Long-term debt'][0]\n",
    "        \n",
    "    except KeyError:\n",
    "        tca = df_balance.loc['Total current assets'][0]\n",
    "        tld = 0     \n",
    "\n",
    "    tca_m_tld = tca - tld    \n",
    "\n",
    "    ptb_mrq = df_data.loc['P/B'][0]\n",
    "    ptb_ttm = df_metrics.loc['Ptb ratio'][0]\n",
    "    ptb_5yr_avg = df_metrics.loc['Ptb ratio']['5yr Avg']\n",
    "\n",
    "    bvps_mrq = df_data.loc['Book/sh'][0]\n",
    "    bvps_ttm = df_metrics.loc['Book value per share'][0]\n",
    "    bvps_5yr_avg = df_metrics.loc['Book value per share']['5yr Avg']\n",
    "    \n",
    "    try: # Because some companies do not have earnings\n",
    "        pe_mrq = df_data.loc['P/E'][0]\n",
    "        pe_ttm = df_metrics.loc['Pe ratio'][0]\n",
    "        pe_5yr_avg = df_metrics.loc['Pe ratio']['5yr Avg']\n",
    "        \n",
    "    except KeyError:\n",
    "        pe_mrq = 'n/a'\n",
    "        pe_ttm = 'n/a'\n",
    "        pe_5yr_avg = 'n/a'\n",
    "        \n",
    "    try: \n",
    "        pfcf_mrq = df_data.loc['P/FCF'][0]\n",
    "        pfcf_ttm = df_metrics.loc['Pfcf ratio'][0]\n",
    "        pfcf_5yr_avg = df_metrics.loc['Pfcf ratio']['5yr Avg']\n",
    "        \n",
    "    except KeyError:\n",
    "        pfcf_mrq = 'n/a'\n",
    "        pfcf_ttm = 'n/a'\n",
    "        pfcf_5yr_avg = 'n/a'\n",
    "    \n",
    "    try: # Because some companies do not have sales\n",
    "        pts_mrq = df_data.loc['P/S'][0]\n",
    "        pts_ttm = df_metrics.loc['Price to sales ratio'][0]\n",
    "        pts_5yr_avg = df_metrics.loc['Price to sales ratio']['5yr Avg']\n",
    "        \n",
    "    except KeyError:\n",
    "        pts_mrq = 'n/a'\n",
    "        pts_ttm = 'n/a'\n",
    "        pts_5r_avg = 'n/a'\n",
    "\n",
    "    # Series will be added to company object    \n",
    "    s_value = pd.Series({'tca': tca, 'tld': tld, 'tca_m_tld': tca_m_tld, 'ptb_mrq': ptb_mrq, 'ptb_ttm': ptb_ttm, 'ptb_5yr_avg': ptb_5yr_avg,\n",
    "                         'bvps_mrq': bvps_mrq, 'bvps_ttm': bvps_ttm, 'bvps_5yr_avg': bvps_5yr_avg, 'pe_mrq': pe_mrq, 'pe_ttm': pe_ttm, 'pe_5yr_avg': pe_5yr_avg,\n",
    "                         'pfcf_mrq': pfcf_mrq, 'pfcf_ttm': pfcf_ttm, 'pfcf_5yr_avg': pfcf_5yr_avg, 'pts_mrq': pts_mrq, 'pts_ttm': pts_ttm, 'pts_5yr_avg': pts_5yr_avg})\n",
    "        \n",
    "############## *** MANAGEMENT METRICS *** ##############\n",
    "\n",
    "    roe = df_metrics.loc['Roe'][0]\n",
    "    roa = df_metrics.loc['Return on tangible assets'][0]\n",
    "    gpr = df_income.loc['Gross profit ratio'][0]\n",
    "    \n",
    "    try: # Some companies are do not have profit margin\n",
    "        pm = df_data.loc['Profit Margin'][0]\n",
    "        \n",
    "    except KeyError:\n",
    "        pm = '0%'\n",
    "\n",
    "    cr = df_metrics.loc['Current ratio'][0]\n",
    "    dte = df_metrics.loc['Debt to equity'][0]\n",
    "        \n",
    "############## *** INSIDER DATA *** ##############\n",
    "\n",
    "    io = df_data.loc['Insider Own'][0]\n",
    "    it = df_data.loc['Insider Trans'][0]\n",
    "    \n",
    "    try:\n",
    "        inst_o = df_data.loc['Inst Own'][0]\n",
    "        \n",
    "    except KeyError:\n",
    "        inst_o = 'n/a'\n",
    "     \n",
    "    try:\n",
    "        inst_t = df_data.loc['Inst Trans'][0]\n",
    "        \n",
    "    except KeyError:\n",
    "        inst_o = 'n/a'\n",
    "    \n",
    "############## *** DIVIDEND DATA *** ##############\n",
    "\n",
    "    try: # If company provides no dividend 0 will be assigned\n",
    "        div = df_data.loc['Dividend'][0]\n",
    "    \n",
    "    except KeyError:\n",
    "        div = 0\n",
    "   \n",
    "    try: # If company provides no dividend 0 will be assigned\n",
    "        div_y = df_metrics.loc['Dividend yield'][0]\n",
    "        \n",
    "    except KeyError:\n",
    "        div_y = 0\n",
    "        \n",
    "    div_h = df_divs\n",
    "    \n",
    "############## *** PUBLIC SENTIMENT & SHORT INTEREST DATA *** ##############\n",
    "    \n",
    "    if tuple_twits[1] != 0 and tuple_twits[2] != 0: # Normal case\n",
    "        twits_perc = tuple_twits[2] / tuple_twits[1]\n",
    "        \n",
    "    elif tuple_twits[1] == 0: # Case for if there are no ratings\n",
    "        twits_perc = 'Not Rated'\n",
    "        \n",
    "    elif tuple_twits[2] == 0: # Case for if all ratings are bearish\n",
    "        twits_perc = 0\n",
    "        \n",
    "    shrt_int = df_data.loc['Short Float'][0]\n",
    "        \n",
    "############## *** COMPANY, SECTOR, INDUSTRY NEWS & SENTIMENT *** ##############\n",
    "\n",
    "    # using df_profile to get companyName used for search string\n",
    "    df_company_news = openbb.common.news(df_profile.loc['companyName', 0], sort='published')\n",
    "    df_company_news = df_company_news.head(20)        \n",
    "    \n",
    "    # using df_profile to get sector used for search string\n",
    "    df_sector_news = openbb.common.news(df_profile.loc['sector', 0] + 'Sector News Stock Market', sort='published')\n",
    "    df_sector_news = df_sector_news.head(50)\n",
    "    \n",
    "    # using df_profile to get industry used for search string\n",
    "    df_industry_news = openbb.common.news(df_profile.loc['industry', 0] + 'Industry News Stock Market', sort='published')\n",
    "    df_industry_news = df_industry_news.head(50)  \n",
    "\n",
    "    # Getting sentiment from last 10 days of news articles\n",
    "    df_news_sent = openbb.stocks.ba.headlines(stock)\n",
    "    sent_list = []\n",
    "\n",
    "    for i in df_news_sent.index:\n",
    "        sent_list.append(float(df_news_sent.loc[i][0]))\n",
    "        \n",
    "    news_sent = sum(sent_list)/len(sent_list)\n",
    "\n",
    "############## *** ANALYST RATINGS *** ##############\n",
    "\n",
    "    # creating ratings list which contains analyst ratings from last 10 days\n",
    "    df_rating = openbb.stocks.dd.rating(stock)\n",
    "    df_rating = df_rating.T\n",
    "    df_rating = df_rating.loc['Rating']\n",
    "\n",
    "    ratings_list = []\n",
    "    for i in range(0, 10):\n",
    "        ratings_list.append(df_rating[i])\n",
    "\n",
    "    # Analyst recommendation totals by type over last 3 months\n",
    "    df_rot = openbb.stocks.dd.rot(stock)\n",
    "    df_rot = df_rot.T\n",
    "    df_rot = df_rot[0]\n",
    "    rot_dict = {'Strong Buy': df_rot['strongBuy'], 'Buy': df_rot['buy'], 'Hold': df_rot['hold'], 'Sell': df_rot['sell'], 'Strong Sell': df_rot['strongSell']}\n",
    "\n",
    "    # Warren Buffet Investing Score\n",
    "    wb_score = openbb.stocks.fa.score(stock)\n",
    "    if wb_score is None:\n",
    "        wb_score = 'n/a'       \n",
    "\n"
   ]
  },
  {
   "cell_type": "code",
   "execution_count": 3,
   "id": "0dd46e19-86c1-43ee-9b05-217cff4bfd68",
   "metadata": {},
   "outputs": [
    {
     "data": {
      "text/plain": [
       "tca             3107183000.0\n",
       "tld                        0\n",
       "tca_m_tld       3107183000.0\n",
       "ptb_mrq                 7.54\n",
       "ptb_ttm               11.934\n",
       "ptb_5yr_avg          13.9042\n",
       "bvps_mrq               20.94\n",
       "bvps_ttm              19.325\n",
       "bvps_5yr_avg         12.0858\n",
       "pe_mrq                 57.05\n",
       "pe_ttm                81.299\n",
       "pe_5yr_avg           82.6532\n",
       "pfcf_mrq               34.12\n",
       "pfcf_ttm              45.452\n",
       "pfcf_5yr_avg         55.3318\n",
       "pts_mrq                12.64\n",
       "pts_ttm               18.774\n",
       "pts_5yr_avg          20.5078\n",
       "dtype: object"
      ]
     },
     "execution_count": 3,
     "metadata": {},
     "output_type": "execute_result"
    }
   ],
   "source": [
    "s_value"
   ]
  },
  {
   "cell_type": "code",
   "execution_count": null,
   "id": "62cffc77-800a-4eff-b35e-93424f65926e",
   "metadata": {},
   "outputs": [],
   "source": [
    "##################################################################################    \n",
    "############## *** Creating Company objects: *** #################################  \n",
    "##################################################################################   \n",
    "    if slot == 1:\n",
    "\n",
    "        company1 = Company(name, ticker, sector, industry, cap, price,\n",
    "                           tca, tld, ptb, bvps, pe, pfcf, pts,\n",
    "                           roe, roa, gpr, pm, cr, dte,\n",
    "                           io, it, inst_o, inst_t,\n",
    "                           div, div_y, div_h,\n",
    "                           twits_perc, shrt_int,\n",
    "                           df_company_news, df_sector_news, df_industry_news, news_sent,\n",
    "                           ratings_list, rot_dict, wb_score)\n",
    "\n",
    "    elif slot == 2:\n",
    "\n",
    "        company2 = Company(name, ticker, sector, industry, cap, price,\n",
    "                           tca, tld, ptb, bvps, pe, pfcf, pts,\n",
    "                           roe, roa, gpr, pm, cr, dte,\n",
    "                           io, it, inst_o, inst_t,\n",
    "                           div, div_y, div_h,\n",
    "                           twits_perc, shrt_int,\n",
    "                           df_company_news, df_sector_news, df_industry_news, news_sent,\n",
    "                           ratings_list, rot_dict, wb_score)\n",
    "        \n",
    "    elif slot == 3:\n",
    "\n",
    "        company3 = Company(name, ticker, sector, industry, cap, price,\n",
    "                           tca, tld, ptb, bvps, pe, pfcf, pts,\n",
    "                           roe, roa, gpr, pm, cr, dte,\n",
    "                           io, it, inst_o, inst_t,\n",
    "                           div, div_y, div_h,\n",
    "                           twits_perc, shrt_int,\n",
    "                           df_company_news, df_sector_news, df_industry_news, news_sent,\n",
    "                           ratings_list, rot_dict, wb_score)\n",
    "        \n",
    "    elif slot == 4:\n",
    "\n",
    "        company4 = Company(name, ticker, sector, industry, cap, price,\n",
    "                           tca, tld, ptb, bvps, pe, pfcf, pts,\n",
    "                           roe, roa, gpr, pm, cr, dte,\n",
    "                           io, it, inst_o, inst_t,\n",
    "                           div, div_y, div_h,\n",
    "                           twits_perc, shrt_int,\n",
    "                           df_company_news, df_sector_news, df_industry_news, news_sent,\n",
    "                           ratings_list, rot_dict, wb_score)"
   ]
  },
  {
   "cell_type": "code",
   "execution_count": null,
   "id": "60c4bfe4-b013-4bc0-badd-aa90b96f7155",
   "metadata": {},
   "outputs": [],
   "source": [
    "print(company1.fullname, '   ', company1.rot_dict)\n",
    "print(company2.fullname, '   ', company2.rot_dict)\n",
    "print(company3.fullname, '   ', company3.rot_dict)\n",
    "print(company4.fullname, '   ', company4.rot_dict)"
   ]
  },
  {
   "cell_type": "code",
   "execution_count": null,
   "id": "8b5a1ff0-1e41-4f79-9027-9ab7b9d12409",
   "metadata": {},
   "outputs": [],
   "source": [
    "for x in [ptb_mrq, ptb_ttm, ptb_5yr_avg]:\n",
    "    print(x)"
   ]
  },
  {
   "cell_type": "code",
   "execution_count": null,
   "id": "9514c740-336e-4afe-8bd0-fd56f1ea55f1",
   "metadata": {},
   "outputs": [],
   "source": []
  },
  {
   "cell_type": "code",
   "execution_count": null,
   "id": "3765b4e9-95aa-46aa-9fd5-1c284dbfc1aa",
   "metadata": {},
   "outputs": [],
   "source": [
    "df_metrics"
   ]
  },
  {
   "cell_type": "code",
   "execution_count": null,
   "id": "784a1c9e-9557-40f9-8b97-282b344f49ad",
   "metadata": {},
   "outputs": [],
   "source": []
  },
  {
   "cell_type": "code",
   "execution_count": null,
   "id": "0d21f13e-9762-4da0-b85c-3afe096e3d33",
   "metadata": {},
   "outputs": [],
   "source": [
    "peer_list = openbb.stocks.sia.filter_stocks(\"United States\", \"Communication Services\", \"Internet Content & Information\", \"Large Cap\")"
   ]
  },
  {
   "cell_type": "code",
   "execution_count": null,
   "id": "1232f2f3-a430-4d35-9386-f3d38a37a688",
   "metadata": {},
   "outputs": [],
   "source": [
    "openbb.stocks.sia.stocks_data(peer_list, \"roa\")"
   ]
  },
  {
   "cell_type": "code",
   "execution_count": null,
   "id": "b26d4f69-26cd-479a-b445-86b24ac95e4b",
   "metadata": {},
   "outputs": [],
   "source": []
  },
  {
   "cell_type": "code",
   "execution_count": null,
   "id": "7bd9da6f-d464-4a99-9175-bc73a566c28f",
   "metadata": {},
   "outputs": [],
   "source": []
  },
  {
   "cell_type": "code",
   "execution_count": null,
   "id": "7840ecb1-79f5-4673-a8f1-d0932a8e44b4",
   "metadata": {},
   "outputs": [],
   "source": [
    "ptb"
   ]
  },
  {
   "cell_type": "code",
   "execution_count": null,
   "id": "ed16a479-268c-4257-8c2c-169a41b45ad3",
   "metadata": {},
   "outputs": [],
   "source": [
    "display(df_data)"
   ]
  },
  {
   "cell_type": "code",
   "execution_count": null,
   "id": "e838a437-b548-401e-88d6-1373e0d698d7",
   "metadata": {
    "jupyter": {
     "source_hidden": true
    },
    "tags": []
   },
   "outputs": [],
   "source": [
    "def display_df(dataframes):\n",
    "    for df in dataframes:\n",
    "        display(df)\n",
    "        print('\\n')\n",
    "\n",
    "def display_s(list_of_series):\n",
    "    for series in list_of_series:\n",
    "        display(series)\n",
    "        print('\\n')\n",
    "\n",
    "def display_f(forumlaic_value):\n",
    "    for value in forumlaic_value:\n",
    "        print(str(value) + '\\n')\n",
    "    \n"
   ]
  },
  {
   "cell_type": "code",
   "execution_count": null,
   "id": "30b27ff1-adf6-4d07-971d-a68887a4450e",
   "metadata": {
    "jupyter": {
     "source_hidden": true
    },
    "tags": []
   },
   "outputs": [],
   "source": [
    "dataframes = [df_quote, df_data, df_metrics, df_balance, df_divs, df_profile] \n",
    "\n",
    "series = [s_income, s_rating, s_rot]\n",
    "\n",
    "formulaic = [f_twits_percent]"
   ]
  },
  {
   "cell_type": "code",
   "execution_count": null,
   "id": "5b14890f-8223-444a-bb29-ae3c3db4da01",
   "metadata": {
    "jupyter": {
     "source_hidden": true
    },
    "tags": []
   },
   "outputs": [],
   "source": [
    "display_df(dataframes)\n",
    "display_s(series)\n",
    "display_f(formulaic)"
   ]
  }
 ],
 "metadata": {
  "kernelspec": {
   "display_name": "Python 3 (ipykernel)",
   "language": "python",
   "name": "python3"
  },
  "language_info": {
   "codemirror_mode": {
    "name": "ipython",
    "version": 3
   },
   "file_extension": ".py",
   "mimetype": "text/x-python",
   "name": "python",
   "nbconvert_exporter": "python",
   "pygments_lexer": "ipython3",
   "version": "3.9.13"
  }
 },
 "nbformat": 4,
 "nbformat_minor": 5
}
