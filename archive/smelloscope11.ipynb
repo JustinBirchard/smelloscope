{
 "cells": [
  {
   "cell_type": "code",
   "execution_count": 1,
   "id": "67732576-c241-40ed-82f1-78afcc0212b8",
   "metadata": {},
   "outputs": [
    {
     "name": "stdout",
     "output_type": "stream",
     "text": [
      "WARNING! Breaking changes incoming! Especially avoid using kwargs, since some of them will change.\n",
      "For more information see the official documentation at: https://openbb-finance.github.io/OpenBBTerminal/api/\n"
     ]
    }
   ],
   "source": [
    "from openbb_terminal.api import openbb\n",
    "from company import Company\n",
    "\n",
    "from IPython.display import display\n"
   ]
  },
  {
   "cell_type": "code",
   "execution_count": 2,
   "id": "634a204e-7629-4fff-aac2-c9d86cfbf4d4",
   "metadata": {
    "jupyter": {
     "source_hidden": true
    },
    "tags": []
   },
   "outputs": [],
   "source": [
    "# https://developer.twitter.com\n",
    "# API_TWITTER_KEY = \"cl1F94kpMHTrkLGasn2IxUNoh\"\n",
    "# API_TWITTER_SECRET_KEY = \"AdPl5u6aavlymJ6L7uCyuyzRIIpXHGOKs0btqs2Abu4876BAFb\"\n",
    "# API_TWITTER_BEARER_TOKEN = \"AAAAAAAAAAAAAAAAAAAAAKffhwEAAAAAuCtW%2FeTKWuX35ZzFvKTFUKBvOq0%3DHmO1Shm5Fsa8u90G9MLh5ql1LmSPTF8xrMtrOJSl81gnLpOjV0\"\n"
   ]
  },
  {
   "cell_type": "code",
   "execution_count": 3,
   "id": "0dbd27c7-6fe4-4b95-8ae4-ce344c77c2f1",
   "metadata": {},
   "outputs": [
    {
     "data": {
      "text/html": [
       "<pre style=\"white-space:pre;overflow-x:auto;line-height:normal;font-family:Menlo,'DejaVu Sans Mono',consolas,'Courier New',monospace\"><span style=\"color: #808000; text-decoration-color: #808000\">Fetching data. Please be patient</span>\n",
       "\n",
       "</pre>\n"
      ],
      "text/plain": [
       "\u001b[33mFetching data. Please be patient\u001b[0m\n",
       "\n"
      ]
     },
     "metadata": {},
     "output_type": "display_data"
    },
    {
     "data": {
      "text/html": [
       "<pre style=\"white-space:pre;overflow-x:auto;line-height:normal;font-family:Menlo,'DejaVu Sans Mono',consolas,'Courier New',monospace\"><span style=\"color: #808000; text-decoration-color: #808000\">Fetching data. Please be patient</span>\n",
       "\n",
       "</pre>\n"
      ],
      "text/plain": [
       "\u001b[33mFetching data. Please be patient\u001b[0m\n",
       "\n"
      ]
     },
     "metadata": {},
     "output_type": "display_data"
    },
    {
     "data": {
      "text/html": [
       "<pre style=\"white-space:pre;overflow-x:auto;line-height:normal;font-family:Menlo,'DejaVu Sans Mono',consolas,'Courier New',monospace\"><span style=\"color: #808000; text-decoration-color: #808000\">Fetching data. Please be patient</span>\n",
       "\n",
       "</pre>\n"
      ],
      "text/plain": [
       "\u001b[33mFetching data. Please be patient\u001b[0m\n",
       "\n"
      ]
     },
     "metadata": {},
     "output_type": "display_data"
    },
    {
     "data": {
      "text/html": [
       "<pre style=\"white-space:pre;overflow-x:auto;line-height:normal;font-family:Menlo,'DejaVu Sans Mono',consolas,'Courier New',monospace\">Ticker should be a NASDAQ 100 ticker or SP 500 ticker \n",
       "\n",
       "</pre>\n"
      ],
      "text/plain": [
       "Ticker should be a NASDAQ 100 ticker or SP 500 ticker \n",
       "\n"
      ]
     },
     "metadata": {},
     "output_type": "display_data"
    },
    {
     "data": {
      "text/html": [
       "<pre style=\"white-space:pre;overflow-x:auto;line-height:normal;font-family:Menlo,'DejaVu Sans Mono',consolas,'Courier New',monospace\"><span style=\"color: #808000; text-decoration-color: #808000\">Fetching data. Please be patient</span>\n",
       "\n",
       "</pre>\n"
      ],
      "text/plain": [
       "\u001b[33mFetching data. Please be patient\u001b[0m\n",
       "\n"
      ]
     },
     "metadata": {},
     "output_type": "display_data"
    },
    {
     "data": {
      "text/html": [
       "<pre style=\"white-space:pre;overflow-x:auto;line-height:normal;font-family:Menlo,'DejaVu Sans Mono',consolas,'Courier New',monospace\">Ticker should be a NASDAQ 100 ticker or SP 500 ticker \n",
       "\n",
       "</pre>\n"
      ],
      "text/plain": [
       "Ticker should be a NASDAQ 100 ticker or SP 500 ticker \n",
       "\n"
      ]
     },
     "metadata": {},
     "output_type": "display_data"
    }
   ],
   "source": [
    "peers = [('MSFT', 1), ('DIS', 2), ('VEEV', 3), ('TDOC', 4)]\n",
    "# , ('TDOC', 3), ('VEEV', 4)]\n",
    "\n",
    "for company in peers:\n",
    "    \n",
    "    stock = company[0]\n",
    "    slot = company[1]\n",
    "\n",
    "##################################################################################\n",
    "############## *** setting variables that hold dataframes: *** ###################\n",
    "##################################################################################\n",
    "    df_balance = openbb.stocks.fa.yf_financials(stock, \"balance-sheet\") \n",
    "    df_data = openbb.stocks.fa.data(stock) # keys called later: 'Profit Margin', 'Insider Own', 'Insider Trans', 'Short Float', 'Inst Own', 'Inst Trans', 'Dividend'\n",
    "    df_divs = openbb.stocks.fa.divs(stock)\n",
    "    df_income = openbb.stocks.fa.fmp_income(stock) # keys called later: 'Gross profit ratio'\n",
    "    \n",
    "    df_metrics = openbb.stocks.fa.fmp_metrics(stock) # keys called later: 'Book value per share', 'Ptb ratio', 'Pe ratio', \n",
    "                                                                        # 'Pfcf ratio', 'Dividend yield', 'Roe', 'Return on tangible assets', \n",
    "                                                                        # 'Current ratio', 'Debt to equity', 'Price to sales ratio'\n",
    "            \n",
    "    df_profile = openbb.stocks.fa.profile(stock) # keys called later: 'companyName', 'sector', 'industry' \n",
    "    df_quote = openbb.stocks.fa.quote(stock) # keys called later: 'Price', 'Market cap'\n",
    "\n",
    "    \n",
    "##################################################################################\n",
    "############## *** setting variables that we'll add to company objects: *** ######\n",
    "##################################################################################   \n",
    "          \n",
    "    \n",
    "############## *** BASIC DETAILS *** ##############\n",
    "\n",
    "    fullname = df_profile.loc['companyName'][0]\n",
    "    ticker = stock\n",
    "    cap = df_quote.loc['Market cap'][0]\n",
    "    price = df_quote.loc['Price'][0]\n",
    "\n",
    "############## *** Value Metrics *** ##############\n",
    "   \n",
    "    try: # If company has no long term debt 0 will be assigned to associated variable\n",
    "        tca = df_balance.loc['Total current assets'][0]\n",
    "        tld = df_balance.loc['Long-term debt'][0]\n",
    "        \n",
    "    except:\n",
    "        tca = df_balance.loc['Total current assets'][0]\n",
    "        tld = 0     \n",
    "\n",
    "    ptb = df_metrics.loc['Ptb ratio'][0]\n",
    "    bvps = df_metrics.loc['Book value per share'][0]\n",
    "    pe = df_metrics.loc['Pe ratio'][0]\n",
    "    pfcf = df_metrics.loc['Pfcf ratio'][0]\n",
    "    pts = df_metrics.loc['Price to sales ratio'][0]\n",
    "\n",
    "############## *** Management Metrics *** ##############\n",
    "\n",
    "    roe = df_metrics.loc['Roe'][0]\n",
    "    roa = df_metrics.loc['Return on tangible assets'][0]\n",
    "    gpr = df_income.loc['Gross profit ratio'][0]\n",
    "    \n",
    "    try: # Some companies are do not have profit margin\n",
    "        pm = df_data.loc['Profit Margin'][0]\n",
    "        \n",
    "    except:\n",
    "        pm = '0%'\n",
    "\n",
    "    cr = df_metrics.loc['Current ratio'][0]\n",
    "    dte = df_metrics.loc['Debt to equity'][0]\n",
    "        \n",
    "############## *** Insider Metrics *** ##############\n",
    "\n",
    "    io = df_data.loc['Insider Own'][0]\n",
    "    it = df_data.loc['Insider Trans'][0]\n",
    "    inst_o = df_data.loc['Inst Own'][0]\n",
    "    inst_t = df_data.loc['Inst Trans'][0]\n",
    "    \n",
    "############## *** Dividend Metrics *** ##############\n",
    "\n",
    "    try: # If company provides no dividend 0 will be assigned\n",
    "        div = df_data.loc['Dividend'][0]\n",
    "    \n",
    "    except:\n",
    "        div = 0\n",
    "   \n",
    "    try: # If company provides no dividend 0 will be assigned\n",
    "        div_y = df_metrics.loc['Dividend yield'][0]\n",
    "        \n",
    "    except:\n",
    "        div_y = 0\n",
    "        \n",
    "    div_h = df_divs\n",
    "    \n",
    "\n",
    "        \n",
    "        \n",
    "        \n",
    "\n",
    "\n",
    "\n",
    "\n",
    "    # using df_profile to get companyName used for search string\n",
    "    df_news = openbb.common.news(df_profile.loc['companyName', 0], sort='published')\n",
    "\n",
    "\n",
    "\n",
    "    # s_analyst = openbb.stocks.dd.analyst(\"MSFT\")\n",
    "    #s_analyst = s_analyst.T\n",
    "    # s_analyst = s_analyst.loc['rating']\n",
    "\n",
    "    s_rot = openbb.stocks.dd.rot(stock)\n",
    "    s_rot = s_rot.T\n",
    "    s_rot = s_rot[0]\n",
    "\n",
    "    s_key = openbb.stocks.fa.av_metrics(stock)\n",
    "    s_key = s_key.loc['Dividend yield']\n",
    "\n",
    "    \n",
    "    # Getting Stock Twits sentiment as a float:\n",
    "    f_twits = openbb.stocks.ba.bullbear(stock)\n",
    "    \n",
    "    if f_twits[1] != 0 and f_twits[2] != 0: # Normal case\n",
    "        f_twits_percent = f_twits[2] / f_twits[1]\n",
    "        \n",
    "    elif f_twits[1] == 0: # Case for if there are no ratings\n",
    "        f_twits_percent = 'Not Rated'\n",
    "        \n",
    "    elif f_twits[2] == 0: # Case for if all ratings are bearish\n",
    "        f_twits_percent = 0\n",
    "\n",
    "    # Warren Buffet Investing Score\n",
    "    wb_score = openbb.stocks.fa.score(stock)\n",
    "    if wb_score is None:\n",
    "        wb_score = 'n/a'\n",
    "\n",
    "    # creating ratings list\n",
    "    s_rating = openbb.stocks.dd.rating(stock)\n",
    "    s_rating = s_rating.T\n",
    "    s_rating = s_rating.loc['Rating']\n",
    "\n",
    "    ratings_list = []\n",
    "    for i in range(0, 5):\n",
    "        ratings_list.append(s_rating[i])\n",
    "\n",
    "    if slot == 1:\n",
    "\n",
    "        company1 = Company(fullname, ticker, cap, price,\n",
    "                           tca, tld, ptb, bvps, pe, pfcf, pts,\n",
    "                           roe, roa, gpr, pm, cr, dte,\n",
    "                           io, it, inst_o, inst_t,\n",
    "                           div, div_y, div_h)\n",
    "\n",
    "    elif slot == 2:\n",
    "\n",
    "        company2 = Company(fullname, ticker, cap, price,\n",
    "                           tca, tld, ptb, bvps, pe, pfcf, pts,\n",
    "                           roe, roa, gpr, pm, cr, dte,\n",
    "                           io, it, inst_o, inst_t,\n",
    "                           div, div_y, div_h)\n",
    "        \n",
    "    elif slot == 3:\n",
    "\n",
    "        company3 = Company(fullname, ticker, cap, price,\n",
    "                           tca, tld, ptb, bvps, pe, pfcf, pts,\n",
    "                           roe, roa, gpr, pm, cr, dte,\n",
    "                           io, it, inst_o, inst_t,\n",
    "                           div, div_y, div_h)\n",
    "        \n",
    "    elif slot == 4:\n",
    "\n",
    "        company4 = Company(fullname, ticker, cap, price,\n",
    "                           tca, tld, ptb, bvps, pe, pfcf, pts,\n",
    "                           roe, roa, gpr, pm, cr, dte,\n",
    "                           io, it, inst_o, inst_t,\n",
    "                           div, div_y, div_h)"
   ]
  },
  {
   "cell_type": "code",
   "execution_count": 4,
   "id": "60c4bfe4-b013-4bc0-badd-aa90b96f7155",
   "metadata": {},
   "outputs": [
    {
     "name": "stdout",
     "output_type": "stream",
     "text": [
      "Microsoft Corporation                 Dividends\n",
      "Date                 \n",
      "2003-02-19       0.08\n",
      "2003-10-15       0.16\n",
      "2004-08-23       0.08\n",
      "2004-11-15       3.08\n",
      "2005-02-15       0.08\n",
      "...               ...\n",
      "2021-08-18       0.56\n",
      "2021-11-17       0.62\n",
      "2022-02-16       0.62\n",
      "2022-05-18       0.62\n",
      "2022-08-17       0.62\n",
      "\n",
      "[75 rows x 1 columns]\n",
      "The Walt Disney Company                 Dividends\n",
      "Date                 \n",
      "1962-03-13   0.000249\n",
      "1962-06-12   0.000249\n",
      "1962-09-11   0.000249\n",
      "1962-12-18   0.000257\n",
      "1963-03-12   0.000257\n",
      "...               ...\n",
      "2017-12-08   0.840000\n",
      "2018-07-06   0.840000\n",
      "2018-12-07   0.880000\n",
      "2019-07-05   0.880000\n",
      "2019-12-13   0.880000\n",
      "\n",
      "[124 rows x 1 columns]\n",
      "Veeva Systems Inc.     Empty DataFrame\n",
      "Columns: [Dividends]\n",
      "Index: []\n",
      "Teladoc Health, Inc.     Empty DataFrame\n",
      "Columns: [Dividends]\n",
      "Index: []\n"
     ]
    }
   ],
   "source": [
    "print(company1.fullname, '   ', company1.div_h)\n",
    "print(company2.fullname, '   ', company2.div_h)\n",
    "print(company3.fullname, '   ', company3.div_h)\n",
    "print(company4.fullname, '   ', company4.div_h)"
   ]
  },
  {
   "cell_type": "code",
   "execution_count": null,
   "id": "1ce61ae2-7895-42ae-a71d-645c25fe1d47",
   "metadata": {},
   "outputs": [],
   "source": [
    "openbb.stocks.fa.divs('TDOC')"
   ]
  },
  {
   "cell_type": "code",
   "execution_count": null,
   "id": "e838a437-b548-401e-88d6-1373e0d698d7",
   "metadata": {},
   "outputs": [],
   "source": [
    "def display_df(dataframes):\n",
    "    for df in dataframes:\n",
    "        display(df)\n",
    "        print('\\n')\n",
    "\n",
    "def display_s(list_of_series):\n",
    "    for series in list_of_series:\n",
    "        display(series)\n",
    "        print('\\n')\n",
    "\n",
    "def display_f(forumlaic_value):\n",
    "    for value in forumlaic_value:\n",
    "        print(str(value) + '\\n')\n",
    "    \n"
   ]
  },
  {
   "cell_type": "code",
   "execution_count": null,
   "id": "30b27ff1-adf6-4d07-971d-a68887a4450e",
   "metadata": {},
   "outputs": [],
   "source": [
    "dataframes = [df_quote, df_data, df_metrics, df_balance, df_divs, df_profile] \n",
    "\n",
    "series = [s_income, s_rating, s_rot]\n",
    "\n",
    "formulaic = [f_twits_percent]\n",
    "\n",
    "\n"
   ]
  },
  {
   "cell_type": "code",
   "execution_count": null,
   "id": "5b14890f-8223-444a-bb29-ae3c3db4da01",
   "metadata": {},
   "outputs": [],
   "source": [
    "display_df(dataframes)\n",
    "display_s(series)\n",
    "display_f(formulaic)\n",
    "ratings_list\n",
    "wb_score"
   ]
  },
  {
   "cell_type": "code",
   "execution_count": null,
   "id": "b8ac8035-7676-474a-b4d5-5e27a0d6fd5d",
   "metadata": {},
   "outputs": [],
   "source": [
    "s_key"
   ]
  },
  {
   "cell_type": "code",
   "execution_count": null,
   "id": "66ba9307-c1b4-4450-8804-ff9f897cf64f",
   "metadata": {},
   "outputs": [],
   "source": []
  },
  {
   "cell_type": "code",
   "execution_count": null,
   "id": "2ef45935-83c1-424a-b6da-1116707a615f",
   "metadata": {},
   "outputs": [],
   "source": []
  },
  {
   "cell_type": "code",
   "execution_count": null,
   "id": "683df9ad-01b4-4d7f-ae6c-21657690b4e4",
   "metadata": {},
   "outputs": [],
   "source": []
  },
  {
   "cell_type": "code",
   "execution_count": null,
   "id": "d53170db-2b48-4ff8-bda3-7c9f645f5cac",
   "metadata": {},
   "outputs": [],
   "source": []
  },
  {
   "cell_type": "code",
   "execution_count": null,
   "id": "a1d51c1d-a981-4543-a444-dc7c39c8feb5",
   "metadata": {},
   "outputs": [],
   "source": []
  }
 ],
 "metadata": {
  "kernelspec": {
   "display_name": "Python 3 (ipykernel)",
   "language": "python",
   "name": "python3"
  },
  "language_info": {
   "codemirror_mode": {
    "name": "ipython",
    "version": 3
   },
   "file_extension": ".py",
   "mimetype": "text/x-python",
   "name": "python",
   "nbconvert_exporter": "python",
   "pygments_lexer": "ipython3",
   "version": "3.9.13"
  }
 },
 "nbformat": 4,
 "nbformat_minor": 5
}
