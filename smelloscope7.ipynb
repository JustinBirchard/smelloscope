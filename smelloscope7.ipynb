{
 "cells": [
  {
   "cell_type": "code",
   "execution_count": 1,
   "id": "67732576-c241-40ed-82f1-78afcc0212b8",
   "metadata": {},
   "outputs": [
    {
     "name": "stdout",
     "output_type": "stream",
     "text": [
      "WARNING! Breaking changes incoming! Especially avoid using kwargs, since some of them will change.\n",
      "For more information see the official documentation at: https://openbb-finance.github.io/OpenBBTerminal/api/\n"
     ]
    }
   ],
   "source": [
    "from openbb_terminal.api import openbb\n",
    "from company import Company\n",
    "\n",
    "from IPython.display import display\n"
   ]
  },
  {
   "cell_type": "code",
   "execution_count": 2,
   "id": "634a204e-7629-4fff-aac2-c9d86cfbf4d4",
   "metadata": {
    "jupyter": {
     "source_hidden": true
    },
    "tags": []
   },
   "outputs": [],
   "source": [
    "# https://developer.twitter.com\n",
    "# API_TWITTER_KEY = \"cl1F94kpMHTrkLGasn2IxUNoh\"\n",
    "# API_TWITTER_SECRET_KEY = \"AdPl5u6aavlymJ6L7uCyuyzRIIpXHGOKs0btqs2Abu4876BAFb\"\n",
    "# API_TWITTER_BEARER_TOKEN = \"AAAAAAAAAAAAAAAAAAAAAKffhwEAAAAAuCtW%2FeTKWuX35ZzFvKTFUKBvOq0%3DHmO1Shm5Fsa8u90G9MLh5ql1LmSPTF8xrMtrOJSl81gnLpOjV0\"\n"
   ]
  },
  {
   "cell_type": "code",
   "execution_count": 3,
   "id": "0dbd27c7-6fe4-4b95-8ae4-ce344c77c2f1",
   "metadata": {},
   "outputs": [
    {
     "data": {
      "text/html": [
       "<pre style=\"white-space:pre;overflow-x:auto;line-height:normal;font-family:Menlo,'DejaVu Sans Mono',consolas,'Courier New',monospace\"><span style=\"color: #808000; text-decoration-color: #808000\">Fetching data. Please be patient</span>\n",
       "\n",
       "</pre>\n"
      ],
      "text/plain": [
       "\u001b[33mFetching data. Please be patient\u001b[0m\n",
       "\n"
      ]
     },
     "metadata": {},
     "output_type": "display_data"
    }
   ],
   "source": [
    "# Retreiving data as custom DataFrames:\n",
    "df_quote = openbb.stocks.fa.quote(\"MSFT\")\n",
    "df_quote = df_quote.loc[['Symbol', 'Price', 'Market cap']]\n",
    "\n",
    "df_data = openbb.stocks.fa.data(\"MSFT\")\n",
    "df_data = df_data.loc[['Profit Margin', 'Insider Own', 'Insider Trans', 'Short Float', 'Inst Own', 'Inst Trans']]\n",
    "\n",
    "df_metrics = openbb.stocks.fa.fmp_metrics(\"MSFT\")\n",
    "df_metrics = df_metrics.loc[['Book value per share', 'Ptb ratio', 'Pe ratio', 'Pfcf ratio', 'Dividend yield', 'Roe', 'Return on tangible assets', 'Current ratio', 'Debt to equity', 'Price to sales ratio']]\n",
    "\n",
    "df_balance = openbb.stocks.fa.yf_financials(\"MSFT\", \"balance-sheet\")\n",
    "df_balance = df_balance.loc[['Total current assets', 'Long-term debt']]\n",
    "\n",
    "df_divs = openbb.stocks.fa.divs(\"MSFT\")\n",
    "\n",
    "df_profile = openbb.stocks.fa.profile(\"MSFT\")\n",
    "df_profile = df_profile.loc[['companyName', 'sector', 'industry']]\n",
    "\n",
    "# using df_profile to get companyName used for search string\n",
    "df_news = openbb.common.news(df_profile.loc['companyName', 0], sort='published')\n",
    "\n",
    "# Retreiving data as custom Series:\n",
    "s_income = openbb.stocks.fa.fmp_income(\"MSFT\")\n",
    "s_income = s_income.loc['Gross profit ratio']\n",
    "\n",
    "# s_analyst = openbb.stocks.dd.analyst(\"MSFT\")\n",
    "#s_analyst = s_analyst.T\n",
    "# s_analyst = s_analyst.loc['rating']\n",
    "\n",
    "s_rot = openbb.stocks.dd.rot(\"MSFT\")\n",
    "s_rot = s_rot.T\n",
    "s_rot = s_rot[0]\n",
    "\n",
    "s_key = openbb.stocks.fa.av_metrics(\"MSFT\")\n",
    "s_key = s_key.loc['Dividend yield']\n",
    "\n",
    "# Getting Stock Twits sentiment as a float:\n",
    "f_twits = openbb.stocks.ba.bullbear(\"MSFT\")\n",
    "f_twits_percent = f_twits[2] / f_twits[1]\n",
    "\n",
    "# Warren Buffet Investing Score\n",
    "wb_score = openbb.stocks.fa.score(\"MSFT\")\n",
    "if wb_score is None:\n",
    "    wb_score = 'n/a'\n",
    "\n",
    "# creating ratings list\n",
    "s_rating = openbb.stocks.dd.rating(\"MSFT\")\n",
    "s_rating = s_rating.T\n",
    "s_rating = s_rating.loc['Rating']\n",
    "\n",
    "ratings_list = []\n",
    "for i in range(0, 5):\n",
    "    ratings_list.append(s_rating[i])"
   ]
  },
  {
   "cell_type": "code",
   "execution_count": 5,
   "id": "e2854dda-907b-435a-8855-601bfb52dfab",
   "metadata": {},
   "outputs": [],
   "source": [
    "company = Company(df_profile.loc['companyName'][0], df_quote.loc['Symbol'][0], df_quote.loc['Market cap'][0], df_quote.loc['Price'][0],\n",
    "                 df_balance.loc['Total current assets'][0], df_balance.loc['Long-term debt'][0])"
   ]
  },
  {
   "cell_type": "code",
   "execution_count": 7,
   "id": "1f235701-d3e5-45db-b499-63eaf244748e",
   "metadata": {},
   "outputs": [
    {
     "data": {
      "text/plain": [
       "47032000000.0"
      ]
     },
     "execution_count": 7,
     "metadata": {},
     "output_type": "execute_result"
    }
   ],
   "source": [
    "company.tld"
   ]
  },
  {
   "cell_type": "code",
   "execution_count": null,
   "id": "84898f67-4316-41ca-9221-4b1eb50f42fd",
   "metadata": {},
   "outputs": [],
   "source": []
  },
  {
   "cell_type": "code",
   "execution_count": null,
   "id": "c5aa01b9-38e5-4fbc-abd5-6dc4587cb4d2",
   "metadata": {},
   "outputs": [],
   "source": []
  },
  {
   "cell_type": "code",
   "execution_count": null,
   "id": "60c4bfe4-b013-4bc0-badd-aa90b96f7155",
   "metadata": {},
   "outputs": [],
   "source": [
    "type(df_balance.loc['Total current assets'][0])"
   ]
  },
  {
   "cell_type": "code",
   "execution_count": null,
   "id": "1ce61ae2-7895-42ae-a71d-645c25fe1d47",
   "metadata": {},
   "outputs": [],
   "source": []
  },
  {
   "cell_type": "code",
   "execution_count": null,
   "id": "e838a437-b548-401e-88d6-1373e0d698d7",
   "metadata": {},
   "outputs": [],
   "source": [
    "def display_df(dataframes):\n",
    "    for df in dataframes:\n",
    "        display(df)\n",
    "        print('\\n')\n",
    "\n",
    "def display_s(list_of_series):\n",
    "    for series in list_of_series:\n",
    "        display(series)\n",
    "        print('\\n')\n",
    "\n",
    "def display_f(forumlaic_value):\n",
    "    for value in forumlaic_value:\n",
    "        print(str(value) + '\\n')\n",
    "    \n"
   ]
  },
  {
   "cell_type": "code",
   "execution_count": null,
   "id": "30b27ff1-adf6-4d07-971d-a68887a4450e",
   "metadata": {},
   "outputs": [],
   "source": [
    "dataframes = [df_quote, df_data, df_metrics, df_balance, df_divs, df_profile] \n",
    "\n",
    "series = [s_income, s_rating, s_rot]\n",
    "\n",
    "formulaic = [f_twits_percent]\n",
    "\n",
    "\n"
   ]
  },
  {
   "cell_type": "code",
   "execution_count": null,
   "id": "5b14890f-8223-444a-bb29-ae3c3db4da01",
   "metadata": {},
   "outputs": [],
   "source": [
    "display_df(dataframes)\n",
    "display_s(series)\n",
    "display_f(formulaic)\n",
    "ratings_list\n",
    "wb_score"
   ]
  },
  {
   "cell_type": "code",
   "execution_count": null,
   "id": "756adfad-f750-4429-afdb-7bdc6e0f6e0f",
   "metadata": {},
   "outputs": [],
   "source": []
  },
  {
   "cell_type": "code",
   "execution_count": null,
   "id": "36ac24c0-9846-4156-a122-5f29e36cf0a5",
   "metadata": {},
   "outputs": [],
   "source": []
  },
  {
   "cell_type": "code",
   "execution_count": null,
   "id": "581db1b7-3dc9-4ee9-9abd-ea2b9010edbc",
   "metadata": {},
   "outputs": [],
   "source": []
  },
  {
   "cell_type": "code",
   "execution_count": null,
   "id": "07af3006-f58b-4d7d-963a-68498f039066",
   "metadata": {},
   "outputs": [],
   "source": []
  },
  {
   "cell_type": "code",
   "execution_count": null,
   "id": "58983e61-f486-4066-81a2-2516285613d3",
   "metadata": {},
   "outputs": [],
   "source": []
  },
  {
   "cell_type": "code",
   "execution_count": null,
   "id": "0dfbe7a8-2e0e-4723-b123-32e5fd3d76b8",
   "metadata": {},
   "outputs": [],
   "source": []
  },
  {
   "cell_type": "code",
   "execution_count": null,
   "id": "06bb809b-7935-40c8-8779-a3de815b53dd",
   "metadata": {},
   "outputs": [],
   "source": []
  },
  {
   "cell_type": "code",
   "execution_count": null,
   "id": "e10f853f-b1ed-4967-b079-c248a813dfaf",
   "metadata": {},
   "outputs": [],
   "source": []
  },
  {
   "cell_type": "code",
   "execution_count": null,
   "id": "efb678fd-57c6-42f1-aac2-ad89f2a4b651",
   "metadata": {},
   "outputs": [],
   "source": []
  },
  {
   "cell_type": "code",
   "execution_count": null,
   "id": "dfbf7a0c-aff2-470b-8b8a-dec7b49f82aa",
   "metadata": {},
   "outputs": [],
   "source": []
  },
  {
   "cell_type": "code",
   "execution_count": null,
   "id": "840f1eaa-0b3c-4ffc-97f7-23c858c69561",
   "metadata": {},
   "outputs": [],
   "source": []
  },
  {
   "cell_type": "code",
   "execution_count": null,
   "id": "4f9c85be-b955-4bdd-be0d-9e90a7da07f2",
   "metadata": {},
   "outputs": [],
   "source": []
  },
  {
   "cell_type": "code",
   "execution_count": null,
   "id": "0c91a439-7a22-4a7e-8156-4307339bda26",
   "metadata": {},
   "outputs": [],
   "source": []
  },
  {
   "cell_type": "code",
   "execution_count": null,
   "id": "eae115de-e1ce-4fa7-8197-35b7839ddad5",
   "metadata": {},
   "outputs": [],
   "source": []
  },
  {
   "cell_type": "code",
   "execution_count": null,
   "id": "af445c6d-1ca1-46b1-aa72-b9f8336bb388",
   "metadata": {},
   "outputs": [],
   "source": []
  },
  {
   "cell_type": "code",
   "execution_count": null,
   "id": "1a4b57fc-83c1-4688-9979-ae1ad1900ff9",
   "metadata": {},
   "outputs": [],
   "source": []
  },
  {
   "cell_type": "code",
   "execution_count": null,
   "id": "c092d743-58a1-43b9-ac1c-1d7ea80371cb",
   "metadata": {},
   "outputs": [],
   "source": []
  },
  {
   "cell_type": "code",
   "execution_count": null,
   "id": "a1904953-3d62-44b0-b83f-322452e18be6",
   "metadata": {},
   "outputs": [],
   "source": []
  },
  {
   "cell_type": "code",
   "execution_count": null,
   "id": "7d6b67b4-4fa3-47b3-b22a-d7d37763d3eb",
   "metadata": {},
   "outputs": [],
   "source": []
  },
  {
   "cell_type": "code",
   "execution_count": null,
   "id": "6f6df302-f3ac-42f2-aedb-a6e7fb69460a",
   "metadata": {},
   "outputs": [],
   "source": []
  },
  {
   "cell_type": "code",
   "execution_count": null,
   "id": "228a1be5-5089-4373-9f6c-af8410523794",
   "metadata": {},
   "outputs": [],
   "source": []
  },
  {
   "cell_type": "code",
   "execution_count": null,
   "id": "1b790598-13d4-4203-b945-2a446dde0c98",
   "metadata": {},
   "outputs": [],
   "source": []
  },
  {
   "cell_type": "code",
   "execution_count": null,
   "id": "eed53c19-932d-4688-864d-88bc058c5420",
   "metadata": {},
   "outputs": [],
   "source": []
  },
  {
   "cell_type": "code",
   "execution_count": null,
   "id": "b2999889-b7d6-4c07-bab8-4ceb7270ea2f",
   "metadata": {},
   "outputs": [],
   "source": []
  },
  {
   "cell_type": "code",
   "execution_count": null,
   "id": "3d30bcbb-c4ba-43e6-b67f-6763b7e535d5",
   "metadata": {},
   "outputs": [],
   "source": []
  },
  {
   "cell_type": "code",
   "execution_count": null,
   "id": "4d1cb8c8-5808-494e-a393-f452bce21eee",
   "metadata": {},
   "outputs": [],
   "source": []
  },
  {
   "cell_type": "code",
   "execution_count": null,
   "id": "9f62822b-6493-4b25-9fea-60ed5f9f4da9",
   "metadata": {},
   "outputs": [],
   "source": []
  },
  {
   "cell_type": "code",
   "execution_count": null,
   "id": "5d3f4490-21e1-480d-8ccb-6948c90cd2e6",
   "metadata": {},
   "outputs": [],
   "source": []
  },
  {
   "cell_type": "code",
   "execution_count": null,
   "id": "5cb3bc08-4062-4a75-a258-8e93fb12ce20",
   "metadata": {},
   "outputs": [],
   "source": []
  },
  {
   "cell_type": "code",
   "execution_count": null,
   "id": "c61a2da0-baa9-4d43-88f6-d6b67ceabcbf",
   "metadata": {},
   "outputs": [],
   "source": []
  },
  {
   "cell_type": "code",
   "execution_count": null,
   "id": "f4490197-a980-4756-ac54-6c903213b05f",
   "metadata": {},
   "outputs": [],
   "source": []
  },
  {
   "cell_type": "code",
   "execution_count": null,
   "id": "e8474f52-4dd0-4225-a92c-788a4b471bea",
   "metadata": {},
   "outputs": [],
   "source": []
  },
  {
   "cell_type": "code",
   "execution_count": null,
   "id": "3ad0d6c7-104e-45b1-aa1f-302c568b01f5",
   "metadata": {},
   "outputs": [],
   "source": []
  },
  {
   "cell_type": "code",
   "execution_count": null,
   "id": "4d1aed2c-003a-4ce7-8da0-3f0ae4bca7ca",
   "metadata": {},
   "outputs": [],
   "source": []
  },
  {
   "cell_type": "code",
   "execution_count": null,
   "id": "5780e634-6ae0-4edd-a298-02fca73ea64c",
   "metadata": {},
   "outputs": [],
   "source": [
    "df_rot"
   ]
  },
  {
   "cell_type": "code",
   "execution_count": null,
   "id": "6c24f99e-3926-4cf0-90a3-e3329accb348",
   "metadata": {},
   "outputs": [],
   "source": []
  }
 ],
 "metadata": {
  "kernelspec": {
   "display_name": "Python 3 (ipykernel)",
   "language": "python",
   "name": "python3"
  },
  "language_info": {
   "codemirror_mode": {
    "name": "ipython",
    "version": 3
   },
   "file_extension": ".py",
   "mimetype": "text/x-python",
   "name": "python",
   "nbconvert_exporter": "python",
   "pygments_lexer": "ipython3",
   "version": "3.9.13"
  }
 },
 "nbformat": 4,
 "nbformat_minor": 5
}
