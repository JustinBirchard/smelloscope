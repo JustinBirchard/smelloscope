{
 "cells": [
  {
   "cell_type": "code",
   "execution_count": null,
   "id": "a8537993-281c-455f-835d-c0ab62ae3a1d",
   "metadata": {
    "jupyter": {
     "source_hidden": true
    },
    "tags": []
   },
   "outputs": [],
   "source": [
    "from openbb_terminal.api import openbb as obb"
   ]
  },
  {
   "cell_type": "markdown",
   "id": "406f4e66-74b6-4b35-9f4e-5b6fdbe66bba",
   "metadata": {
    "tags": []
   },
   "source": [
    "<h1>The Smelloscope Lab</h1>\n",
    "Version 0.96"
   ]
  },
  {
   "cell_type": "markdown",
   "id": "e86e9cb1-6904-446f-a81d-00f22e1f28b8",
   "metadata": {},
   "source": [
    "<h3>Run the following cell (after you've created stocks list in stocklist.py):</h3>"
   ]
  },
  {
   "cell_type": "code",
   "execution_count": null,
   "id": "e5604746-5f9f-47c8-b1ef-24ab36b5ca72",
   "metadata": {
    "tags": []
   },
   "outputs": [],
   "source": [
    "from scope_it_out import *"
   ]
  },
  {
   "cell_type": "markdown",
   "id": "4ad2dbc0-ee48-4a12-bd6e-a2e232f25da8",
   "metadata": {},
   "source": [
    "<h3>Show the total scores of each company:</h3>"
   ]
  },
  {
   "cell_type": "code",
   "execution_count": null,
   "id": "bee749c9-c0d5-43d4-adfa-84f0aaae1c93",
   "metadata": {},
   "outputs": [],
   "source": [
    "show_total_scores(companies)"
   ]
  },
  {
   "cell_type": "markdown",
   "id": "85d64ab4-717b-462d-b113-6122005916c0",
   "metadata": {},
   "source": [
    "<h3>Show detailed scorecared for each company:</h3>"
   ]
  },
  {
   "cell_type": "code",
   "execution_count": null,
   "id": "39bf472f-e25e-491b-9040-a732579aeb1c",
   "metadata": {},
   "outputs": [],
   "source": [
    "show_scorecards(companies)"
   ]
  },
  {
   "cell_type": "markdown",
   "id": "b7618787-7490-4c21-9670-448b8c68cfc3",
   "metadata": {},
   "source": [
    "<h3>Show average values for every metric:</h3>"
   ]
  },
  {
   "cell_type": "code",
   "execution_count": null,
   "id": "18944e0a-7249-46dd-b998-241a565a2570",
   "metadata": {},
   "outputs": [],
   "source": [
    "# View the average values for metrics for this peer group\n",
    "peer_group.display_dfs()"
   ]
  },
  {
   "cell_type": "markdown",
   "id": "bc97b515-ba5f-4d5e-9908-f35d30dafb95",
   "metadata": {},
   "source": [
    "<h3>Show detailed metrics for every company</h3>"
   ]
  },
  {
   "cell_type": "code",
   "execution_count": null,
   "id": "a75dbfde-2b43-4ca0-8d89-04d43b056e79",
   "metadata": {},
   "outputs": [],
   "source": [
    "show_metrics(companies)"
   ]
  },
  {
   "cell_type": "markdown",
   "id": "0650c9a3-0842-482d-a7f0-3ce6a28413f1",
   "metadata": {},
   "source": [
    "<h3>Export detailed metrics for every company as an Excel file:</h3>"
   ]
  },
  {
   "cell_type": "code",
   "execution_count": null,
   "id": "f89e0880-7063-44b2-86da-441f945de263",
   "metadata": {},
   "outputs": [],
   "source": [
    "export_metrics(companies)"
   ]
  }
 ],
 "metadata": {
  "kernelspec": {
   "display_name": "Python 3 (ipykernel)",
   "language": "python",
   "name": "python3"
  },
  "language_info": {
   "codemirror_mode": {
    "name": "ipython",
    "version": 3
   },
   "file_extension": ".py",
   "mimetype": "text/x-python",
   "name": "python",
   "nbconvert_exporter": "python",
   "pygments_lexer": "ipython3",
   "version": "3.9.13"
  }
 },
 "nbformat": 4,
 "nbformat_minor": 5
}
