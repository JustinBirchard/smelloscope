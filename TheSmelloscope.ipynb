{
 "cells": [
  {
   "cell_type": "markdown",
   "id": "406f4e66-74b6-4b35-9f4e-5b6fdbe66bba",
   "metadata": {
    "tags": []
   },
   "source": [
    "<h1><b><u>The Smelloscope Lab</h1></b></u>\n",
    "<i>Version 1.3\n",
    "\n",
    "Last update 12/3/22</i>"
   ]
  },
  {
   "cell_type": "markdown",
   "id": "e86e9cb1-6904-446f-a81d-00f22e1f28b8",
   "metadata": {},
   "source": [
    "<b>Run the cell below after creating a stock list in stocklist.py</b><br>\n",
    "<b>Alternately, you can also uncomment one of the preset stock lists in stocklist.py:</b>\n",
    "\n",
    "<i>Will take ~10 seconds to run per stock.</i><br>\n",
    "<i>Most API error messages will be handled without crashing.</i>\n",
    "\n",
    "<i>Once data gathering and scoring is complete, the results can be explored or exported using various methods within the lab below.</i>"
   ]
  },
  {
   "cell_type": "code",
   "execution_count": null,
   "id": "e5604746-5f9f-47c8-b1ef-24ab36b5ca72",
   "metadata": {
    "tags": []
   },
   "outputs": [],
   "source": [
    "from scope_it_out import *\n",
    "from rare_exports import *"
   ]
  },
  {
   "cell_type": "markdown",
   "id": "2e4bb8c9-1180-49fd-a1d3-6dbf9a6bc6cf",
   "metadata": {},
   "source": [
    "_____\n",
    "_____\n",
    "_____\n",
    "<h1><b><u>Create a detailed report and export to Google Sheets:</h1></u></b>"
   ]
  },
  {
   "cell_type": "markdown",
   "id": "c1ea55ee-ff4c-40e6-9585-76754d6e0855",
   "metadata": {},
   "source": [
    "<b>Optional Args:</b><br>\n",
    "<b><i>custom</i></b>= String to add to file name, default is empty string<br>\n",
    "<b><i>emails<i></b>= list of one or more email addresses, default is empty list"
   ]
  },
  {
   "cell_type": "code",
   "execution_count": null,
   "id": "3e1ec169-db24-4db9-b692-61679ff73494",
   "metadata": {},
   "outputs": [],
   "source": [
    "gs_export('STM', companies, peer_group, emails=['ssrjustin@gmail.com', 'jeff7sr@gmail.com'])"
   ]
  },
  {
   "cell_type": "markdown",
   "id": "4485124b-3011-44c3-8ed9-00ded834d5e9",
   "metadata": {},
   "source": [
    "<h4><i>For file management in Google Drive:</i></h4>"
   ]
  },
  {
   "cell_type": "code",
   "execution_count": null,
   "id": "f0d09a09-3d6c-42ef-9c41-e5a2b26d94cd",
   "metadata": {},
   "outputs": [],
   "source": [
    "# Show all spreadsheets owned by your service account. \n",
    "# Optional arg title to open all with that title\n",
    "# ID can be used to delete in cell below\n",
    "gc.openall(title='INSERT_SPREADSHEET_TITLE') "
   ]
  },
  {
   "cell_type": "code",
   "execution_count": null,
   "id": "8333436d-e397-49fa-8da1-f2a52ea53659",
   "metadata": {},
   "outputs": [],
   "source": [
    "# Delete a spreadsheet. Insert spreadsheet ID as arg\n",
    "gc.del_spreadsheet('INSERT_SPREADSHEET_ID')"
   ]
  },
  {
   "cell_type": "code",
   "execution_count": null,
   "id": "b3fd7f7f-a6bd-41a5-8c5e-3d4b2babcc36",
   "metadata": {},
   "outputs": [],
   "source": [
    "# Get list of all spreadsheet names created by your service account\n",
    "for spreadsheet in gc.list_spreadsheet_files():\n",
    "    print(spreadsheet['name'])"
   ]
  },
  {
   "cell_type": "markdown",
   "id": "4ad2dbc0-ee48-4a12-bd6e-a2e232f25da8",
   "metadata": {},
   "source": [
    "<h3><b>Show the total scores of each company:</h3></b>"
   ]
  },
  {
   "cell_type": "code",
   "execution_count": null,
   "id": "bee749c9-c0d5-43d4-adfa-84f0aaae1c93",
   "metadata": {},
   "outputs": [],
   "source": [
    "show_total_scores(companies)"
   ]
  },
  {
   "cell_type": "markdown",
   "id": "85d64ab4-717b-462d-b113-6122005916c0",
   "metadata": {},
   "source": [
    "<h3><b>Show detailed scorecard for each company:</h3></b>"
   ]
  },
  {
   "cell_type": "code",
   "execution_count": null,
   "id": "39bf472f-e25e-491b-9040-a732579aeb1c",
   "metadata": {},
   "outputs": [],
   "source": [
    "show_scorecards(companies)"
   ]
  },
  {
   "cell_type": "markdown",
   "id": "b7618787-7490-4c21-9670-448b8c68cfc3",
   "metadata": {},
   "source": [
    "<h3><b>Show average values for every metric:</h3></b>"
   ]
  },
  {
   "cell_type": "code",
   "execution_count": null,
   "id": "18944e0a-7249-46dd-b998-241a565a2570",
   "metadata": {},
   "outputs": [],
   "source": [
    "peer_group.display_dfs()"
   ]
  },
  {
   "cell_type": "markdown",
   "id": "bc97b515-ba5f-4d5e-9908-f35d30dafb95",
   "metadata": {},
   "source": [
    "<h3><b>Show detailed metrics for every company</h3></b>"
   ]
  },
  {
   "cell_type": "code",
   "execution_count": null,
   "id": "a75dbfde-2b43-4ca0-8d89-04d43b056e79",
   "metadata": {},
   "outputs": [],
   "source": [
    "show_metrics(companies)"
   ]
  },
  {
   "cell_type": "markdown",
   "id": "0650c9a3-0842-482d-a7f0-3ce6a28413f1",
   "metadata": {},
   "source": [
    "<h3><b>Export detailed metrics for every company as Excel files:</h3></b>"
   ]
  },
  {
   "cell_type": "code",
   "execution_count": null,
   "id": "f89e0880-7063-44b2-86da-441f945de263",
   "metadata": {},
   "outputs": [],
   "source": [
    "export_metrics(companies)"
   ]
  },
  {
   "cell_type": "markdown",
   "id": "a750f18b-020f-4e9a-a5b5-25cce5b18c23",
   "metadata": {
    "tags": []
   },
   "source": [
    "<h3><b>Compare a specific metric for all companies in stocks list:</b></h3>\n",
    "<i>To view all available METRIC NAMES, choose a CATEGORY from the options below, and insert it into the first positional argument of the access_data function.\n",
    "\n",
    "<b>AVAILABLE CATEGORIES:</b> 'basic', 'value', 'mgmt', 'ins', 'div', 'pub_sent', 'analyst', and 'esg'</i>"
   ]
  },
  {
   "cell_type": "code",
   "execution_count": null,
   "id": "4c93e4df-2029-4456-8311-82318b41de0d",
   "metadata": {},
   "outputs": [],
   "source": [
    "companies[stocks[0]].access_data('INSERT_CATEGORY', 'options')"
   ]
  },
  {
   "cell_type": "markdown",
   "id": "44701075-e9bb-4ea1-8f9b-9e448ca53b69",
   "metadata": {},
   "source": [
    "<h3><i>To compare metrics for all companies in stocks list, <strong>choose a CATEGORY</strong> to use as positional argument one, <strong>and a METRIC NAME</strong> for positional argument two:</h3></i>"
   ]
  },
  {
   "cell_type": "code",
   "execution_count": null,
   "id": "a58b735f-6cef-4c95-9896-5d4f6e429542",
   "metadata": {},
   "outputs": [],
   "source": [
    "for company in companies.values():\n",
    "    company.access_data('INSERT_CATEGORY', 'INSERT_METRIC_NAME')"
   ]
  },
  {
   "cell_type": "markdown",
   "id": "6db96c0f-fd33-45e7-a5fa-9fc2bfc55eb1",
   "metadata": {},
   "source": [
    "<h3><strong>View headline and link for recent company related news articles:</strong></h3>\n",
    "<i>note: ticker must match one of the tickers in stocks list from stocklist.py</i>"
   ]
  },
  {
   "cell_type": "code",
   "execution_count": null,
   "id": "2c7eb8c5-1e47-4542-9ad2-623699ba8a46",
   "metadata": {},
   "outputs": [],
   "source": [
    "companies['INSERT_TICKER'].show_news()"
   ]
  },
  {
   "cell_type": "markdown",
   "id": "724f22c7-545e-46b6-84d2-e1e46b35d006",
   "metadata": {},
   "source": [
    "<h3><b>View results of SEC filings run through a machine learning sentiment analyzer</h3></b>\n",
    "<i>note: ticker must match one of the tickers in stocks list from stocklist.py</i>"
   ]
  },
  {
   "cell_type": "code",
   "execution_count": null,
   "id": "3172bfb8-82bd-4f24-be1e-564c5c83c9fe",
   "metadata": {},
   "outputs": [],
   "source": [
    "companies['INSERT_TICKER'].show_sec_analysis()"
   ]
  },
  {
   "cell_type": "markdown",
   "id": "aa2d7fd2-ac85-4531-a4d1-80ff9d508fa0",
   "metadata": {
    "tags": []
   },
   "source": [
    "<i><b><h2>Development and Testing:</h2></b></i>\n",
    "______________________________________________\n",
    "______________________________________________\n",
    "______________________________________________"
   ]
  },
  {
   "cell_type": "markdown",
   "id": "95743666-02b2-482e-bef1-6f3ecc2d1356",
   "metadata": {},
   "source": [
    "<b>New PeerGroup Attributes:</b>"
   ]
  },
  {
   "cell_type": "code",
   "execution_count": null,
   "id": "a8375ebc-554f-4c36-9740-48568787832e",
   "metadata": {},
   "outputs": [],
   "source": [
    "# Picks the top scoring stocks from the group based on grand_total. \n",
    "# Number of stocks picked for \"top\" will be 5 if stocks list is >5. \n",
    "# If stocks list >4 but <=5 it'll be top 3. If stocks list >=2 but <3 it will just be top 1.\n",
    "peer_group.top_scores"
   ]
  },
  {
   "cell_type": "code",
   "execution_count": null,
   "id": "9867eb23-edce-49e0-ad16-9461a03faa09",
   "metadata": {},
   "outputs": [],
   "source": [
    "# Scores seperated by category then company\n",
    "peer_group.category_totals"
   ]
  },
  {
   "cell_type": "code",
   "execution_count": null,
   "id": "5a0ec160-87ea-4ce5-8832-4d61d77dc5f8",
   "metadata": {},
   "outputs": [],
   "source": [
    "# Scores sepereated by company then category\n",
    "peer_group.peer_score_totals"
   ]
  },
  {
   "cell_type": "code",
   "execution_count": null,
   "id": "9f768051-e57c-4c98-b606-33e2db4746d1",
   "metadata": {},
   "outputs": [],
   "source": [
    "# Dictionary containing category totals for the top X winners by grand_total\n",
    "peer_group.winners"
   ]
  },
  {
   "cell_type": "markdown",
   "id": "df6b8b40-36d8-4cfa-b4ad-0d61dedc2da2",
   "metadata": {},
   "source": [
    "<b>To explore or test with OpenBB:</b>"
   ]
  },
  {
   "cell_type": "code",
   "execution_count": null,
   "id": "8cf7b838-7170-4995-9671-21e565f3fb41",
   "metadata": {},
   "outputs": [],
   "source": [
    "from openbb_terminal.sdk import openbb as obb"
   ]
  },
  {
   "cell_type": "code",
   "execution_count": null,
   "id": "3dac5345-b280-4d5f-b60f-cdad613fd8db",
   "metadata": {},
   "outputs": [],
   "source": [
    "# to show keys\n",
    "obb.keys.mykeys(show = True)"
   ]
  },
  {
   "cell_type": "code",
   "execution_count": null,
   "id": "c981aa7b-f4b9-45b1-b1a8-eb4557a9b9dd",
   "metadata": {},
   "outputs": [],
   "source": [
    "# to set keys (see https://docs.openbb.co/sdk/guides/advanced/api-keys )\n",
    "obb.keys.finnhub(\n",
    "    key = '',\n",
    "    persist = True,\n",
    ")"
   ]
  },
  {
   "cell_type": "markdown",
   "id": "773e6b86-5bcc-444f-ac1b-dd8abff51fe1",
   "metadata": {},
   "source": [
    "<b>Messing with toml file and config:</b>"
   ]
  },
  {
   "cell_type": "code",
   "execution_count": null,
   "id": "0a50d196-2a10-4087-b7b4-ce1be79e83b0",
   "metadata": {},
   "outputs": [],
   "source": [
    "import config\n",
    "# import tomli"
   ]
  },
  {
   "cell_type": "code",
   "execution_count": null,
   "id": "d4ebf824-0280-42c7-a41e-b17ac17718dd",
   "metadata": {},
   "outputs": [],
   "source": [
    "config.smello['presets'].keys()"
   ]
  }
 ],
 "metadata": {
  "kernelspec": {
   "display_name": "Python 3 (ipykernel)",
   "language": "python",
   "name": "python3"
  },
  "language_info": {
   "codemirror_mode": {
    "name": "ipython",
    "version": 3
   },
   "file_extension": ".py",
   "mimetype": "text/x-python",
   "name": "python",
   "nbconvert_exporter": "python",
   "pygments_lexer": "ipython3",
   "version": "3.9.6"
  }
 },
 "nbformat": 4,
 "nbformat_minor": 5
}
