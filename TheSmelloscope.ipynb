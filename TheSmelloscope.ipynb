{
 "cells": [
  {
   "cell_type": "code",
   "execution_count": null,
   "id": "e5604746-5f9f-47c8-b1ef-24ab36b5ca72",
   "metadata": {
    "tags": []
   },
   "outputs": [],
   "source": [
    "from scope_it_out import company_list, peer_group"
   ]
  },
  {
   "cell_type": "code",
   "execution_count": null,
   "id": "18944e0a-7249-46dd-b998-241a565a2570",
   "metadata": {},
   "outputs": [],
   "source": [
    "# view the Grand Total score for each company\n",
    "for slot in range(0, len(company_list)):\n",
    "    print(company_list[slot].df_basic.loc['name'][0])\n",
    "    print(str(company_list[slot].score_card['grand_total']))\n",
    "    print('')\n",
    "    print('')"
   ]
  },
  {
   "cell_type": "code",
   "execution_count": null,
   "id": "a75dbfde-2b43-4ca0-8d89-04d43b056e79",
   "metadata": {},
   "outputs": [],
   "source": [
    "# view the scorecards for each company\n",
    "for slot in range(0, len(company_list)):\n",
    "    print(company_list[slot].df_basic.loc['name'][0])\n",
    "    print('TOTAL SCORE=  ' + str(company_list[slot].score_card['grand_total']))\n",
    "    print('')\n",
    "    display(company_list[slot].score_card['value'].T)\n",
    "    display(company_list[slot].score_card['mgmt'].T)\n",
    "    display(company_list[slot].score_card['ins'].T)\n",
    "    display(company_list[slot].score_card['div'].T)\n",
    "    display(company_list[slot].score_card['pub_sent'].T)\n",
    "    display(company_list[slot].score_card['analyst_data'].T)\n",
    "    display(company_list[slot].score_card['esg'].T)\n",
    "    print('')\n",
    "    print('')\n",
    "    print('')"
   ]
  },
  {
   "cell_type": "code",
   "execution_count": null,
   "id": "f89e0880-7063-44b2-86da-441f945de263",
   "metadata": {},
   "outputs": [],
   "source": [
    "# View the average values for metrics for this peer group\n",
    "peer_group.display_dfs()"
   ]
  },
  {
   "cell_type": "code",
   "execution_count": null,
   "id": "f16547ff-4e01-4319-8858-54c5c2735a4e",
   "metadata": {},
   "outputs": [],
   "source": [
    "# View metrics for each company\n",
    "for company in company_list:\n",
    "    company.display_dfs()"
   ]
  },
  {
   "cell_type": "code",
   "execution_count": null,
   "id": "660310f6-5c1a-41e0-96ee-37721a711b94",
   "metadata": {},
   "outputs": [],
   "source": [
    "# Export company metrics into Exel file\n",
    "for company in company_list:\n",
    "    company.data_to_excel()"
   ]
  }
 ],
 "metadata": {
  "kernelspec": {
   "display_name": "Python 3 (ipykernel)",
   "language": "python",
   "name": "python3"
  },
  "language_info": {
   "codemirror_mode": {
    "name": "ipython",
    "version": 3
   },
   "file_extension": ".py",
   "mimetype": "text/x-python",
   "name": "python",
   "nbconvert_exporter": "python",
   "pygments_lexer": "ipython3",
   "version": "3.9.13"
  }
 },
 "nbformat": 4,
 "nbformat_minor": 5
}
