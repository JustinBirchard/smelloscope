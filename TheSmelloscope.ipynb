{
 "cells": [
  {
   "cell_type": "code",
   "execution_count": null,
   "id": "a8537993-281c-455f-835d-c0ab62ae3a1d",
   "metadata": {
    "jupyter": {
     "source_hidden": true
    },
    "tags": []
   },
   "outputs": [],
   "source": [
    "# for testing\n",
    "from openbb_terminal.api import openbb as obb"
   ]
  },
  {
   "cell_type": "markdown",
   "id": "406f4e66-74b6-4b35-9f4e-5b6fdbe66bba",
   "metadata": {
    "tags": []
   },
   "source": [
    "<h1><b><u>The Smelloscope Lab</h1></b></u>\n",
    "<i>Version 0.9.8.9\n",
    "    \n",
    "Last update 11/9/22</i>"
   ]
  },
  {
   "cell_type": "markdown",
   "id": "e86e9cb1-6904-446f-a81d-00f22e1f28b8",
   "metadata": {},
   "source": [
    "<b>Run the cell below after creating stocks list in stocklist.py:</b>\n",
    "\n",
    "<i>Will take ~10 seconds to run per stock.</i>\n",
    "\n",
    "<i>You may see a few API error messages, but don't worry about it.</i>\n",
    "\n",
    "<i>Once data gathering and scoring is complete, the results can be explored or exported using various methods within the lab.</i>"
   ]
  },
  {
   "cell_type": "code",
   "execution_count": null,
   "id": "e5604746-5f9f-47c8-b1ef-24ab36b5ca72",
   "metadata": {
    "tags": []
   },
   "outputs": [],
   "source": [
    "from scope_it_out import *\n",
    "from rare_exports import *"
   ]
  },
  {
   "cell_type": "markdown",
   "id": "4ad2dbc0-ee48-4a12-bd6e-a2e232f25da8",
   "metadata": {},
   "source": [
    "<h3><b>Show the total scores of each company:</h3></b>"
   ]
  },
  {
   "cell_type": "code",
   "execution_count": null,
   "id": "bee749c9-c0d5-43d4-adfa-84f0aaae1c93",
   "metadata": {},
   "outputs": [],
   "source": [
    "show_total_scores(companies)"
   ]
  },
  {
   "cell_type": "markdown",
   "id": "85d64ab4-717b-462d-b113-6122005916c0",
   "metadata": {},
   "source": [
    "<h3><b>Show detailed scorecard for each company:</h3></b>"
   ]
  },
  {
   "cell_type": "code",
   "execution_count": null,
   "id": "39bf472f-e25e-491b-9040-a732579aeb1c",
   "metadata": {},
   "outputs": [],
   "source": [
    "show_scorecards(companies)"
   ]
  },
  {
   "cell_type": "markdown",
   "id": "b7618787-7490-4c21-9670-448b8c68cfc3",
   "metadata": {},
   "source": [
    "<h3><b>Show average values for every metric:</h3></b>"
   ]
  },
  {
   "cell_type": "code",
   "execution_count": null,
   "id": "18944e0a-7249-46dd-b998-241a565a2570",
   "metadata": {},
   "outputs": [],
   "source": [
    "peer_group.display_dfs()"
   ]
  },
  {
   "cell_type": "markdown",
   "id": "bc97b515-ba5f-4d5e-9908-f35d30dafb95",
   "metadata": {},
   "source": [
    "<h3><b>Show detailed metrics for every company</h3></b>"
   ]
  },
  {
   "cell_type": "code",
   "execution_count": null,
   "id": "a75dbfde-2b43-4ca0-8d89-04d43b056e79",
   "metadata": {},
   "outputs": [],
   "source": [
    "show_metrics(companies)"
   ]
  },
  {
   "cell_type": "markdown",
   "id": "0650c9a3-0842-482d-a7f0-3ce6a28413f1",
   "metadata": {},
   "source": [
    "<h3><b>Export detailed metrics for every company as Excel files:</h3></b>"
   ]
  },
  {
   "cell_type": "code",
   "execution_count": null,
   "id": "f89e0880-7063-44b2-86da-441f945de263",
   "metadata": {},
   "outputs": [],
   "source": [
    "export_metrics(companies)"
   ]
  },
  {
   "cell_type": "markdown",
   "id": "a750f18b-020f-4e9a-a5b5-25cce5b18c23",
   "metadata": {
    "tags": []
   },
   "source": [
    "<h3><b>Compare a specific metric for all companies in stocks list:</b></h3>\n",
    "<i>To view all available METRIC NAMES, choose a CATEGORY from the options below, and insert it into the first positional argument of the access_data function.\n",
    "\n",
    "<b>AVAILABLE CATEGORIES:</b> 'basic', 'value', 'mgmt', 'ins', 'div', 'pub_sent', 'analyst', and 'esg'</i>"
   ]
  },
  {
   "cell_type": "code",
   "execution_count": null,
   "id": "4c93e4df-2029-4456-8311-82318b41de0d",
   "metadata": {},
   "outputs": [],
   "source": [
    "companies[stocks[0]].access_data('INSERT CATEGORY', 'options')"
   ]
  },
  {
   "cell_type": "markdown",
   "id": "44701075-e9bb-4ea1-8f9b-9e448ca53b69",
   "metadata": {},
   "source": [
    "<h4><i>To compare metrics for all companies in stocks list, <strong>choose a CATEGORY</strong> to use as positional argument one, <strong>and a METRIC NAME</strong> for positional argument two:</h4></i>"
   ]
  },
  {
   "cell_type": "code",
   "execution_count": null,
   "id": "a58b735f-6cef-4c95-9896-5d4f6e429542",
   "metadata": {},
   "outputs": [],
   "source": [
    "for company in companies.values():\n",
    "    company.access_data('analyst', 'analyst')"
   ]
  },
  {
   "cell_type": "markdown",
   "id": "6db96c0f-fd33-45e7-a5fa-9fc2bfc55eb1",
   "metadata": {},
   "source": [
    "<h3><strong>View headline and link for recent company related news articles:</strong></h3>\n",
    "<i>note: ticker must match one of the tickers in stocks list from stocklist.py</i>"
   ]
  },
  {
   "cell_type": "code",
   "execution_count": null,
   "id": "2c7eb8c5-1e47-4542-9ad2-623699ba8a46",
   "metadata": {},
   "outputs": [],
   "source": [
    "companies['INSERT TICKER'].show_news()"
   ]
  },
  {
   "cell_type": "markdown",
   "id": "724f22c7-545e-46b6-84d2-e1e46b35d006",
   "metadata": {},
   "source": [
    "<h3><b>View results of SEC filings run through a machine learning sentiment analyzer</h3></b>\n",
    "<i>note: ticker must match one of the tickers in stocks list from stocklist.py</i>"
   ]
  },
  {
   "cell_type": "code",
   "execution_count": null,
   "id": "3172bfb8-82bd-4f24-be1e-564c5c83c9fe",
   "metadata": {},
   "outputs": [],
   "source": [
    "companies['INSERT TICKER'].show_sec_analysis()"
   ]
  },
  {
   "cell_type": "markdown",
   "id": "f37f75b0-1d47-4dc8-8695-17806d37fbe6",
   "metadata": {},
   "source": [
    "<h3><b>Create a detailed report and export to Google Sheets:</h3></b>"
   ]
  },
  {
   "cell_type": "code",
   "execution_count": null,
   "id": "34d21383-9684-481d-af12-e086b53bdee0",
   "metadata": {},
   "outputs": [],
   "source": [
    "gs_report('MA', companies, peer_group)"
   ]
  },
  {
   "cell_type": "markdown",
   "id": "4485124b-3011-44c3-8ed9-00ded834d5e9",
   "metadata": {},
   "source": [
    "<b><i>For admin and file management in Google Drive:</b></i>"
   ]
  },
  {
   "cell_type": "code",
   "execution_count": null,
   "id": "f0d09a09-3d6c-42ef-9c41-e5a2b26d94cd",
   "metadata": {},
   "outputs": [],
   "source": [
    "gc.openall() # Show all spreadsheets owned by the Smelloscope. ID can be used to delete in cell below"
   ]
  },
  {
   "cell_type": "code",
   "execution_count": null,
   "id": "8333436d-e397-49fa-8da1-f2a52ea53659",
   "metadata": {},
   "outputs": [],
   "source": [
    "# Delete a spreadsheet. Insert spreadsheet ID as arg\n",
    "gc.del_spreadsheet('1bOceFagboXwyu0eP2NAzkXn0A7ZDP_6rMnkNtG5n6bI')"
   ]
  },
  {
   "cell_type": "code",
   "execution_count": null,
   "id": "b3fd7f7f-a6bd-41a5-8c5e-3d4b2babcc36",
   "metadata": {},
   "outputs": [],
   "source": [
    "# Get list of all spreadsheet names created by Smelloscope app\n",
    "for spreadsheet in gc.list_spreadsheet_files():\n",
    "    print(spreadsheet['name'])"
   ]
  }
 ],
 "metadata": {
  "kernelspec": {
   "display_name": "Python 3 (ipykernel)",
   "language": "python",
   "name": "python3"
  },
  "language_info": {
   "codemirror_mode": {
    "name": "ipython",
    "version": 3
   },
   "file_extension": ".py",
   "mimetype": "text/x-python",
   "name": "python",
   "nbconvert_exporter": "python",
   "pygments_lexer": "ipython3",
   "version": "3.9.13"
  }
 },
 "nbformat": 4,
 "nbformat_minor": 5
}
