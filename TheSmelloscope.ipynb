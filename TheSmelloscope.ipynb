{
 "cells": [
  {
   "cell_type": "code",
   "execution_count": null,
   "id": "67732576-c241-40ed-82f1-78afcc0212b8",
   "metadata": {},
   "outputs": [],
   "source": [
    "from openbb_terminal.api import openbb as obb\n",
    "import pandas as pd\n",
    "from company import Company, PeerGroup\n",
    "from smellogather import company_list, peer_group"
   ]
  },
  {
   "cell_type": "code",
   "execution_count": null,
   "id": "f16547ff-4e01-4319-8858-54c5c2735a4e",
   "metadata": {},
   "outputs": [],
   "source": [
    "for company in company_list:\n",
    "    print(company.df_basic.loc['name'][0])"
   ]
  },
  {
   "cell_type": "code",
   "execution_count": null,
   "id": "660310f6-5c1a-41e0-96ee-37721a711b94",
   "metadata": {},
   "outputs": [],
   "source": [
    "peer_group.display_dfs()"
   ]
  },
  {
   "cell_type": "code",
   "execution_count": null,
   "id": "5ec42671-6d82-4b96-8914-af57abb8c337",
   "metadata": {},
   "outputs": [],
   "source": [
    "# use this Company method to combine selected dataframes and export them into a seperate excel file for each company:\n",
    "for company in company_list:\n",
    "    company.data_to_excel()"
   ]
  },
  {
   "cell_type": "code",
   "execution_count": null,
   "id": "57ed611e-8e90-44b3-9618-32413ed9620b",
   "metadata": {},
   "outputs": [],
   "source": [
    "# use this Company method to display selected company dataframes\n",
    "for company in company_list:\n",
    "    company.display_dfs()"
   ]
  },
  {
   "cell_type": "code",
   "execution_count": null,
   "id": "44323972-7282-4d10-9fa9-55310b234c04",
   "metadata": {},
   "outputs": [],
   "source": [
    "display(company_list[2].df_value)"
   ]
  },
  {
   "cell_type": "code",
   "execution_count": null,
   "id": "e6ddf0a8-b219-40e0-a7c3-a4db917adba6",
   "metadata": {},
   "outputs": [],
   "source": [
    "display(peer_group.df_value)"
   ]
  },
  {
   "cell_type": "code",
   "execution_count": null,
   "id": "eb21dbf0-3189-4b27-8047-2ae6b78a0b27",
   "metadata": {},
   "outputs": [],
   "source": []
  },
  {
   "cell_type": "code",
   "execution_count": null,
   "id": "4c8490c8-4ead-45e8-a014-9e895c7a2c52",
   "metadata": {},
   "outputs": [],
   "source": []
  },
  {
   "cell_type": "code",
   "execution_count": null,
   "id": "2bd77726-4baf-411c-9346-aeedef1cab97",
   "metadata": {},
   "outputs": [],
   "source": [
    "# calculate score for the values metrics against self history and peer averages\n",
    "for x in range(0, 3):\n",
    "    company_list[x].set_scores_value(peer_group)\n",
    "    company_list[x].set_scores_mgmt(peer_group)\n",
    "    company_list[x].set_scores_ins(peer_group)\n",
    "    company_list[x].set_scores_div(peer_group)"
   ]
  },
  {
   "cell_type": "code",
   "execution_count": null,
   "id": "a06a3481-4774-43df-a04d-36d046fe15af",
   "metadata": {},
   "outputs": [],
   "source": [
    "# view the scores\n",
    "for x in range(0, 3):\n",
    "    print(company_list[x].df_basic.loc['name'][0])\n",
    "    display(company_list[x].score_dict['value'])\n",
    "    display(company_list[x].score_dict['mgmt'])\n",
    "    display(company_list[x].score_dict['ins'])\n",
    "    display(company_list[x].score_dict['div'])\n",
    "    print('')"
   ]
  },
  {
   "cell_type": "code",
   "execution_count": null,
   "id": "490da26a-e783-4afc-9ada-a835ad04ad67",
   "metadata": {},
   "outputs": [],
   "source": [
    "# The average of the last 12 dividends\n",
    "company_list[4].div_dfs[1].tail(12).mean(axis=0)[0]"
   ]
  },
  {
   "cell_type": "code",
   "execution_count": null,
   "id": "e25b6dfd-a3f4-4354-9b65-51e01ebb3f42",
   "metadata": {},
   "outputs": [],
   "source": [
    "# The amount of the most recent dividend\n",
    "company_list[4].div_dfs[1].tail(1)['Dividends'][0]"
   ]
  },
  {
   "cell_type": "code",
   "execution_count": null,
   "id": "6c686412-6088-4a76-b417-eb88ae5e6cdd",
   "metadata": {},
   "outputs": [],
   "source": [
    "series"
   ]
  },
  {
   "cell_type": "code",
   "execution_count": null,
   "id": "6bcd56cf-c7cb-45aa-9576-6d82164e2311",
   "metadata": {},
   "outputs": [],
   "source": [
    "company_list[4].div_dfs[0].loc['div'][0]"
   ]
  },
  {
   "cell_type": "code",
   "execution_count": null,
   "id": "0e406d98-8c59-42fd-840d-69dcaac095d8",
   "metadata": {},
   "outputs": [],
   "source": [
    "company_list[0].div_dfs[1].tail(1)['Dividends'][0]"
   ]
  },
  {
   "cell_type": "code",
   "execution_count": null,
   "id": "5f2014ef-0bf9-4560-8606-39a3e722ffe5",
   "metadata": {},
   "outputs": [],
   "source": [
    "company_list[0].div_dfs[1].tail(12).mean(axis=0)[0]"
   ]
  },
  {
   "cell_type": "code",
   "execution_count": null,
   "id": "a460b2eb-a73c-4f40-8a53-d9ab77411112",
   "metadata": {},
   "outputs": [],
   "source": [
    "peer_group.div_dfs[0]"
   ]
  },
  {
   "cell_type": "code",
   "execution_count": null,
   "id": "fe968c90-bd0d-42f5-8bd1-801ee28899f0",
   "metadata": {},
   "outputs": [],
   "source": [
    "company_list[0].div_dfs[0]"
   ]
  },
  {
   "cell_type": "code",
   "execution_count": null,
   "id": "4dc009cb-254d-48f4-9541-64c90185f90a",
   "metadata": {},
   "outputs": [],
   "source": [
    "company_list[1].div_dfs[0]"
   ]
  },
  {
   "cell_type": "code",
   "execution_count": null,
   "id": "e6f81577-1277-4c36-adf3-4453e4a15f8b",
   "metadata": {},
   "outputs": [],
   "source": [
    "peer_group.div_dfs[0].loc['div_y'][0]"
   ]
  },
  {
   "cell_type": "code",
   "execution_count": null,
   "id": "e339f3e7-ee7d-433f-9c61-7f0132a69f97",
   "metadata": {},
   "outputs": [],
   "source": []
  }
 ],
 "metadata": {
  "kernelspec": {
   "display_name": "Python 3 (ipykernel)",
   "language": "python",
   "name": "python3"
  },
  "language_info": {
   "codemirror_mode": {
    "name": "ipython",
    "version": 3
   },
   "file_extension": ".py",
   "mimetype": "text/x-python",
   "name": "python",
   "nbconvert_exporter": "python",
   "pygments_lexer": "ipython3",
   "version": "3.9.13"
  }
 },
 "nbformat": 4,
 "nbformat_minor": 5
}
