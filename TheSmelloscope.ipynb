{
 "cells": [
  {
   "cell_type": "code",
   "execution_count": null,
   "id": "67732576-c241-40ed-82f1-78afcc0212b8",
   "metadata": {},
   "outputs": [],
   "source": [
    "import pandas as pd\n",
    "from company import Company, PeerGroup\n",
    "from smellogather import company_list"
   ]
  },
  {
   "cell_type": "code",
   "execution_count": null,
   "id": "76b23f63-5a60-4400-95bd-7e8ba678b5e9",
   "metadata": {},
   "outputs": [],
   "source": [
    "# Creating PeerGroup object\n",
    "peer_group = PeerGroup(company_list=company_list)"
   ]
  },
  {
   "cell_type": "code",
   "execution_count": null,
   "id": "ba167f9a-9012-4f37-a02a-6287c482b648",
   "metadata": {},
   "outputs": [],
   "source": [
    "# Using method to set df_basic values \n",
    "peer_group.set_df_basic()"
   ]
  },
  {
   "cell_type": "code",
   "execution_count": null,
   "id": "98f6ac02-fe51-480f-891b-c422e4a1845b",
   "metadata": {},
   "outputs": [],
   "source": [
    "# viewing df_basic values\n",
    "peer_group.df_basic.T"
   ]
  },
  {
   "cell_type": "code",
   "execution_count": null,
   "id": "ce97098b-444a-4c6d-8eb2-352f1779f653",
   "metadata": {},
   "outputs": [],
   "source": [
    "# using method to set df_value values (which are averages from peer group)\n",
    "peer_group.set_df_value()"
   ]
  },
  {
   "cell_type": "code",
   "execution_count": null,
   "id": "dddd166c-6d15-4ca2-8a15-42bd35dd63fd",
   "metadata": {},
   "outputs": [],
   "source": [
    "# viewing the peer group average for each value metric\n",
    "peer_group.df_value.T"
   ]
  },
  {
   "cell_type": "code",
   "execution_count": null,
   "id": "5ec42671-6d82-4b96-8914-af57abb8c337",
   "metadata": {},
   "outputs": [],
   "source": [
    "# use this Company method to combine selected dataframes and export them into a seperate excel file for each company:\n",
    "for company in company_list:\n",
    "    company.data_to_excel()"
   ]
  },
  {
   "cell_type": "code",
   "execution_count": null,
   "id": "57ed611e-8e90-44b3-9618-32413ed9620b",
   "metadata": {},
   "outputs": [],
   "source": [
    "# use this Company method to display selected company dataframes\n",
    "for company in company_list:\n",
    "    company.display_dfs()"
   ]
  },
  {
   "cell_type": "code",
   "execution_count": null,
   "id": "63ebecfe-cd5f-4002-a3b0-3d0022fb4996",
   "metadata": {},
   "outputs": [],
   "source": []
  }
 ],
 "metadata": {
  "kernelspec": {
   "display_name": "Python 3 (ipykernel)",
   "language": "python",
   "name": "python3"
  },
  "language_info": {
   "codemirror_mode": {
    "name": "ipython",
    "version": 3
   },
   "file_extension": ".py",
   "mimetype": "text/x-python",
   "name": "python",
   "nbconvert_exporter": "python",
   "pygments_lexer": "ipython3",
   "version": "3.9.13"
  }
 },
 "nbformat": 4,
 "nbformat_minor": 5
}
