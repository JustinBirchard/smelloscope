{
 "cells": [
  {
   "cell_type": "code",
   "execution_count": null,
   "id": "67732576-c241-40ed-82f1-78afcc0212b8",
   "metadata": {},
   "outputs": [],
   "source": [
    "from openbb_terminal.api import openbb as obb\n",
    "import pandas as pd\n",
    "from company import Company, PeerGroup\n",
    "from smellogather import company_list, peer_group"
   ]
  },
  {
   "cell_type": "code",
   "execution_count": null,
   "id": "f16547ff-4e01-4319-8858-54c5c2735a4e",
   "metadata": {},
   "outputs": [],
   "source": [
    "for company in company_list:\n",
    "    print(company.df_basic.loc['name'][0])"
   ]
  },
  {
   "cell_type": "code",
   "execution_count": null,
   "id": "660310f6-5c1a-41e0-96ee-37721a711b94",
   "metadata": {},
   "outputs": [],
   "source": [
    "peer_group.display_dfs()"
   ]
  },
  {
   "cell_type": "code",
   "execution_count": null,
   "id": "5ec42671-6d82-4b96-8914-af57abb8c337",
   "metadata": {},
   "outputs": [],
   "source": [
    "# use this Company method to combine selected dataframes and export them into a seperate excel file for each company:\n",
    "for company in company_list:\n",
    "    company.data_to_excel()"
   ]
  },
  {
   "cell_type": "code",
   "execution_count": null,
   "id": "57ed611e-8e90-44b3-9618-32413ed9620b",
   "metadata": {},
   "outputs": [],
   "source": [
    "# use this Company method to display selected company dataframes\n",
    "for company in company_list:\n",
    "    company.display_dfs()"
   ]
  },
  {
   "cell_type": "code",
   "execution_count": null,
   "id": "a06a3481-4774-43df-a04d-36d046fe15af",
   "metadata": {},
   "outputs": [],
   "source": [
    "# view the scores\n",
    "for slot in range(0, len(company_list)):\n",
    "    print(company_list[slot].df_basic.loc['name'][0])\n",
    "    print('TOTAL SCORE=  ' + str(company_list[slot].score_dict['grand_total']))\n",
    "    print('')\n",
    "    display(company_list[slot].score_dict['value'].T)\n",
    "    display(company_list[slot].score_dict['mgmt'].T)\n",
    "    display(company_list[slot].score_dict['ins'].T)\n",
    "    display(company_list[slot].score_dict['div'].T)\n",
    "    display(company_list[slot].score_dict['pub_sent'].T)\n",
    "    display(company_list[slot].score_dict['analyst_data'].T)\n",
    "    display(company_list[slot].score_dict['esg'].T)\n",
    "    print('')\n",
    "    print('')\n",
    "    print('')"
   ]
  },
  {
   "cell_type": "code",
   "execution_count": null,
   "id": "0dee5fcd-d27d-4b09-b2b6-119aa590ee84",
   "metadata": {},
   "outputs": [],
   "source": [
    "# view the Grand Total score for each company\n",
    "for slot in range(0, len(company_list)):\n",
    "    print(company_list[slot].df_basic.loc['name'][0])\n",
    "    print(str(company_list[slot].score_dict['grand_total']))\n",
    "    print('')\n",
    "    print('')"
   ]
  },
  {
   "cell_type": "code",
   "execution_count": null,
   "id": "4f741346-ff13-4e48-a5aa-bb76b54a61b0",
   "metadata": {},
   "outputs": [],
   "source": []
  }
 ],
 "metadata": {
  "kernelspec": {
   "display_name": "Python 3 (ipykernel)",
   "language": "python",
   "name": "python3"
  },
  "language_info": {
   "codemirror_mode": {
    "name": "ipython",
    "version": 3
   },
   "file_extension": ".py",
   "mimetype": "text/x-python",
   "name": "python",
   "nbconvert_exporter": "python",
   "pygments_lexer": "ipython3",
   "version": "3.9.13"
  }
 },
 "nbformat": 4,
 "nbformat_minor": 5
}
