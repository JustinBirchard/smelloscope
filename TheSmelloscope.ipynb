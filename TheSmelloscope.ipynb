{
 "cells": [
  {
   "cell_type": "code",
   "execution_count": null,
   "id": "67732576-c241-40ed-82f1-78afcc0212b8",
   "metadata": {},
   "outputs": [],
   "source": [
    "from openbb_terminal.api import openbb as obb\n",
    "import pandas as pd\n",
    "from company import Company, PeerGroup\n",
    "from smellogather import company_list"
   ]
  },
  {
   "cell_type": "code",
   "execution_count": null,
   "id": "78a7e6c2-ebe1-45f9-b9f3-757427703b9f",
   "metadata": {},
   "outputs": [],
   "source": [
    "# Creating PeerGroup object\n",
    "peer_group = PeerGroup(company_list=company_list)\n",
    "\n",
    "# Pulling in the data for PeerGroup object\n",
    "peer_group.set_all_data()"
   ]
  },
  {
   "cell_type": "code",
   "execution_count": null,
   "id": "f16547ff-4e01-4319-8858-54c5c2735a4e",
   "metadata": {},
   "outputs": [],
   "source": [
    "for company in company_list:\n",
    "    print(company.df_basic.loc['name'][0])"
   ]
  },
  {
   "cell_type": "code",
   "execution_count": null,
   "id": "660310f6-5c1a-41e0-96ee-37721a711b94",
   "metadata": {},
   "outputs": [],
   "source": [
    "peer_group.display_dfs()"
   ]
  },
  {
   "cell_type": "code",
   "execution_count": null,
   "id": "5ec42671-6d82-4b96-8914-af57abb8c337",
   "metadata": {},
   "outputs": [],
   "source": [
    "# use this Company method to combine selected dataframes and export them into a seperate excel file for each company:\n",
    "for company in company_list:\n",
    "    company.data_to_excel()"
   ]
  },
  {
   "cell_type": "code",
   "execution_count": null,
   "id": "57ed611e-8e90-44b3-9618-32413ed9620b",
   "metadata": {},
   "outputs": [],
   "source": [
    "# use this Company method to display selected company dataframes\n",
    "for company in company_list:\n",
    "    company.display_dfs()"
   ]
  },
  {
   "cell_type": "code",
   "execution_count": null,
   "id": "b5ace34a-dd28-447d-b687-c311447cfeaf",
   "metadata": {},
   "outputs": [],
   "source": [
    "peer_group.data_to_excel()"
   ]
  },
  {
   "cell_type": "code",
   "execution_count": null,
   "id": "2dc40aee-e79f-427f-bfa4-cb023c4aa3d5",
   "metadata": {},
   "outputs": [],
   "source": []
  }
 ],
 "metadata": {
  "kernelspec": {
   "display_name": "Python 3 (ipykernel)",
   "language": "python",
   "name": "python3"
  },
  "language_info": {
   "codemirror_mode": {
    "name": "ipython",
    "version": 3
   },
   "file_extension": ".py",
   "mimetype": "text/x-python",
   "name": "python",
   "nbconvert_exporter": "python",
   "pygments_lexer": "ipython3",
   "version": "3.9.13"
  }
 },
 "nbformat": 4,
 "nbformat_minor": 5
}
