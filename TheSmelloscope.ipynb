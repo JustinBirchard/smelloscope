{
 "cells": [
  {
   "cell_type": "code",
   "execution_count": null,
   "id": "67732576-c241-40ed-82f1-78afcc0212b8",
   "metadata": {},
   "outputs": [],
   "source": [
    "from openbb_terminal.api import openbb as obb\n",
    "import pandas as pd\n",
    "from company import Company, PeerGroup\n",
    "from smellogather import company_list, peer_group"
   ]
  },
  {
   "cell_type": "code",
   "execution_count": null,
   "id": "f16547ff-4e01-4319-8858-54c5c2735a4e",
   "metadata": {},
   "outputs": [],
   "source": [
    "for company in company_list:\n",
    "    print(company.df_basic.loc['name'][0])"
   ]
  },
  {
   "cell_type": "code",
   "execution_count": null,
   "id": "660310f6-5c1a-41e0-96ee-37721a711b94",
   "metadata": {},
   "outputs": [],
   "source": [
    "peer_group.display_dfs()"
   ]
  },
  {
   "cell_type": "code",
   "execution_count": null,
   "id": "5ec42671-6d82-4b96-8914-af57abb8c337",
   "metadata": {},
   "outputs": [],
   "source": [
    "# use this Company method to combine selected dataframes and export them into a seperate excel file for each company:\n",
    "for company in company_list:\n",
    "    company.data_to_excel()"
   ]
  },
  {
   "cell_type": "code",
   "execution_count": null,
   "id": "57ed611e-8e90-44b3-9618-32413ed9620b",
   "metadata": {},
   "outputs": [],
   "source": [
    "# use this Company method to display selected company dataframes\n",
    "for company in company_list:\n",
    "    company.display_dfs()"
   ]
  },
  {
   "cell_type": "code",
   "execution_count": null,
   "id": "4c8490c8-4ead-45e8-a014-9e895c7a2c52",
   "metadata": {},
   "outputs": [],
   "source": []
  },
  {
   "cell_type": "code",
   "execution_count": null,
   "id": "2bd77726-4baf-411c-9346-aeedef1cab97",
   "metadata": {},
   "outputs": [],
   "source": [
    "# calculate score for the values metrics against self history and peer averages\n",
    "for x in range(0, 10):\n",
    "    company_list[x].set_scores_value(peer_group)\n",
    "    company_list[x].set_scores_mgmt(peer_group)\n",
    "    company_list[x].set_scores_ins(peer_group)\n",
    "    company_list[x].set_scores_div(peer_group)\n",
    "    company_list[x].set_scores_pub_sent(peer_group)\n",
    "    company_list[x].set_scores_analyst_data(peer_group)"
   ]
  },
  {
   "cell_type": "code",
   "execution_count": null,
   "id": "a06a3481-4774-43df-a04d-36d046fe15af",
   "metadata": {},
   "outputs": [],
   "source": [
    "# view the scores\n",
    "for x in range(0, 10):\n",
    "    print(company_list[x].df_basic.loc['name'][0])\n",
    "    display(company_list[x].score_dict['value'])\n",
    "    display(company_list[x].score_dict['mgmt'])\n",
    "    display(company_list[x].score_dict['ins'])\n",
    "    display(company_list[x].score_dict['div'])\n",
    "    display(company_list[x].score_dict['pub_sent'])\n",
    "    display(company_list[x].score_dict['analyst_data'])\n",
    "    print('')"
   ]
  },
  {
   "cell_type": "code",
   "execution_count": null,
   "id": "0120cb89-a71d-41a7-8494-ad951b7cc921",
   "metadata": {},
   "outputs": [],
   "source": []
  },
  {
   "cell_type": "markdown",
   "id": "e0377adb-d25a-4120-acf2-d8291f441e75",
   "metadata": {},
   "source": [
    "Need to decide how to setup df_esg and peer df_esg in the system. The Keys below are the ones I think I want:"
   ]
  },
  {
   "cell_type": "code",
   "execution_count": null,
   "id": "130c0d9a-ea00-481d-a5f7-76cdcf614222",
   "metadata": {},
   "outputs": [],
   "source": [
    "for company in company_list:\n",
    "    try:\n",
    "        print(company.df_esg.loc['Environment score'][0])\n",
    "    \n",
    "    except KeyError:\n",
    "        print('n/a')\n",
    "        "
   ]
  },
  {
   "cell_type": "code",
   "execution_count": null,
   "id": "d2598c72-6f4f-46c5-8e6f-bd1afc1d3a45",
   "metadata": {},
   "outputs": [],
   "source": [
    "company_list[1].df_esg.loc['Esg performance'][0]"
   ]
  },
  {
   "cell_type": "code",
   "execution_count": null,
   "id": "b023ba9f-4437-402f-b79e-21642716e503",
   "metadata": {},
   "outputs": [],
   "source": [
    "company_list[1].df_esg.loc['Environment score'][0]"
   ]
  },
  {
   "cell_type": "code",
   "execution_count": null,
   "id": "31e65b19-bd92-4d40-8e3c-5c0030d06f6e",
   "metadata": {},
   "outputs": [],
   "source": [
    "company_list[1].df_esg.loc['Total esg'][0]"
   ]
  },
  {
   "cell_type": "code",
   "execution_count": null,
   "id": "e01ff4d8-28e2-4f7e-9d44-85142443d791",
   "metadata": {},
   "outputs": [],
   "source": [
    "company_list[1].df_esg.loc['Social score'][0]"
   ]
  },
  {
   "cell_type": "code",
   "execution_count": null,
   "id": "366f5eb4-0415-44e6-b5ea-ddada5194ec4",
   "metadata": {},
   "outputs": [],
   "source": [
    "company_list[1].df_esg"
   ]
  },
  {
   "cell_type": "code",
   "execution_count": null,
   "id": "d46880ce-71f3-4639-a7c3-8f90db0892a3",
   "metadata": {},
   "outputs": [],
   "source": []
  }
 ],
 "metadata": {
  "kernelspec": {
   "display_name": "Python 3 (ipykernel)",
   "language": "python",
   "name": "python3"
  },
  "language_info": {
   "codemirror_mode": {
    "name": "ipython",
    "version": 3
   },
   "file_extension": ".py",
   "mimetype": "text/x-python",
   "name": "python",
   "nbconvert_exporter": "python",
   "pygments_lexer": "ipython3",
   "version": "3.9.13"
  }
 },
 "nbformat": 4,
 "nbformat_minor": 5
}
