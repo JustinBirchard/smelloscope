{
 "cells": [
  {
   "cell_type": "code",
   "execution_count": null,
   "id": "a8537993-281c-455f-835d-c0ab62ae3a1d",
   "metadata": {
    "tags": []
   },
   "outputs": [],
   "source": [
    "# for testing\n",
    "from openbb_terminal.api import openbb as obb"
   ]
  },
  {
   "cell_type": "markdown",
   "id": "406f4e66-74b6-4b35-9f4e-5b6fdbe66bba",
   "metadata": {
    "tags": []
   },
   "source": [
    "<h1><b><u>The Smelloscope Lab</h1></b></u>\n",
    "<i>Version 0.9.9.7\n",
    "\n",
    "Last update 11/15/22</i>"
   ]
  },
  {
   "cell_type": "markdown",
   "id": "e86e9cb1-6904-446f-a81d-00f22e1f28b8",
   "metadata": {},
   "source": [
    "<b>Run the cell below after creating stocks list in stocklist.py:</b>\n",
    "\n",
    "<i>Will take ~10 seconds to run per stock.</i>\n",
    "\n",
    "<i>You may see a few API error messages, but don't worry about it.</i>\n",
    "\n",
    "<i>Once data gathering and scoring is complete, the results can be explored or exported using various methods within the lab.</i>"
   ]
  },
  {
   "cell_type": "code",
   "execution_count": null,
   "id": "e5604746-5f9f-47c8-b1ef-24ab36b5ca72",
   "metadata": {
    "tags": []
   },
   "outputs": [],
   "source": [
    "from scope_it_out import *\n",
    "from rare_exports import *"
   ]
  },
  {
   "cell_type": "markdown",
   "id": "4ad2dbc0-ee48-4a12-bd6e-a2e232f25da8",
   "metadata": {},
   "source": [
    "<h3><b>Show the total scores of each company:</h3></b>"
   ]
  },
  {
   "cell_type": "code",
   "execution_count": null,
   "id": "bee749c9-c0d5-43d4-adfa-84f0aaae1c93",
   "metadata": {},
   "outputs": [],
   "source": [
    "show_total_scores(companies)"
   ]
  },
  {
   "cell_type": "markdown",
   "id": "85d64ab4-717b-462d-b113-6122005916c0",
   "metadata": {},
   "source": [
    "<h3><b>Show detailed scorecard for each company:</h3></b>"
   ]
  },
  {
   "cell_type": "code",
   "execution_count": null,
   "id": "39bf472f-e25e-491b-9040-a732579aeb1c",
   "metadata": {},
   "outputs": [],
   "source": [
    "show_scorecards(companies)"
   ]
  },
  {
   "cell_type": "markdown",
   "id": "b7618787-7490-4c21-9670-448b8c68cfc3",
   "metadata": {},
   "source": [
    "<h3><b>Show average values for every metric:</h3></b>"
   ]
  },
  {
   "cell_type": "code",
   "execution_count": null,
   "id": "18944e0a-7249-46dd-b998-241a565a2570",
   "metadata": {},
   "outputs": [],
   "source": [
    "peer_group.display_dfs()"
   ]
  },
  {
   "cell_type": "markdown",
   "id": "bc97b515-ba5f-4d5e-9908-f35d30dafb95",
   "metadata": {},
   "source": [
    "<h3><b>Show detailed metrics for every company</h3></b>"
   ]
  },
  {
   "cell_type": "code",
   "execution_count": null,
   "id": "a75dbfde-2b43-4ca0-8d89-04d43b056e79",
   "metadata": {},
   "outputs": [],
   "source": [
    "show_metrics(companies)"
   ]
  },
  {
   "cell_type": "markdown",
   "id": "0650c9a3-0842-482d-a7f0-3ce6a28413f1",
   "metadata": {},
   "source": [
    "<h3><b>Export detailed metrics for every company as Excel files:</h3></b>"
   ]
  },
  {
   "cell_type": "code",
   "execution_count": null,
   "id": "f89e0880-7063-44b2-86da-441f945de263",
   "metadata": {},
   "outputs": [],
   "source": [
    "export_metrics(companies)"
   ]
  },
  {
   "cell_type": "markdown",
   "id": "a750f18b-020f-4e9a-a5b5-25cce5b18c23",
   "metadata": {
    "tags": []
   },
   "source": [
    "<h3><b>Compare a specific metric for all companies in stocks list:</b></h3>\n",
    "<i>To view all available METRIC NAMES, choose a CATEGORY from the options below, and insert it into the first positional argument of the access_data function.\n",
    "\n",
    "<b>AVAILABLE CATEGORIES:</b> 'basic', 'value', 'mgmt', 'ins', 'div', 'pub_sent', 'analyst', and 'esg'</i>"
   ]
  },
  {
   "cell_type": "code",
   "execution_count": null,
   "id": "4c93e4df-2029-4456-8311-82318b41de0d",
   "metadata": {},
   "outputs": [],
   "source": [
    "companies[stocks[0]].access_data('INSERT CATEGORY', 'options')"
   ]
  },
  {
   "cell_type": "markdown",
   "id": "44701075-e9bb-4ea1-8f9b-9e448ca53b69",
   "metadata": {},
   "source": [
    "<h4><i>To compare metrics for all companies in stocks list, <strong>choose a CATEGORY</strong> to use as positional argument one, <strong>and a METRIC NAME</strong> for positional argument two:</h4></i>"
   ]
  },
  {
   "cell_type": "code",
   "execution_count": null,
   "id": "a58b735f-6cef-4c95-9896-5d4f6e429542",
   "metadata": {},
   "outputs": [],
   "source": [
    "for company in companies.values():\n",
    "    company.access_data('INSERT CATEGORY', 'INSERT METRIC NAME')"
   ]
  },
  {
   "cell_type": "markdown",
   "id": "6db96c0f-fd33-45e7-a5fa-9fc2bfc55eb1",
   "metadata": {},
   "source": [
    "<h3><strong>View headline and link for recent company related news articles:</strong></h3>\n",
    "<i>note: ticker must match one of the tickers in stocks list from stocklist.py</i>"
   ]
  },
  {
   "cell_type": "code",
   "execution_count": null,
   "id": "2c7eb8c5-1e47-4542-9ad2-623699ba8a46",
   "metadata": {},
   "outputs": [],
   "source": [
    "companies['GOOGL'].show_news()"
   ]
  },
  {
   "cell_type": "markdown",
   "id": "724f22c7-545e-46b6-84d2-e1e46b35d006",
   "metadata": {},
   "source": [
    "<h3><b>View results of SEC filings run through a machine learning sentiment analyzer</h3></b>\n",
    "<i>note: ticker must match one of the tickers in stocks list from stocklist.py</i>"
   ]
  },
  {
   "cell_type": "code",
   "execution_count": null,
   "id": "3172bfb8-82bd-4f24-be1e-564c5c83c9fe",
   "metadata": {},
   "outputs": [],
   "source": [
    "companies['MSFT'].show_sec_analysis()"
   ]
  },
  {
   "cell_type": "markdown",
   "id": "f37f75b0-1d47-4dc8-8695-17806d37fbe6",
   "metadata": {},
   "source": [
    "<h1><b><u>Create a detailed report and export to Google Sheets:</h1></u></b>"
   ]
  },
  {
   "cell_type": "markdown",
   "id": "6f1e6fe1-7d07-4ca6-be04-8ad4477e8a25",
   "metadata": {},
   "source": [
    "<h4>Optional Args:</h4> <b>custom=</b> <i>String to add to file name</i>, <b>e_to_j=</b> <i>Default False, True sends to Jeff,</i> <b>e_to_m=</b> <i>Default False, True sends to Mary</i>"
   ]
  },
  {
   "cell_type": "code",
   "execution_count": null,
   "id": "34d21383-9684-481d-af12-e086b53bdee0",
   "metadata": {},
   "outputs": [],
   "source": [
    "gs_export('ZTS', companies, peer_group)"
   ]
  },
  {
   "cell_type": "markdown",
   "id": "4485124b-3011-44c3-8ed9-00ded834d5e9",
   "metadata": {},
   "source": [
    "<b><i>For admin and file management in Google Drive:</b></i>"
   ]
  },
  {
   "cell_type": "code",
   "execution_count": null,
   "id": "f0d09a09-3d6c-42ef-9c41-e5a2b26d94cd",
   "metadata": {},
   "outputs": [],
   "source": [
    "gc.openall() # Show all spreadsheets owned by the Smelloscope. ID can be used to delete in cell below"
   ]
  },
  {
   "cell_type": "code",
   "execution_count": null,
   "id": "8333436d-e397-49fa-8da1-f2a52ea53659",
   "metadata": {},
   "outputs": [],
   "source": [
    "# Delete a spreadsheet. Insert spreadsheet ID as arg\n",
    "gc.del_spreadsheet('1ywAuTbdQkFqwXGRWo-NqgG2DdKAIx9Q5uunfgGRlJlQ')"
   ]
  },
  {
   "cell_type": "code",
   "execution_count": null,
   "id": "b3fd7f7f-a6bd-41a5-8c5e-3d4b2babcc36",
   "metadata": {},
   "outputs": [],
   "source": [
    "# Get list of all spreadsheet names created by Smelloscope app\n",
    "for spreadsheet in gc.list_spreadsheet_files():\n",
    "    print(spreadsheet['name'])"
   ]
  },
  {
   "cell_type": "markdown",
   "id": "6f1084e1-6c0d-48e7-89ec-40364fca95e4",
   "metadata": {},
   "source": [
    "<h2>New PeerGroup Attributes:</h2>"
   ]
  },
  {
   "cell_type": "code",
   "execution_count": null,
   "id": "bf73f399-0830-4cd3-9e53-4514ee19b9b7",
   "metadata": {},
   "outputs": [],
   "source": [
    "# Picks the top scoring stocks from the group based on grand_total. \n",
    "# Number of stocks picked for \"top\" will be 5 if stocks list is >5. \n",
    "# If stocks list >4 but <=5 it'll be top 3. If stocks list >=2 but <3 it will just be top 1.\n",
    "peer_group.top_scores"
   ]
  },
  {
   "cell_type": "code",
   "execution_count": null,
   "id": "457ed953-1e6f-4ced-9ac6-ca486ba2cc15",
   "metadata": {},
   "outputs": [],
   "source": [
    "# Scores seperated by category then company\n",
    "peer_group.category_totals"
   ]
  },
  {
   "cell_type": "code",
   "execution_count": null,
   "id": "97458e1e-dd5e-4879-90b9-0cde6e4a4b7b",
   "metadata": {},
   "outputs": [],
   "source": [
    "# Scores sepereated by company then category\n",
    "peer_group.peer_score_totals"
   ]
  },
  {
   "cell_type": "code",
   "execution_count": null,
   "id": "74bdfede-d8ea-45ea-9762-278955b4a5c8",
   "metadata": {},
   "outputs": [],
   "source": [
    "# Dictionary containing category totals for the top X winners by grand_total\n",
    "peer_group.winners"
   ]
  },
  {
   "cell_type": "code",
   "execution_count": null,
   "id": "3a2e94fe-6486-429c-a1e5-d65879cab26b",
   "metadata": {},
   "outputs": [],
   "source": []
  },
  {
   "cell_type": "code",
   "execution_count": null,
   "id": "6f87cc45-c2c2-4b7b-b418-32c98c6fcac3",
   "metadata": {
    "tags": []
   },
   "outputs": [],
   "source": [
    "## FOR TESTING WITH GSPREAD"
   ]
  },
  {
   "cell_type": "code",
   "execution_count": null,
   "id": "a861d7a7-9465-453d-9f06-8f3d912a0ce5",
   "metadata": {
    "tags": []
   },
   "outputs": [],
   "source": [
    "import gspread\n",
    "gc = gspread.service_account(filename='smelloscope-bf9b919f41a7.json')"
   ]
  },
  {
   "cell_type": "code",
   "execution_count": null,
   "id": "7925fa98-72e4-4ecf-857b-9d4b0456e07d",
   "metadata": {
    "tags": []
   },
   "outputs": [],
   "source": [
    "sh = gc.create(f'TEST1') # creating spreadsheet object\n",
    "print(f'Creating Google Spreadsheet')\n",
    "\n",
    "# sharing via email\n",
    "sh.share('ssrjustin@gmail.com', perm_type='user', role='writer')\n",
    "\n",
    "# Adding worksheets\n",
    "test1 = sh.add_worksheet(title=\"test1\", rows=100, cols=13)"
   ]
  },
  {
   "cell_type": "code",
   "execution_count": null,
   "id": "641d19de-6ec2-40d6-9fc1-7eda645e8e1f",
   "metadata": {
    "tags": []
   },
   "outputs": [],
   "source": [
    "test1.batch_update([{\n",
    "    'range': 'A1:N1',\n",
    "    'values': [values],\n",
    "}, {\n",
    "    'range': 'A2:B2',\n",
    "    'values': [['44', '45']],\n",
    "}])"
   ]
  },
  {
   "cell_type": "code",
   "execution_count": null,
   "id": "339ea194-41c1-4c98-96dc-73a08bef7b6b",
   "metadata": {},
   "outputs": [],
   "source": []
  },
  {
   "cell_type": "code",
   "execution_count": null,
   "id": "64abe2c8-574f-4373-9182-bab38b969fce",
   "metadata": {},
   "outputs": [],
   "source": [
    "i_titles = []\n",
    "i_links = []\n",
    "for index in peer_group.news_dfs[1].index:\n",
    "    i_titles.append([peer_group.news_dfs[1].loc[index]['title']])\n",
    "    i_links.append([peer_group.news_dfs[1].loc[index]['link']])\n",
    "    \n",
    "i_titles = i_titles[:10]\n",
    "i_links = i_links[:10]"
   ]
  },
  {
   "cell_type": "code",
   "execution_count": null,
   "id": "714f4dff-fb60-475a-8b92-6be15a744846",
   "metadata": {},
   "outputs": [],
   "source": [
    "i_titles[:10]"
   ]
  },
  {
   "cell_type": "code",
   "execution_count": null,
   "id": "9390c2fe-10ac-416a-b263-fc9ab8921289",
   "metadata": {},
   "outputs": [],
   "source": [
    "i_links"
   ]
  },
  {
   "cell_type": "code",
   "execution_count": null,
   "id": "24daebb8-8c95-458f-9e02-560d94955567",
   "metadata": {},
   "outputs": [],
   "source": [
    "companies['GOOGL'].news_dfs[0].loc[1]['link']"
   ]
  },
  {
   "cell_type": "code",
   "execution_count": null,
   "id": "0ef06d3d-0f98-4c28-a3c1-8bc9c98315ef",
   "metadata": {},
   "outputs": [],
   "source": [
    "companies['GOOGL'].news_dfs[0].loc[1]['title']"
   ]
  },
  {
   "cell_type": "code",
   "execution_count": null,
   "id": "61fe0ffb-3bda-4468-8158-abbb7d04ca75",
   "metadata": {},
   "outputs": [],
   "source": [
    "companies['GOOGL'].sec_analysis[0]"
   ]
  },
  {
   "cell_type": "code",
   "execution_count": null,
   "id": "bf35ce3d-42bf-4582-9ac5-0b524ee92e6e",
   "metadata": {},
   "outputs": [],
   "source": [
    "peer_group.news_dfs[1]"
   ]
  },
  {
   "cell_type": "code",
   "execution_count": null,
   "id": "8bffe61c-aa07-4d99-8e55-31ca2079d89f",
   "metadata": {},
   "outputs": [],
   "source": [
    "esg_name = []\n",
    "esg_value = []\n",
    "for name in companies['GOOGL'].df_full_esg.index:\n",
    "    esg_name.append([name])\n",
    "    esg_value.append([companies['GOOGL'].df_full_esg.loc[name][0]])"
   ]
  },
  {
   "cell_type": "code",
   "execution_count": null,
   "id": "50c14bbc-73e2-48f1-88a0-31ab6efbfcc5",
   "metadata": {},
   "outputs": [],
   "source": [
    "len(esg_value)"
   ]
  },
  {
   "cell_type": "code",
   "execution_count": null,
   "id": "6127594a-686c-4892-a71d-74db4a69933e",
   "metadata": {},
   "outputs": [],
   "source": [
    "topic_type = []\n",
    "is_good = []\n",
    "text_analyzed = []\n",
    "\n",
    "for index in companies['AAPL'].sec_analysis[0].index:\n",
    "    topic_type.append([companies['AAPL'].sec_analysis[0].loc[index][0]])\n",
    "    is_good.append([companies['AAPL'].sec_analysis[0].loc[index][1]])\n",
    "    text_analyzed.append([companies['AAPL'].sec_analysis[0].loc[index][2]])"
   ]
  },
  {
   "cell_type": "code",
   "execution_count": null,
   "id": "50bb0843-34f8-4481-b2a6-2ecfaad2fd8e",
   "metadata": {},
   "outputs": [],
   "source": [
    "sec_all_one_column = []\n",
    "\n",
    "for index in companies['AAPL'].sec_analysis[0].index:\n",
    "    sec_all_one_column.append([f\"Category: {companies['AAPL'].sec_analysis[0].loc[index][0]}\"])\n",
    "    sec_all_one_column.append([f\"Good news? {companies['AAPL'].sec_analysis[0].loc[index][1]}\"])\n",
    "    sec_all_one_column.append([\"Sentence Analyzed:\"])\n",
    "    sec_all_one_column.append([companies['AAPL'].sec_analysis[0].loc[index][2]])"
   ]
  },
  {
   "cell_type": "code",
   "execution_count": null,
   "id": "8678262c-6349-4a20-8a40-5265f721ed2f",
   "metadata": {},
   "outputs": [],
   "source": [
    "len(sec_all_one_column)"
   ]
  },
  {
   "cell_type": "code",
   "execution_count": null,
   "id": "5d625cec-608e-4c61-8a82-70daad6d78ec",
   "metadata": {},
   "outputs": [],
   "source": []
  },
  {
   "cell_type": "code",
   "execution_count": null,
   "id": "76b670c0-1d82-46bf-86e8-59f05243941d",
   "metadata": {},
   "outputs": [],
   "source": [
    "sec_all_one_column"
   ]
  },
  {
   "cell_type": "code",
   "execution_count": null,
   "id": "861243c3-9d5a-4681-b615-431b0dd849c3",
   "metadata": {},
   "outputs": [],
   "source": [
    "for x in range(3, 201, 4):\n",
    "    print(x)"
   ]
  },
  {
   "cell_type": "code",
   "execution_count": null,
   "id": "2aeb5c2c-19c9-45af-a801-f83100f05403",
   "metadata": {},
   "outputs": [],
   "source": []
  }
 ],
 "metadata": {
  "kernelspec": {
   "display_name": "Python 3 (ipykernel)",
   "language": "python",
   "name": "python3"
  },
  "language_info": {
   "codemirror_mode": {
    "name": "ipython",
    "version": 3
   },
   "file_extension": ".py",
   "mimetype": "text/x-python",
   "name": "python",
   "nbconvert_exporter": "python",
   "pygments_lexer": "ipython3",
   "version": "3.9.13"
  }
 },
 "nbformat": 4,
 "nbformat_minor": 5
}
