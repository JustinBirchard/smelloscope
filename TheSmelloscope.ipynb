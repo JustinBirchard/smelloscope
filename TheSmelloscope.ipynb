{
 "cells": [
  {
   "cell_type": "markdown",
   "id": "406f4e66-74b6-4b35-9f4e-5b6fdbe66bba",
   "metadata": {
    "tags": []
   },
   "source": [
    "<h1><b><u>The Smelloscope Lab</h1></b></u>\n",
    "<i>Version 1.3\n",
    "\n",
    "Last update 12/2/22</i>"
   ]
  },
  {
   "cell_type": "markdown",
   "id": "e86e9cb1-6904-446f-a81d-00f22e1f28b8",
   "metadata": {},
   "source": [
    "<b>Run the cell below after creating a stock list in stocklist.py</b><br>\n",
    "<b>Alternately, you can also uncomment one of the preset stock lists in stocklist.py:</b>\n",
    "\n",
    "<i>Will take ~10 seconds to run per stock.</i><br>\n",
    "<i>Most API error messages will be handled without crashing.</i>\n",
    "\n",
    "<i>Once data gathering and scoring is complete, the results can be explored or exported using various methods within the lab below.</i>"
   ]
  },
  {
   "cell_type": "code",
   "execution_count": 1,
   "id": "e5604746-5f9f-47c8-b1ef-24ab36b5ca72",
   "metadata": {
    "tags": []
   },
   "outputs": [
    {
     "name": "stdout",
     "output_type": "stream",
     "text": [
      "Preparing olfactory sensory neurons...\n",
      "\n"
     ]
    },
    {
     "name": "stdin",
     "output_type": "stream",
     "text": [
      "Would you like to use a preset group of stocks?(y/n):  y\n"
     ]
    },
    {
     "name": "stdout",
     "output_type": "stream",
     "text": [
      "\n",
      "auto\n",
      "biomedical\n",
      "software_games\n",
      "software_general\n",
      "clothing\n",
      "computers_hardware\n",
      "consumer_disc\n",
      "drugs\n",
      "ent_and_media\n",
      "fincial_services\n",
      "health_tech\n",
      "internet_commerce\n",
      "internet_data_info\n",
      "energy_oil\n",
      "reits_healthcare\n",
      "reits_storage\n",
      "semiconductor_related\n",
      "toys_games\n",
      "fifty_heaviest_sp500\n",
      "next_fifty_heaviest\n",
      "\n"
     ]
    },
    {
     "name": "stdin",
     "output_type": "stream",
     "text": [
      "Enter a preset from the choices above:  auto\n"
     ]
    },
    {
     "name": "stdout",
     "output_type": "stream",
     "text": [
      "Angling the scope towards an interesting cluster...\n",
      "\n",
      "\n",
      "Getting a whiff of PACCAR Inc\n",
      "PCAR has been sniffed.\n",
      "\n",
      "Getting a whiff of Ferrari N.V.\n"
     ]
    },
    {
     "data": {
      "text/html": [
       "<pre style=\"white-space:pre;overflow-x:auto;line-height:normal;font-family:Menlo,'DejaVu Sans Mono',consolas,'Courier New',monospace\"><span style=\"color: #800000; text-decoration-color: #800000\">Error: list index out of range</span>\n",
       "\n",
       "</pre>\n"
      ],
      "text/plain": [
       "\u001b[31mError: list index out of range\u001b[0m\n",
       "\n"
      ]
     },
     "metadata": {},
     "output_type": "display_data"
    },
    {
     "name": "stdout",
     "output_type": "stream",
     "text": [
      "SEC data was not available for RACE. No big deal, moving on.\n",
      "\n",
      "\n"
     ]
    },
    {
     "ename": "KeyboardInterrupt",
     "evalue": "",
     "output_type": "error",
     "traceback": [
      "\u001b[1;31m---------------------------------------------------------------------------\u001b[0m",
      "\u001b[1;31mKeyboardInterrupt\u001b[0m                         Traceback (most recent call last)",
      "Cell \u001b[1;32mIn [1], line 1\u001b[0m\n\u001b[1;32m----> 1\u001b[0m \u001b[38;5;28;01mfrom\u001b[39;00m \u001b[38;5;21;01mscope_it_out\u001b[39;00m \u001b[38;5;28;01mimport\u001b[39;00m \u001b[38;5;241m*\u001b[39m\n\u001b[0;32m      2\u001b[0m \u001b[38;5;28;01mfrom\u001b[39;00m \u001b[38;5;21;01mrare_exports\u001b[39;00m \u001b[38;5;28;01mimport\u001b[39;00m \u001b[38;5;241m*\u001b[39m\n",
      "File \u001b[1;32m~\\Desktop\\Justin-Birchard-Github\\smelloscope\\scope_it_out.py:300\u001b[0m\n\u001b[0;32m    298\u001b[0m name \u001b[38;5;241m=\u001b[39m obb\u001b[38;5;241m.\u001b[39mstocks\u001b[38;5;241m.\u001b[39mfa\u001b[38;5;241m.\u001b[39mprofile(stock)\u001b[38;5;241m.\u001b[39mloc[\u001b[38;5;124m'\u001b[39m\u001b[38;5;124mcompanyName\u001b[39m\u001b[38;5;124m'\u001b[39m][\u001b[38;5;241m0\u001b[39m]\n\u001b[0;32m    299\u001b[0m ticker \u001b[38;5;241m=\u001b[39m stock\n\u001b[1;32m--> 300\u001b[0m sector \u001b[38;5;241m=\u001b[39m \u001b[43mobb\u001b[49m\u001b[38;5;241;43m.\u001b[39;49m\u001b[43mstocks\u001b[49m\u001b[38;5;241;43m.\u001b[39;49m\u001b[43mfa\u001b[49m\u001b[38;5;241;43m.\u001b[39;49m\u001b[43mprofile\u001b[49m\u001b[43m(\u001b[49m\u001b[43mstock\u001b[49m\u001b[43m)\u001b[49m\u001b[38;5;241m.\u001b[39mloc[\u001b[38;5;124m'\u001b[39m\u001b[38;5;124msector\u001b[39m\u001b[38;5;124m'\u001b[39m][\u001b[38;5;241m0\u001b[39m]\n\u001b[0;32m    301\u001b[0m industry \u001b[38;5;241m=\u001b[39m obb\u001b[38;5;241m.\u001b[39mstocks\u001b[38;5;241m.\u001b[39mfa\u001b[38;5;241m.\u001b[39mprofile(stock)\u001b[38;5;241m.\u001b[39mloc[\u001b[38;5;124m'\u001b[39m\u001b[38;5;124mindustry\u001b[39m\u001b[38;5;124m'\u001b[39m][\u001b[38;5;241m0\u001b[39m]\n\u001b[0;32m    302\u001b[0m cap \u001b[38;5;241m=\u001b[39m obb\u001b[38;5;241m.\u001b[39mstocks\u001b[38;5;241m.\u001b[39mfa\u001b[38;5;241m.\u001b[39mquote(stock)\u001b[38;5;241m.\u001b[39mloc[\u001b[38;5;124m'\u001b[39m\u001b[38;5;124mMarket cap\u001b[39m\u001b[38;5;124m'\u001b[39m][\u001b[38;5;241m0\u001b[39m]\n",
      "File \u001b[1;32mC:\\ProgramData\\Anaconda3\\envs\\obb2\\lib\\site-packages\\openbb_terminal\\core\\library\\operation.py:102\u001b[0m, in \u001b[0;36mOperation.__call__\u001b[1;34m(self, *args, **kwargs)\u001b[0m\n\u001b[0;32m     93\u001b[0m operation_logger \u001b[38;5;241m=\u001b[39m OperationLogger(\n\u001b[0;32m     94\u001b[0m     trail\u001b[38;5;241m=\u001b[39m\u001b[38;5;28mself\u001b[39m\u001b[38;5;241m.\u001b[39m_trail,\n\u001b[0;32m     95\u001b[0m     method_chosen\u001b[38;5;241m=\u001b[39mmethod,\n\u001b[0;32m     96\u001b[0m     args\u001b[38;5;241m=\u001b[39margs,\n\u001b[0;32m     97\u001b[0m     kwargs\u001b[38;5;241m=\u001b[39mkwargs,\n\u001b[0;32m     98\u001b[0m )\n\u001b[0;32m    100\u001b[0m operation_logger\u001b[38;5;241m.\u001b[39mlog_before_call()\n\u001b[1;32m--> 102\u001b[0m method_result \u001b[38;5;241m=\u001b[39m method(\u001b[38;5;241m*\u001b[39margs, \u001b[38;5;241m*\u001b[39m\u001b[38;5;241m*\u001b[39mkwargs)\n\u001b[0;32m    104\u001b[0m operation_logger\u001b[38;5;241m.\u001b[39mlog_after_call(method_result\u001b[38;5;241m=\u001b[39mmethod_result)\n\u001b[0;32m    106\u001b[0m \u001b[38;5;28;01mreturn\u001b[39;00m method_result\n",
      "File \u001b[1;32mC:\\ProgramData\\Anaconda3\\envs\\obb2\\lib\\site-packages\\openbb_terminal\\decorators.py:68\u001b[0m, in \u001b[0;36mlog_start_end.<locals>.decorator.<locals>.wrapper\u001b[1;34m(*args, **kwargs)\u001b[0m\n\u001b[0;32m     66\u001b[0m     \u001b[38;5;28;01mreturn\u001b[39;00m value\n\u001b[0;32m     67\u001b[0m \u001b[38;5;28;01mtry\u001b[39;00m:\n\u001b[1;32m---> 68\u001b[0m     value \u001b[38;5;241m=\u001b[39m func(\u001b[38;5;241m*\u001b[39margs, \u001b[38;5;241m*\u001b[39m\u001b[38;5;241m*\u001b[39mkwargs)\n\u001b[0;32m     69\u001b[0m     logger_used\u001b[38;5;241m.\u001b[39minfo(\u001b[38;5;124m\"\u001b[39m\u001b[38;5;124mEND\u001b[39m\u001b[38;5;124m\"\u001b[39m, extra\u001b[38;5;241m=\u001b[39m{\u001b[38;5;124m\"\u001b[39m\u001b[38;5;124mfunc_name_override\u001b[39m\u001b[38;5;124m\"\u001b[39m: func\u001b[38;5;241m.\u001b[39m\u001b[38;5;18m__name__\u001b[39m})\n\u001b[0;32m     70\u001b[0m     \u001b[38;5;28;01mreturn\u001b[39;00m value\n",
      "File \u001b[1;32mC:\\ProgramData\\Anaconda3\\envs\\obb2\\lib\\site-packages\\openbb_terminal\\decorators.py:135\u001b[0m, in \u001b[0;36mcheck_api_key.<locals>.decorator.<locals>.wrapper_decorator\u001b[1;34m(*args, **kwargs)\u001b[0m\n\u001b[0;32m    130\u001b[0m         console\u001b[38;5;241m.\u001b[39mprint(\n\u001b[0;32m    131\u001b[0m             \u001b[38;5;124mf\u001b[39m\u001b[38;5;124m\"\u001b[39m\u001b[38;5;124m[red]\u001b[39m\u001b[38;5;132;01m{\u001b[39;00mundefined_apis_name\u001b[38;5;132;01m}\u001b[39;00m\u001b[38;5;124m not defined. \u001b[39m\u001b[38;5;124m\"\u001b[39m\n\u001b[0;32m    132\u001b[0m             \u001b[38;5;124m\"\u001b[39m\u001b[38;5;124mSet API Keys in ~/.openbb_terminal/.env or under keys menu.[/red]\u001b[39m\u001b[38;5;130;01m\\n\u001b[39;00m\u001b[38;5;124m\"\u001b[39m\n\u001b[0;32m    133\u001b[0m         )  \u001b[38;5;66;03m# pragma: allowlist secret\u001b[39;00m\n\u001b[0;32m    134\u001b[0m         \u001b[38;5;28;01mreturn\u001b[39;00m \u001b[38;5;28;01mNone\u001b[39;00m\n\u001b[1;32m--> 135\u001b[0m \u001b[38;5;28;01mreturn\u001b[39;00m func(\u001b[38;5;241m*\u001b[39margs, \u001b[38;5;241m*\u001b[39m\u001b[38;5;241m*\u001b[39mkwargs)\n",
      "File \u001b[1;32mC:\\ProgramData\\Anaconda3\\envs\\obb2\\lib\\site-packages\\openbb_terminal\\stocks\\fundamental_analysis\\fmp_model.py:74\u001b[0m, in \u001b[0;36mget_profile\u001b[1;34m(symbol)\u001b[0m\n\u001b[0;32m     71\u001b[0m df \u001b[38;5;241m=\u001b[39m pd\u001b[38;5;241m.\u001b[39mDataFrame()\n\u001b[0;32m     73\u001b[0m \u001b[38;5;28;01mtry\u001b[39;00m:\n\u001b[1;32m---> 74\u001b[0m     df \u001b[38;5;241m=\u001b[39m \u001b[43mfa\u001b[49m\u001b[38;5;241;43m.\u001b[39;49m\u001b[43mprofile\u001b[49m\u001b[43m(\u001b[49m\u001b[43msymbol\u001b[49m\u001b[43m,\u001b[49m\u001b[43m \u001b[49m\u001b[43mcfg\u001b[49m\u001b[38;5;241;43m.\u001b[39;49m\u001b[43mAPI_KEY_FINANCIALMODELINGPREP\u001b[49m\u001b[43m)\u001b[49m\n\u001b[0;32m     75\u001b[0m \u001b[38;5;66;03m# Invalid API Keys\u001b[39;00m\n\u001b[0;32m     76\u001b[0m \u001b[38;5;28;01mexcept\u001b[39;00m \u001b[38;5;167;01mValueError\u001b[39;00m:\n",
      "File \u001b[1;32mC:\\ProgramData\\Anaconda3\\envs\\obb2\\lib\\site-packages\\fundamentalanalysis\\details.py:63\u001b[0m, in \u001b[0;36mprofile\u001b[1;34m(ticker, api_key)\u001b[0m\n\u001b[0;32m     44\u001b[0m \u001b[38;5;124;03m\"\"\"\u001b[39;00m\n\u001b[0;32m     45\u001b[0m \u001b[38;5;124;03mDescription\u001b[39;00m\n\u001b[0;32m     46\u001b[0m \u001b[38;5;124;03m----\u001b[39;00m\n\u001b[1;32m   (...)\u001b[0m\n\u001b[0;32m     60\u001b[0m \u001b[38;5;124;03m    Data with variables in rows and the period in columns.\u001b[39;00m\n\u001b[0;32m     61\u001b[0m \u001b[38;5;124;03m\"\"\"\u001b[39;00m\n\u001b[0;32m     62\u001b[0m \u001b[38;5;28;01mtry\u001b[39;00m:\n\u001b[1;32m---> 63\u001b[0m     response \u001b[38;5;241m=\u001b[39m \u001b[43murlopen\u001b[49m\u001b[43m(\u001b[49m\u001b[38;5;124;43mf\u001b[39;49m\u001b[38;5;124;43m\"\u001b[39;49m\u001b[38;5;124;43mhttps://financialmodelingprep.com/api/v3/profile/\u001b[39;49m\u001b[38;5;132;43;01m{\u001b[39;49;00m\u001b[43mticker\u001b[49m\u001b[38;5;132;43;01m}\u001b[39;49;00m\u001b[38;5;124;43m?apikey=\u001b[39;49m\u001b[38;5;132;43;01m{\u001b[39;49;00m\u001b[43mapi_key\u001b[49m\u001b[38;5;132;43;01m}\u001b[39;49;00m\u001b[38;5;124;43m\"\u001b[39;49m\u001b[43m)\u001b[49m\n\u001b[0;32m     64\u001b[0m     data \u001b[38;5;241m=\u001b[39m json\u001b[38;5;241m.\u001b[39mloads(response\u001b[38;5;241m.\u001b[39mread()\u001b[38;5;241m.\u001b[39mdecode(\u001b[38;5;124m\"\u001b[39m\u001b[38;5;124mutf-8\u001b[39m\u001b[38;5;124m\"\u001b[39m))\n\u001b[0;32m     65\u001b[0m \u001b[38;5;28;01mexcept\u001b[39;00m HTTPError:\n",
      "File \u001b[1;32mC:\\ProgramData\\Anaconda3\\envs\\obb2\\lib\\urllib\\request.py:214\u001b[0m, in \u001b[0;36murlopen\u001b[1;34m(url, data, timeout, cafile, capath, cadefault, context)\u001b[0m\n\u001b[0;32m    212\u001b[0m \u001b[38;5;28;01melse\u001b[39;00m:\n\u001b[0;32m    213\u001b[0m     opener \u001b[38;5;241m=\u001b[39m _opener\n\u001b[1;32m--> 214\u001b[0m \u001b[38;5;28;01mreturn\u001b[39;00m \u001b[43mopener\u001b[49m\u001b[38;5;241;43m.\u001b[39;49m\u001b[43mopen\u001b[49m\u001b[43m(\u001b[49m\u001b[43murl\u001b[49m\u001b[43m,\u001b[49m\u001b[43m \u001b[49m\u001b[43mdata\u001b[49m\u001b[43m,\u001b[49m\u001b[43m \u001b[49m\u001b[43mtimeout\u001b[49m\u001b[43m)\u001b[49m\n",
      "File \u001b[1;32mC:\\ProgramData\\Anaconda3\\envs\\obb2\\lib\\urllib\\request.py:517\u001b[0m, in \u001b[0;36mOpenerDirector.open\u001b[1;34m(self, fullurl, data, timeout)\u001b[0m\n\u001b[0;32m    514\u001b[0m     req \u001b[38;5;241m=\u001b[39m meth(req)\n\u001b[0;32m    516\u001b[0m sys\u001b[38;5;241m.\u001b[39maudit(\u001b[38;5;124m'\u001b[39m\u001b[38;5;124murllib.Request\u001b[39m\u001b[38;5;124m'\u001b[39m, req\u001b[38;5;241m.\u001b[39mfull_url, req\u001b[38;5;241m.\u001b[39mdata, req\u001b[38;5;241m.\u001b[39mheaders, req\u001b[38;5;241m.\u001b[39mget_method())\n\u001b[1;32m--> 517\u001b[0m response \u001b[38;5;241m=\u001b[39m \u001b[38;5;28;43mself\u001b[39;49m\u001b[38;5;241;43m.\u001b[39;49m\u001b[43m_open\u001b[49m\u001b[43m(\u001b[49m\u001b[43mreq\u001b[49m\u001b[43m,\u001b[49m\u001b[43m \u001b[49m\u001b[43mdata\u001b[49m\u001b[43m)\u001b[49m\n\u001b[0;32m    519\u001b[0m \u001b[38;5;66;03m# post-process response\u001b[39;00m\n\u001b[0;32m    520\u001b[0m meth_name \u001b[38;5;241m=\u001b[39m protocol\u001b[38;5;241m+\u001b[39m\u001b[38;5;124m\"\u001b[39m\u001b[38;5;124m_response\u001b[39m\u001b[38;5;124m\"\u001b[39m\n",
      "File \u001b[1;32mC:\\ProgramData\\Anaconda3\\envs\\obb2\\lib\\urllib\\request.py:534\u001b[0m, in \u001b[0;36mOpenerDirector._open\u001b[1;34m(self, req, data)\u001b[0m\n\u001b[0;32m    531\u001b[0m     \u001b[38;5;28;01mreturn\u001b[39;00m result\n\u001b[0;32m    533\u001b[0m protocol \u001b[38;5;241m=\u001b[39m req\u001b[38;5;241m.\u001b[39mtype\n\u001b[1;32m--> 534\u001b[0m result \u001b[38;5;241m=\u001b[39m \u001b[38;5;28;43mself\u001b[39;49m\u001b[38;5;241;43m.\u001b[39;49m\u001b[43m_call_chain\u001b[49m\u001b[43m(\u001b[49m\u001b[38;5;28;43mself\u001b[39;49m\u001b[38;5;241;43m.\u001b[39;49m\u001b[43mhandle_open\u001b[49m\u001b[43m,\u001b[49m\u001b[43m \u001b[49m\u001b[43mprotocol\u001b[49m\u001b[43m,\u001b[49m\u001b[43m \u001b[49m\u001b[43mprotocol\u001b[49m\u001b[43m \u001b[49m\u001b[38;5;241;43m+\u001b[39;49m\n\u001b[0;32m    535\u001b[0m \u001b[43m                          \u001b[49m\u001b[38;5;124;43m'\u001b[39;49m\u001b[38;5;124;43m_open\u001b[39;49m\u001b[38;5;124;43m'\u001b[39;49m\u001b[43m,\u001b[49m\u001b[43m \u001b[49m\u001b[43mreq\u001b[49m\u001b[43m)\u001b[49m\n\u001b[0;32m    536\u001b[0m \u001b[38;5;28;01mif\u001b[39;00m result:\n\u001b[0;32m    537\u001b[0m     \u001b[38;5;28;01mreturn\u001b[39;00m result\n",
      "File \u001b[1;32mC:\\ProgramData\\Anaconda3\\envs\\obb2\\lib\\urllib\\request.py:494\u001b[0m, in \u001b[0;36mOpenerDirector._call_chain\u001b[1;34m(self, chain, kind, meth_name, *args)\u001b[0m\n\u001b[0;32m    492\u001b[0m \u001b[38;5;28;01mfor\u001b[39;00m handler \u001b[38;5;129;01min\u001b[39;00m handlers:\n\u001b[0;32m    493\u001b[0m     func \u001b[38;5;241m=\u001b[39m \u001b[38;5;28mgetattr\u001b[39m(handler, meth_name)\n\u001b[1;32m--> 494\u001b[0m     result \u001b[38;5;241m=\u001b[39m \u001b[43mfunc\u001b[49m\u001b[43m(\u001b[49m\u001b[38;5;241;43m*\u001b[39;49m\u001b[43margs\u001b[49m\u001b[43m)\u001b[49m\n\u001b[0;32m    495\u001b[0m     \u001b[38;5;28;01mif\u001b[39;00m result \u001b[38;5;129;01mis\u001b[39;00m \u001b[38;5;129;01mnot\u001b[39;00m \u001b[38;5;28;01mNone\u001b[39;00m:\n\u001b[0;32m    496\u001b[0m         \u001b[38;5;28;01mreturn\u001b[39;00m result\n",
      "File \u001b[1;32mC:\\ProgramData\\Anaconda3\\envs\\obb2\\lib\\urllib\\request.py:1389\u001b[0m, in \u001b[0;36mHTTPSHandler.https_open\u001b[1;34m(self, req)\u001b[0m\n\u001b[0;32m   1388\u001b[0m \u001b[38;5;28;01mdef\u001b[39;00m \u001b[38;5;21mhttps_open\u001b[39m(\u001b[38;5;28mself\u001b[39m, req):\n\u001b[1;32m-> 1389\u001b[0m     \u001b[38;5;28;01mreturn\u001b[39;00m \u001b[38;5;28;43mself\u001b[39;49m\u001b[38;5;241;43m.\u001b[39;49m\u001b[43mdo_open\u001b[49m\u001b[43m(\u001b[49m\u001b[43mhttp\u001b[49m\u001b[38;5;241;43m.\u001b[39;49m\u001b[43mclient\u001b[49m\u001b[38;5;241;43m.\u001b[39;49m\u001b[43mHTTPSConnection\u001b[49m\u001b[43m,\u001b[49m\u001b[43m \u001b[49m\u001b[43mreq\u001b[49m\u001b[43m,\u001b[49m\n\u001b[0;32m   1390\u001b[0m \u001b[43m        \u001b[49m\u001b[43mcontext\u001b[49m\u001b[38;5;241;43m=\u001b[39;49m\u001b[38;5;28;43mself\u001b[39;49m\u001b[38;5;241;43m.\u001b[39;49m\u001b[43m_context\u001b[49m\u001b[43m,\u001b[49m\u001b[43m \u001b[49m\u001b[43mcheck_hostname\u001b[49m\u001b[38;5;241;43m=\u001b[39;49m\u001b[38;5;28;43mself\u001b[39;49m\u001b[38;5;241;43m.\u001b[39;49m\u001b[43m_check_hostname\u001b[49m\u001b[43m)\u001b[49m\n",
      "File \u001b[1;32mC:\\ProgramData\\Anaconda3\\envs\\obb2\\lib\\urllib\\request.py:1350\u001b[0m, in \u001b[0;36mAbstractHTTPHandler.do_open\u001b[1;34m(self, http_class, req, **http_conn_args)\u001b[0m\n\u001b[0;32m   1348\u001b[0m     \u001b[38;5;28;01mexcept\u001b[39;00m \u001b[38;5;167;01mOSError\u001b[39;00m \u001b[38;5;28;01mas\u001b[39;00m err: \u001b[38;5;66;03m# timeout error\u001b[39;00m\n\u001b[0;32m   1349\u001b[0m         \u001b[38;5;28;01mraise\u001b[39;00m URLError(err)\n\u001b[1;32m-> 1350\u001b[0m     r \u001b[38;5;241m=\u001b[39m \u001b[43mh\u001b[49m\u001b[38;5;241;43m.\u001b[39;49m\u001b[43mgetresponse\u001b[49m\u001b[43m(\u001b[49m\u001b[43m)\u001b[49m\n\u001b[0;32m   1351\u001b[0m \u001b[38;5;28;01mexcept\u001b[39;00m:\n\u001b[0;32m   1352\u001b[0m     h\u001b[38;5;241m.\u001b[39mclose()\n",
      "File \u001b[1;32mC:\\ProgramData\\Anaconda3\\envs\\obb2\\lib\\http\\client.py:1349\u001b[0m, in \u001b[0;36mHTTPConnection.getresponse\u001b[1;34m(self)\u001b[0m\n\u001b[0;32m   1347\u001b[0m \u001b[38;5;28;01mtry\u001b[39;00m:\n\u001b[0;32m   1348\u001b[0m     \u001b[38;5;28;01mtry\u001b[39;00m:\n\u001b[1;32m-> 1349\u001b[0m         \u001b[43mresponse\u001b[49m\u001b[38;5;241;43m.\u001b[39;49m\u001b[43mbegin\u001b[49m\u001b[43m(\u001b[49m\u001b[43m)\u001b[49m\n\u001b[0;32m   1350\u001b[0m     \u001b[38;5;28;01mexcept\u001b[39;00m \u001b[38;5;167;01mConnectionError\u001b[39;00m:\n\u001b[0;32m   1351\u001b[0m         \u001b[38;5;28mself\u001b[39m\u001b[38;5;241m.\u001b[39mclose()\n",
      "File \u001b[1;32mC:\\ProgramData\\Anaconda3\\envs\\obb2\\lib\\http\\client.py:316\u001b[0m, in \u001b[0;36mHTTPResponse.begin\u001b[1;34m(self)\u001b[0m\n\u001b[0;32m    314\u001b[0m \u001b[38;5;66;03m# read until we get a non-100 response\u001b[39;00m\n\u001b[0;32m    315\u001b[0m \u001b[38;5;28;01mwhile\u001b[39;00m \u001b[38;5;28;01mTrue\u001b[39;00m:\n\u001b[1;32m--> 316\u001b[0m     version, status, reason \u001b[38;5;241m=\u001b[39m \u001b[38;5;28;43mself\u001b[39;49m\u001b[38;5;241;43m.\u001b[39;49m\u001b[43m_read_status\u001b[49m\u001b[43m(\u001b[49m\u001b[43m)\u001b[49m\n\u001b[0;32m    317\u001b[0m     \u001b[38;5;28;01mif\u001b[39;00m status \u001b[38;5;241m!=\u001b[39m CONTINUE:\n\u001b[0;32m    318\u001b[0m         \u001b[38;5;28;01mbreak\u001b[39;00m\n",
      "File \u001b[1;32mC:\\ProgramData\\Anaconda3\\envs\\obb2\\lib\\http\\client.py:277\u001b[0m, in \u001b[0;36mHTTPResponse._read_status\u001b[1;34m(self)\u001b[0m\n\u001b[0;32m    276\u001b[0m \u001b[38;5;28;01mdef\u001b[39;00m \u001b[38;5;21m_read_status\u001b[39m(\u001b[38;5;28mself\u001b[39m):\n\u001b[1;32m--> 277\u001b[0m     line \u001b[38;5;241m=\u001b[39m \u001b[38;5;28mstr\u001b[39m(\u001b[38;5;28;43mself\u001b[39;49m\u001b[38;5;241;43m.\u001b[39;49m\u001b[43mfp\u001b[49m\u001b[38;5;241;43m.\u001b[39;49m\u001b[43mreadline\u001b[49m\u001b[43m(\u001b[49m\u001b[43m_MAXLINE\u001b[49m\u001b[43m \u001b[49m\u001b[38;5;241;43m+\u001b[39;49m\u001b[43m \u001b[49m\u001b[38;5;241;43m1\u001b[39;49m\u001b[43m)\u001b[49m, \u001b[38;5;124m\"\u001b[39m\u001b[38;5;124miso-8859-1\u001b[39m\u001b[38;5;124m\"\u001b[39m)\n\u001b[0;32m    278\u001b[0m     \u001b[38;5;28;01mif\u001b[39;00m \u001b[38;5;28mlen\u001b[39m(line) \u001b[38;5;241m>\u001b[39m _MAXLINE:\n\u001b[0;32m    279\u001b[0m         \u001b[38;5;28;01mraise\u001b[39;00m LineTooLong(\u001b[38;5;124m\"\u001b[39m\u001b[38;5;124mstatus line\u001b[39m\u001b[38;5;124m\"\u001b[39m)\n",
      "File \u001b[1;32mC:\\ProgramData\\Anaconda3\\envs\\obb2\\lib\\socket.py:704\u001b[0m, in \u001b[0;36mSocketIO.readinto\u001b[1;34m(self, b)\u001b[0m\n\u001b[0;32m    702\u001b[0m \u001b[38;5;28;01mwhile\u001b[39;00m \u001b[38;5;28;01mTrue\u001b[39;00m:\n\u001b[0;32m    703\u001b[0m     \u001b[38;5;28;01mtry\u001b[39;00m:\n\u001b[1;32m--> 704\u001b[0m         \u001b[38;5;28;01mreturn\u001b[39;00m \u001b[38;5;28;43mself\u001b[39;49m\u001b[38;5;241;43m.\u001b[39;49m\u001b[43m_sock\u001b[49m\u001b[38;5;241;43m.\u001b[39;49m\u001b[43mrecv_into\u001b[49m\u001b[43m(\u001b[49m\u001b[43mb\u001b[49m\u001b[43m)\u001b[49m\n\u001b[0;32m    705\u001b[0m     \u001b[38;5;28;01mexcept\u001b[39;00m timeout:\n\u001b[0;32m    706\u001b[0m         \u001b[38;5;28mself\u001b[39m\u001b[38;5;241m.\u001b[39m_timeout_occurred \u001b[38;5;241m=\u001b[39m \u001b[38;5;28;01mTrue\u001b[39;00m\n",
      "File \u001b[1;32mC:\\ProgramData\\Anaconda3\\envs\\obb2\\lib\\ssl.py:1241\u001b[0m, in \u001b[0;36mSSLSocket.recv_into\u001b[1;34m(self, buffer, nbytes, flags)\u001b[0m\n\u001b[0;32m   1237\u001b[0m     \u001b[38;5;28;01mif\u001b[39;00m flags \u001b[38;5;241m!=\u001b[39m \u001b[38;5;241m0\u001b[39m:\n\u001b[0;32m   1238\u001b[0m         \u001b[38;5;28;01mraise\u001b[39;00m \u001b[38;5;167;01mValueError\u001b[39;00m(\n\u001b[0;32m   1239\u001b[0m           \u001b[38;5;124m\"\u001b[39m\u001b[38;5;124mnon-zero flags not allowed in calls to recv_into() on \u001b[39m\u001b[38;5;132;01m%s\u001b[39;00m\u001b[38;5;124m\"\u001b[39m \u001b[38;5;241m%\u001b[39m\n\u001b[0;32m   1240\u001b[0m           \u001b[38;5;28mself\u001b[39m\u001b[38;5;241m.\u001b[39m\u001b[38;5;18m__class__\u001b[39m)\n\u001b[1;32m-> 1241\u001b[0m     \u001b[38;5;28;01mreturn\u001b[39;00m \u001b[38;5;28;43mself\u001b[39;49m\u001b[38;5;241;43m.\u001b[39;49m\u001b[43mread\u001b[49m\u001b[43m(\u001b[49m\u001b[43mnbytes\u001b[49m\u001b[43m,\u001b[49m\u001b[43m \u001b[49m\u001b[43mbuffer\u001b[49m\u001b[43m)\u001b[49m\n\u001b[0;32m   1242\u001b[0m \u001b[38;5;28;01melse\u001b[39;00m:\n\u001b[0;32m   1243\u001b[0m     \u001b[38;5;28;01mreturn\u001b[39;00m \u001b[38;5;28msuper\u001b[39m()\u001b[38;5;241m.\u001b[39mrecv_into(buffer, nbytes, flags)\n",
      "File \u001b[1;32mC:\\ProgramData\\Anaconda3\\envs\\obb2\\lib\\ssl.py:1099\u001b[0m, in \u001b[0;36mSSLSocket.read\u001b[1;34m(self, len, buffer)\u001b[0m\n\u001b[0;32m   1097\u001b[0m \u001b[38;5;28;01mtry\u001b[39;00m:\n\u001b[0;32m   1098\u001b[0m     \u001b[38;5;28;01mif\u001b[39;00m buffer \u001b[38;5;129;01mis\u001b[39;00m \u001b[38;5;129;01mnot\u001b[39;00m \u001b[38;5;28;01mNone\u001b[39;00m:\n\u001b[1;32m-> 1099\u001b[0m         \u001b[38;5;28;01mreturn\u001b[39;00m \u001b[38;5;28;43mself\u001b[39;49m\u001b[38;5;241;43m.\u001b[39;49m\u001b[43m_sslobj\u001b[49m\u001b[38;5;241;43m.\u001b[39;49m\u001b[43mread\u001b[49m\u001b[43m(\u001b[49m\u001b[38;5;28;43mlen\u001b[39;49m\u001b[43m,\u001b[49m\u001b[43m \u001b[49m\u001b[43mbuffer\u001b[49m\u001b[43m)\u001b[49m\n\u001b[0;32m   1100\u001b[0m     \u001b[38;5;28;01melse\u001b[39;00m:\n\u001b[0;32m   1101\u001b[0m         \u001b[38;5;28;01mreturn\u001b[39;00m \u001b[38;5;28mself\u001b[39m\u001b[38;5;241m.\u001b[39m_sslobj\u001b[38;5;241m.\u001b[39mread(\u001b[38;5;28mlen\u001b[39m)\n",
      "\u001b[1;31mKeyboardInterrupt\u001b[0m: "
     ]
    }
   ],
   "source": [
    "from scope_it_out import *\n",
    "from rare_exports import *"
   ]
  },
  {
   "cell_type": "markdown",
   "id": "2e4bb8c9-1180-49fd-a1d3-6dbf9a6bc6cf",
   "metadata": {},
   "source": [
    "_____\n",
    "_____\n",
    "_____\n",
    "<h1><b><u>Create a detailed report and export to Google Sheets:</h1></u></b>"
   ]
  },
  {
   "cell_type": "markdown",
   "id": "c1ea55ee-ff4c-40e6-9585-76754d6e0855",
   "metadata": {},
   "source": [
    "<b>Optional Args:</b><br>\n",
    "<b><i>custom</i></b>= String to add to file name, default is empty string<br>\n",
    "<b><i>emails<i></b>= list of one or more email addresses, default is empty list"
   ]
  },
  {
   "cell_type": "code",
   "execution_count": null,
   "id": "3e1ec169-db24-4db9-b692-61679ff73494",
   "metadata": {},
   "outputs": [],
   "source": [
    "gs_export('STM', companies, peer_group, emails=['ssrjustin@gmail.com', 'jeff7sr@gmail.com'])"
   ]
  },
  {
   "cell_type": "markdown",
   "id": "4485124b-3011-44c3-8ed9-00ded834d5e9",
   "metadata": {},
   "source": [
    "<h4><i>For file management in Google Drive:</i></h4>"
   ]
  },
  {
   "cell_type": "code",
   "execution_count": null,
   "id": "f0d09a09-3d6c-42ef-9c41-e5a2b26d94cd",
   "metadata": {},
   "outputs": [],
   "source": [
    "# Show all spreadsheets owned by your service account. \n",
    "# Optional arg title to open all with that title\n",
    "# ID can be used to delete in cell below\n",
    "gc.openall(title='INSERT_SPREADSHEET_TITLE') "
   ]
  },
  {
   "cell_type": "code",
   "execution_count": null,
   "id": "8333436d-e397-49fa-8da1-f2a52ea53659",
   "metadata": {},
   "outputs": [],
   "source": [
    "# Delete a spreadsheet. Insert spreadsheet ID as arg\n",
    "gc.del_spreadsheet('INSERT_SPREADSHEET_ID')"
   ]
  },
  {
   "cell_type": "code",
   "execution_count": null,
   "id": "b3fd7f7f-a6bd-41a5-8c5e-3d4b2babcc36",
   "metadata": {},
   "outputs": [],
   "source": [
    "# Get list of all spreadsheet names created by your service account\n",
    "for spreadsheet in gc.list_spreadsheet_files():\n",
    "    print(spreadsheet['name'])"
   ]
  },
  {
   "cell_type": "markdown",
   "id": "4ad2dbc0-ee48-4a12-bd6e-a2e232f25da8",
   "metadata": {},
   "source": [
    "<h3><b>Show the total scores of each company:</h3></b>"
   ]
  },
  {
   "cell_type": "code",
   "execution_count": null,
   "id": "bee749c9-c0d5-43d4-adfa-84f0aaae1c93",
   "metadata": {},
   "outputs": [],
   "source": [
    "show_total_scores(companies)"
   ]
  },
  {
   "cell_type": "markdown",
   "id": "85d64ab4-717b-462d-b113-6122005916c0",
   "metadata": {},
   "source": [
    "<h3><b>Show detailed scorecard for each company:</h3></b>"
   ]
  },
  {
   "cell_type": "code",
   "execution_count": null,
   "id": "39bf472f-e25e-491b-9040-a732579aeb1c",
   "metadata": {},
   "outputs": [],
   "source": [
    "show_scorecards(companies)"
   ]
  },
  {
   "cell_type": "markdown",
   "id": "b7618787-7490-4c21-9670-448b8c68cfc3",
   "metadata": {},
   "source": [
    "<h3><b>Show average values for every metric:</h3></b>"
   ]
  },
  {
   "cell_type": "code",
   "execution_count": null,
   "id": "18944e0a-7249-46dd-b998-241a565a2570",
   "metadata": {},
   "outputs": [],
   "source": [
    "peer_group.display_dfs()"
   ]
  },
  {
   "cell_type": "markdown",
   "id": "bc97b515-ba5f-4d5e-9908-f35d30dafb95",
   "metadata": {},
   "source": [
    "<h3><b>Show detailed metrics for every company</h3></b>"
   ]
  },
  {
   "cell_type": "code",
   "execution_count": null,
   "id": "a75dbfde-2b43-4ca0-8d89-04d43b056e79",
   "metadata": {},
   "outputs": [],
   "source": [
    "show_metrics(companies)"
   ]
  },
  {
   "cell_type": "markdown",
   "id": "0650c9a3-0842-482d-a7f0-3ce6a28413f1",
   "metadata": {},
   "source": [
    "<h3><b>Export detailed metrics for every company as Excel files:</h3></b>"
   ]
  },
  {
   "cell_type": "code",
   "execution_count": null,
   "id": "f89e0880-7063-44b2-86da-441f945de263",
   "metadata": {},
   "outputs": [],
   "source": [
    "export_metrics(companies)"
   ]
  },
  {
   "cell_type": "markdown",
   "id": "a750f18b-020f-4e9a-a5b5-25cce5b18c23",
   "metadata": {
    "tags": []
   },
   "source": [
    "<h3><b>Compare a specific metric for all companies in stocks list:</b></h3>\n",
    "<i>To view all available METRIC NAMES, choose a CATEGORY from the options below, and insert it into the first positional argument of the access_data function.\n",
    "\n",
    "<b>AVAILABLE CATEGORIES:</b> 'basic', 'value', 'mgmt', 'ins', 'div', 'pub_sent', 'analyst', and 'esg'</i>"
   ]
  },
  {
   "cell_type": "code",
   "execution_count": null,
   "id": "4c93e4df-2029-4456-8311-82318b41de0d",
   "metadata": {},
   "outputs": [],
   "source": [
    "companies[stocks[0]].access_data('INSERT_CATEGORY', 'options')"
   ]
  },
  {
   "cell_type": "markdown",
   "id": "44701075-e9bb-4ea1-8f9b-9e448ca53b69",
   "metadata": {},
   "source": [
    "<h3><i>To compare metrics for all companies in stocks list, <strong>choose a CATEGORY</strong> to use as positional argument one, <strong>and a METRIC NAME</strong> for positional argument two:</h3></i>"
   ]
  },
  {
   "cell_type": "code",
   "execution_count": null,
   "id": "a58b735f-6cef-4c95-9896-5d4f6e429542",
   "metadata": {},
   "outputs": [],
   "source": [
    "for company in companies.values():\n",
    "    company.access_data('INSERT_CATEGORY', 'INSERT_METRIC_NAME')"
   ]
  },
  {
   "cell_type": "markdown",
   "id": "6db96c0f-fd33-45e7-a5fa-9fc2bfc55eb1",
   "metadata": {},
   "source": [
    "<h3><strong>View headline and link for recent company related news articles:</strong></h3>\n",
    "<i>note: ticker must match one of the tickers in stocks list from stocklist.py</i>"
   ]
  },
  {
   "cell_type": "code",
   "execution_count": null,
   "id": "2c7eb8c5-1e47-4542-9ad2-623699ba8a46",
   "metadata": {},
   "outputs": [],
   "source": [
    "companies['INSERT_TICKER'].show_news()"
   ]
  },
  {
   "cell_type": "markdown",
   "id": "724f22c7-545e-46b6-84d2-e1e46b35d006",
   "metadata": {},
   "source": [
    "<h3><b>View results of SEC filings run through a machine learning sentiment analyzer</h3></b>\n",
    "<i>note: ticker must match one of the tickers in stocks list from stocklist.py</i>"
   ]
  },
  {
   "cell_type": "code",
   "execution_count": null,
   "id": "3172bfb8-82bd-4f24-be1e-564c5c83c9fe",
   "metadata": {},
   "outputs": [],
   "source": [
    "companies['INSERT_TICKER'].show_sec_analysis()"
   ]
  },
  {
   "cell_type": "markdown",
   "id": "aa2d7fd2-ac85-4531-a4d1-80ff9d508fa0",
   "metadata": {
    "tags": []
   },
   "source": [
    "<i><b><h2>Development and Testing:</h2></b></i>\n",
    "______________________________________________\n",
    "______________________________________________\n",
    "______________________________________________"
   ]
  },
  {
   "cell_type": "markdown",
   "id": "95743666-02b2-482e-bef1-6f3ecc2d1356",
   "metadata": {},
   "source": [
    "<b>New PeerGroup Attributes:</b>"
   ]
  },
  {
   "cell_type": "code",
   "execution_count": null,
   "id": "a8375ebc-554f-4c36-9740-48568787832e",
   "metadata": {},
   "outputs": [],
   "source": [
    "# Picks the top scoring stocks from the group based on grand_total. \n",
    "# Number of stocks picked for \"top\" will be 5 if stocks list is >5. \n",
    "# If stocks list >4 but <=5 it'll be top 3. If stocks list >=2 but <3 it will just be top 1.\n",
    "peer_group.top_scores"
   ]
  },
  {
   "cell_type": "code",
   "execution_count": null,
   "id": "9867eb23-edce-49e0-ad16-9461a03faa09",
   "metadata": {},
   "outputs": [],
   "source": [
    "# Scores seperated by category then company\n",
    "peer_group.category_totals"
   ]
  },
  {
   "cell_type": "code",
   "execution_count": null,
   "id": "5a0ec160-87ea-4ce5-8832-4d61d77dc5f8",
   "metadata": {},
   "outputs": [],
   "source": [
    "# Scores sepereated by company then category\n",
    "peer_group.peer_score_totals"
   ]
  },
  {
   "cell_type": "code",
   "execution_count": null,
   "id": "9f768051-e57c-4c98-b606-33e2db4746d1",
   "metadata": {},
   "outputs": [],
   "source": [
    "# Dictionary containing category totals for the top X winners by grand_total\n",
    "peer_group.winners"
   ]
  },
  {
   "cell_type": "markdown",
   "id": "df6b8b40-36d8-4cfa-b4ad-0d61dedc2da2",
   "metadata": {},
   "source": [
    "<b>To explore or test with OpenBB:</b>"
   ]
  },
  {
   "cell_type": "code",
   "execution_count": null,
   "id": "8cf7b838-7170-4995-9671-21e565f3fb41",
   "metadata": {},
   "outputs": [],
   "source": [
    "from openbb_terminal.sdk import openbb as obb"
   ]
  },
  {
   "cell_type": "code",
   "execution_count": null,
   "id": "3dac5345-b280-4d5f-b60f-cdad613fd8db",
   "metadata": {},
   "outputs": [],
   "source": [
    "# to show keys\n",
    "obb.keys.mykeys(show = True)"
   ]
  },
  {
   "cell_type": "code",
   "execution_count": null,
   "id": "c981aa7b-f4b9-45b1-b1a8-eb4557a9b9dd",
   "metadata": {},
   "outputs": [],
   "source": [
    "# to set keys (see https://docs.openbb.co/sdk/guides/advanced/api-keys )\n",
    "obb.keys.finnhub(\n",
    "    key = '',\n",
    "    persist = True,\n",
    ")"
   ]
  },
  {
   "cell_type": "code",
   "execution_count": null,
   "id": "afb540d9-22e1-4512-bd65-3999031c72b5",
   "metadata": {},
   "outputs": [],
   "source": []
  },
  {
   "cell_type": "code",
   "execution_count": null,
   "id": "0a50d196-2a10-4087-b7b4-ce1be79e83b0",
   "metadata": {},
   "outputs": [],
   "source": [
    "import config\n",
    "# import tomli"
   ]
  },
  {
   "cell_type": "code",
   "execution_count": null,
   "id": "d4ebf824-0280-42c7-a41e-b17ac17718dd",
   "metadata": {},
   "outputs": [],
   "source": [
    "config.smello['presets'].keys()"
   ]
  },
  {
   "cell_type": "code",
   "execution_count": null,
   "id": "12fb5a8a-f305-413b-9f71-4145900cea1a",
   "metadata": {},
   "outputs": [],
   "source": []
  }
 ],
 "metadata": {
  "kernelspec": {
   "display_name": "Python 3 (ipykernel)",
   "language": "python",
   "name": "python3"
  },
  "language_info": {
   "codemirror_mode": {
    "name": "ipython",
    "version": 3
   },
   "file_extension": ".py",
   "mimetype": "text/x-python",
   "name": "python",
   "nbconvert_exporter": "python",
   "pygments_lexer": "ipython3",
   "version": "3.9.6"
  }
 },
 "nbformat": 4,
 "nbformat_minor": 5
}
