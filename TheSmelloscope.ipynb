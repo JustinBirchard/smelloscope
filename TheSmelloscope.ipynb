{
 "cells": [
  {
   "cell_type": "code",
   "execution_count": null,
   "id": "a8537993-281c-455f-835d-c0ab62ae3a1d",
   "metadata": {
    "jupyter": {
     "source_hidden": true
    },
    "tags": []
   },
   "outputs": [],
   "source": [
    "# for testing\n",
    "from openbb_terminal.api import openbb as obb"
   ]
  },
  {
   "cell_type": "markdown",
   "id": "406f4e66-74b6-4b35-9f4e-5b6fdbe66bba",
   "metadata": {
    "tags": []
   },
   "source": [
    "<h1><b><u>The Smelloscope Lab</h1></b></u>\n",
    "<i>Version 0.9.9.3\n",
    "    \n",
    "Last update 11/11/22</i>"
   ]
  },
  {
   "cell_type": "markdown",
   "id": "e86e9cb1-6904-446f-a81d-00f22e1f28b8",
   "metadata": {},
   "source": [
    "<b>Run the cell below after creating stocks list in stocklist.py:</b>\n",
    "\n",
    "<i>Will take ~10 seconds to run per stock.</i>\n",
    "\n",
    "<i>You may see a few API error messages, but don't worry about it.</i>\n",
    "\n",
    "<i>Once data gathering and scoring is complete, the results can be explored or exported using various methods within the lab.</i>"
   ]
  },
  {
   "cell_type": "code",
   "execution_count": null,
   "id": "e5604746-5f9f-47c8-b1ef-24ab36b5ca72",
   "metadata": {
    "tags": []
   },
   "outputs": [],
   "source": [
    "from scope_it_out import *\n",
    "from rare_exports import *"
   ]
  },
  {
   "cell_type": "markdown",
   "id": "4ad2dbc0-ee48-4a12-bd6e-a2e232f25da8",
   "metadata": {},
   "source": [
    "<h3><b>Show the total scores of each company:</h3></b>"
   ]
  },
  {
   "cell_type": "code",
   "execution_count": null,
   "id": "bee749c9-c0d5-43d4-adfa-84f0aaae1c93",
   "metadata": {},
   "outputs": [],
   "source": [
    "show_total_scores(companies)"
   ]
  },
  {
   "cell_type": "markdown",
   "id": "85d64ab4-717b-462d-b113-6122005916c0",
   "metadata": {},
   "source": [
    "<h3><b>Show detailed scorecard for each company:</h3></b>"
   ]
  },
  {
   "cell_type": "code",
   "execution_count": null,
   "id": "39bf472f-e25e-491b-9040-a732579aeb1c",
   "metadata": {},
   "outputs": [],
   "source": [
    "show_scorecards(companies)"
   ]
  },
  {
   "cell_type": "markdown",
   "id": "b7618787-7490-4c21-9670-448b8c68cfc3",
   "metadata": {},
   "source": [
    "<h3><b>Show average values for every metric:</h3></b>"
   ]
  },
  {
   "cell_type": "code",
   "execution_count": null,
   "id": "18944e0a-7249-46dd-b998-241a565a2570",
   "metadata": {},
   "outputs": [],
   "source": [
    "peer_group.display_dfs()"
   ]
  },
  {
   "cell_type": "markdown",
   "id": "bc97b515-ba5f-4d5e-9908-f35d30dafb95",
   "metadata": {},
   "source": [
    "<h3><b>Show detailed metrics for every company</h3></b>"
   ]
  },
  {
   "cell_type": "code",
   "execution_count": null,
   "id": "a75dbfde-2b43-4ca0-8d89-04d43b056e79",
   "metadata": {},
   "outputs": [],
   "source": [
    "show_metrics(companies)"
   ]
  },
  {
   "cell_type": "markdown",
   "id": "0650c9a3-0842-482d-a7f0-3ce6a28413f1",
   "metadata": {},
   "source": [
    "<h3><b>Export detailed metrics for every company as Excel files:</h3></b>"
   ]
  },
  {
   "cell_type": "code",
   "execution_count": null,
   "id": "f89e0880-7063-44b2-86da-441f945de263",
   "metadata": {},
   "outputs": [],
   "source": [
    "export_metrics(companies)"
   ]
  },
  {
   "cell_type": "markdown",
   "id": "a750f18b-020f-4e9a-a5b5-25cce5b18c23",
   "metadata": {
    "tags": []
   },
   "source": [
    "<h3><b>Compare a specific metric for all companies in stocks list:</b></h3>\n",
    "<i>To view all available METRIC NAMES, choose a CATEGORY from the options below, and insert it into the first positional argument of the access_data function.\n",
    "\n",
    "<b>AVAILABLE CATEGORIES:</b> 'basic', 'value', 'mgmt', 'ins', 'div', 'pub_sent', 'analyst', and 'esg'</i>"
   ]
  },
  {
   "cell_type": "code",
   "execution_count": null,
   "id": "4c93e4df-2029-4456-8311-82318b41de0d",
   "metadata": {},
   "outputs": [],
   "source": [
    "companies[stocks[0]].access_data('INSERT CATEGORY', 'options')"
   ]
  },
  {
   "cell_type": "markdown",
   "id": "44701075-e9bb-4ea1-8f9b-9e448ca53b69",
   "metadata": {},
   "source": [
    "<h4><i>To compare metrics for all companies in stocks list, <strong>choose a CATEGORY</strong> to use as positional argument one, <strong>and a METRIC NAME</strong> for positional argument two:</h4></i>"
   ]
  },
  {
   "cell_type": "code",
   "execution_count": null,
   "id": "a58b735f-6cef-4c95-9896-5d4f6e429542",
   "metadata": {},
   "outputs": [],
   "source": [
    "for company in companies.values():\n",
    "    company.access_data('INSERT CATEGORY', 'INSERT METRIC NAME')"
   ]
  },
  {
   "cell_type": "markdown",
   "id": "6db96c0f-fd33-45e7-a5fa-9fc2bfc55eb1",
   "metadata": {},
   "source": [
    "<h3><strong>View headline and link for recent company related news articles:</strong></h3>\n",
    "<i>note: ticker must match one of the tickers in stocks list from stocklist.py</i>"
   ]
  },
  {
   "cell_type": "code",
   "execution_count": null,
   "id": "2c7eb8c5-1e47-4542-9ad2-623699ba8a46",
   "metadata": {},
   "outputs": [],
   "source": [
    "companies['INSERT TICKER'].show_news()"
   ]
  },
  {
   "cell_type": "markdown",
   "id": "724f22c7-545e-46b6-84d2-e1e46b35d006",
   "metadata": {},
   "source": [
    "<h3><b>View results of SEC filings run through a machine learning sentiment analyzer</h3></b>\n",
    "<i>note: ticker must match one of the tickers in stocks list from stocklist.py</i>"
   ]
  },
  {
   "cell_type": "code",
   "execution_count": null,
   "id": "3172bfb8-82bd-4f24-be1e-564c5c83c9fe",
   "metadata": {},
   "outputs": [],
   "source": [
    "companies['INSERT TICKER'].show_sec_analysis()"
   ]
  },
  {
   "cell_type": "markdown",
   "id": "f37f75b0-1d47-4dc8-8695-17806d37fbe6",
   "metadata": {},
   "source": [
    "<h3><b>Create a detailed report and export to Google Sheets:</h3></b>"
   ]
  },
  {
   "cell_type": "code",
   "execution_count": null,
   "id": "34d21383-9684-481d-af12-e086b53bdee0",
   "metadata": {},
   "outputs": [],
   "source": [
    "gs_export('AMAT', companies, peer_group)"
   ]
  },
  {
   "cell_type": "markdown",
   "id": "4485124b-3011-44c3-8ed9-00ded834d5e9",
   "metadata": {},
   "source": [
    "<b><i>For admin and file management in Google Drive:</b></i>"
   ]
  },
  {
   "cell_type": "code",
   "execution_count": null,
   "id": "f0d09a09-3d6c-42ef-9c41-e5a2b26d94cd",
   "metadata": {},
   "outputs": [],
   "source": [
    "gc.openall() # Show all spreadsheets owned by the Smelloscope. ID can be used to delete in cell below"
   ]
  },
  {
   "cell_type": "code",
   "execution_count": null,
   "id": "8333436d-e397-49fa-8da1-f2a52ea53659",
   "metadata": {},
   "outputs": [],
   "source": [
    "# Delete a spreadsheet. Insert spreadsheet ID as arg\n",
    "gc.del_spreadsheet('19InrMDrlAS5gSUhw4pncSH1Jaid5Al22T6nw437zuHk')"
   ]
  },
  {
   "cell_type": "code",
   "execution_count": null,
   "id": "b3fd7f7f-a6bd-41a5-8c5e-3d4b2babcc36",
   "metadata": {},
   "outputs": [],
   "source": [
    "# Get list of all spreadsheet names created by Smelloscope app\n",
    "for spreadsheet in gc.list_spreadsheet_files():\n",
    "    print(spreadsheet['name'])"
   ]
  },
  {
   "cell_type": "markdown",
   "id": "6f1084e1-6c0d-48e7-89ec-40364fca95e4",
   "metadata": {},
   "source": [
    "<h2>New PeerGroup Attributes:</h2>"
   ]
  },
  {
   "cell_type": "code",
   "execution_count": null,
   "id": "bf73f399-0830-4cd3-9e53-4514ee19b9b7",
   "metadata": {},
   "outputs": [],
   "source": [
    "# Picks the top scoring stocks from the group based on grand_total. \n",
    "# Number of stocks picked for \"top\" will be 5 if stocks list is >5. \n",
    "# If stocks list >4 but <=5 it'll be top 3. If stocks list >=2 but <3 it will just be top 1.\n",
    "peer_group.top_scores"
   ]
  },
  {
   "cell_type": "code",
   "execution_count": null,
   "id": "457ed953-1e6f-4ced-9ac6-ca486ba2cc15",
   "metadata": {},
   "outputs": [],
   "source": [
    "# Scores seperated by category then company\n",
    "peer_group.category_totals"
   ]
  },
  {
   "cell_type": "code",
   "execution_count": null,
   "id": "97458e1e-dd5e-4879-90b9-0cde6e4a4b7b",
   "metadata": {},
   "outputs": [],
   "source": [
    "# Scores sepereated by company then category\n",
    "peer_group.peer_score_totals"
   ]
  },
  {
   "cell_type": "code",
   "execution_count": null,
   "id": "b82877d2-65b4-47ea-83c3-c0585e8b28fc",
   "metadata": {},
   "outputs": [],
   "source": []
  },
  {
   "cell_type": "code",
   "execution_count": null,
   "id": "803eb25a-f804-44f3-8d09-77b6704de577",
   "metadata": {},
   "outputs": [],
   "source": []
  },
  {
   "cell_type": "code",
   "execution_count": null,
   "id": "71163f21-4272-4c96-a07c-c874b5bc352f",
   "metadata": {},
   "outputs": [],
   "source": []
  },
  {
   "cell_type": "code",
   "execution_count": null,
   "id": "6f2991d9-2c0c-407e-a47e-af8a73fdcac3",
   "metadata": {},
   "outputs": [],
   "source": []
  },
  {
   "cell_type": "code",
   "execution_count": null,
   "id": "6f87cc45-c2c2-4b7b-b418-32c98c6fcac3",
   "metadata": {},
   "outputs": [],
   "source": [
    "## ALL BELOW IS FOR TESTING"
   ]
  },
  {
   "cell_type": "code",
   "execution_count": null,
   "id": "a861d7a7-9465-453d-9f06-8f3d912a0ce5",
   "metadata": {},
   "outputs": [],
   "source": [
    "import gspread\n",
    "gc = gspread.service_account(filename='smelloscope-bf9b919f41a7.json')"
   ]
  },
  {
   "cell_type": "code",
   "execution_count": null,
   "id": "7925fa98-72e4-4ecf-857b-9d4b0456e07d",
   "metadata": {},
   "outputs": [],
   "source": [
    "sh = gc.create(f'TEST1') # creating spreadsheet object\n",
    "print(f'Creating Google Spreadsheet')\n",
    "\n",
    "# sharing via email\n",
    "sh.share('ssrjustin@gmail.com', perm_type='user', role='writer')\n",
    "\n",
    "# Adding worksheets\n",
    "test1 = sh.add_worksheet(title=\"test1\", rows=100, cols=13)"
   ]
  },
  {
   "cell_type": "code",
   "execution_count": null,
   "id": "641d19de-6ec2-40d6-9fc1-7eda645e8e1f",
   "metadata": {},
   "outputs": [],
   "source": [
    "test1.batch_update([{\n",
    "    'range': 'A1:N1',\n",
    "    'values': [values],\n",
    "}, {\n",
    "    'range': 'A2:B2',\n",
    "    'values': [['44', '45']],\n",
    "}])"
   ]
  },
  {
   "cell_type": "code",
   "execution_count": null,
   "id": "a3045a8d-e0a8-447d-a1a7-bf82cd5b873e",
   "metadata": {},
   "outputs": [],
   "source": [
    "\n",
    "# Iterates thru given list of tuples X times. In every iteration, finds max of 2nd element, adds tuple to final_list_of_tuples, and removes it from list_of_tuples before iterating again. \n",
    "def find_X_best_scores(list_of_tuples, X):\n",
    "    final_list_of_tuples = []\n",
    "\n",
    "    # looping through list X times\n",
    "    for i in range(0, X):\n",
    "        maximum = ('', 0)\n",
    "         \n",
    "        # finding the max in current version of alist\n",
    "        for element in range(len(list_of_tuples)):    \n",
    "            if list_of_tuples[element][1] > maximum[1]:\n",
    "                maximum = list_of_tuples[element];\n",
    "                 \n",
    "        # Removing value that was the max from alist before next iteration\n",
    "        list_of_tuples.remove(maximum);\n",
    "        \n",
    "        # Appending the value that was the max to final_list\n",
    "        final_list_of_tuples.append(maximum)\n",
    "         \n",
    "    return final_list_of_tuples"
   ]
  },
  {
   "cell_type": "code",
   "execution_count": null,
   "id": "aefd7aa1-1d0b-4c77-8437-4e01527bce01",
   "metadata": {},
   "outputs": [],
   "source": []
  },
  {
   "cell_type": "code",
   "execution_count": null,
   "id": "00d7c443-0377-459a-aed0-163342ea6543",
   "metadata": {},
   "outputs": [],
   "source": [
    "# Create dictionary containing grand total and category totals for every company\n",
    "peer_score_totals_dict = {}\n",
    "for tick in stocks:\n",
    "    grand_total = companies[tick].score_card['grand_total']\n",
    "    vTotal = companies[tick].score_card['value'].loc['vTotal'][0]\n",
    "    mTotal = companies[tick].score_card['mgmt'].loc['mTotal'][0]\n",
    "    iTotal = companies[tick].score_card['ins'].loc['iTotal'][0]\n",
    "    dTotal = companies[tick].score_card['div'].loc['dTotal'][0]\n",
    "    pTotal = companies[tick].score_card['pub_sent'].loc['pTotal'][0]\n",
    "    aTotal = companies[tick].score_card['analyst_data'].loc['aTotal'][0]\n",
    "    eTotal = companies[tick].score_card['esg'].loc['eTotal'][0]\n",
    "    \n",
    "    \n",
    "    peer_score_totals_dict[tick] = {'grand_total': grand_total, 'vTotal': vTotal, 'mTotal': mTotal, 'iTotal': iTotal, 'dTotal': dTotal, 'pTotal': pTotal, 'aTotal': aTotal, 'eTotal': eTotal}\n",
    "    "
   ]
  },
  {
   "cell_type": "code",
   "execution_count": null,
   "id": "ba0ce58a-85c1-4cd0-9fc9-3171af050b86",
   "metadata": {},
   "outputs": [],
   "source": [
    "peer_score_totals_dict"
   ]
  },
  {
   "cell_type": "code",
   "execution_count": null,
   "id": "e94a0582-0681-4655-a712-a72d024557e0",
   "metadata": {},
   "outputs": [],
   "source": [
    "cat_totals = {'grand_total': [], 'vTotal': [], 'mTotal': [], 'iTotal': [], 'dTotal': [], 'pTotal': [], 'aTotal': [], 'eTotal': []}\n",
    "\n",
    "for tick in peer_score_totals_dict.keys():\n",
    "    for cat in cat_totals.keys():\n",
    "        cat_totals[cat].append((tick, peer_score_totals_dict[tick][cat]))\n",
    "                               \n",
    "\n",
    "\n"
   ]
  },
  {
   "cell_type": "code",
   "execution_count": null,
   "id": "becbfa7b-523b-47fb-8466-7055d4bf70b5",
   "metadata": {},
   "outputs": [],
   "source": [
    "cat_totals"
   ]
  },
  {
   "cell_type": "code",
   "execution_count": null,
   "id": "b585679b-08cb-40d6-a2f7-de52c027dd1f",
   "metadata": {},
   "outputs": [],
   "source": [
    "top_scores = {}\n",
    "for cat in cat_totals.keys():\n",
    "    if len(peer_score_totals_dict.keys()) > 5:\n",
    "        top_scores[cat] = find_X_best_scores(cat_totals[cat], 5)\n",
    "        \n",
    "    elif len(peer_score_totals_dict.keys()) > 3:\n",
    "        top_scores[cat] = find_X_best_scores(cat_totals[cat], 3)\n",
    "        \n",
    "    elif len(peer_score_totals_dict.keys()) >= 2:\n",
    "        top_scores[cat] = find_X_best_scores(cat_totals[cat], 1)\n",
    "        "
   ]
  },
  {
   "cell_type": "code",
   "execution_count": null,
   "id": "975c383e-d033-47ed-be37-e68f1427aa69",
   "metadata": {},
   "outputs": [],
   "source": []
  },
  {
   "cell_type": "code",
   "execution_count": null,
   "id": "5a2dad15-1d0c-494d-9f88-53d4f26a2f20",
   "metadata": {},
   "outputs": [],
   "source": []
  }
 ],
 "metadata": {
  "kernelspec": {
   "display_name": "Python 3 (ipykernel)",
   "language": "python",
   "name": "python3"
  },
  "language_info": {
   "codemirror_mode": {
    "name": "ipython",
    "version": 3
   },
   "file_extension": ".py",
   "mimetype": "text/x-python",
   "name": "python",
   "nbconvert_exporter": "python",
   "pygments_lexer": "ipython3",
   "version": "3.9.13"
  }
 },
 "nbformat": 4,
 "nbformat_minor": 5
}
